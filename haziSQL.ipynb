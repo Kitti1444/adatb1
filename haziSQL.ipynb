{
    "metadata": {
        "kernelspec": {
            "name": "SQL",
            "display_name": "SQL",
            "language": "sql"
        },
        "language_info": {
            "name": "sql",
            "version": ""
        }
    },
    "nbformat_minor": 2,
    "nbformat": 4,
    "cells": [
        {
            "cell_type": "code",
            "source": [
                "--min és max életkor\r\n",
                "SELECT \r\n",
                "    NEV as 'legfiatalabb(ak)',\r\n",
                "    SZULEV\r\n",
                "FROM Ugyfel\r\n",
                "WHERE SZULEV = (SELECT MAX(SZULEV) FROM Ugyfel)\r\n",
                "\r\n",
                "SELECT \r\n",
                "    NEV as 'legidősebb(ek)',\r\n",
                "    SZULEV\r\n",
                "FROM Ugyfel\r\n",
                "WHERE SZULEV = (SELECT MIN(SZULEV) FROM Ugyfel)\r\n",
                ""
            ],
            "metadata": {
                "azdata_cell_guid": "edbb8821-24f5-4aed-8b4b-23326126eb0f",
                "language": "sql",
                "tags": []
            },
            "outputs": [
                {
                    "output_type": "display_data",
                    "data": {
                        "text/html": "(1 row affected)"
                    },
                    "metadata": {}
                },
                {
                    "output_type": "display_data",
                    "data": {
                        "text/html": "(8 rows affected)"
                    },
                    "metadata": {}
                },
                {
                    "output_type": "display_data",
                    "data": {
                        "text/html": "Total execution time: 00:00:00.028"
                    },
                    "metadata": {}
                },
                {
                    "output_type": "execute_result",
                    "metadata": {},
                    "execution_count": 33,
                    "data": {
                        "application/vnd.dataresource+json": {
                            "schema": {
                                "fields": [
                                    {
                                        "name": "legfiatalabb(ak)"
                                    },
                                    {
                                        "name": "SZULEV"
                                    }
                                ]
                            },
                            "data": [
                                {
                                    "legfiatalabb(ak)": "Biró Alexander",
                                    "SZULEV": "2000"
                                }
                            ]
                        },
                        "text/html": [
                            "<table>",
                            "<tr><th>legfiatalabb(ak)</th><th>SZULEV</th></tr>",
                            "<tr><td>Biró Alexander</td><td>2000</td></tr>",
                            "</table>"
                        ]
                    }
                },
                {
                    "output_type": "execute_result",
                    "metadata": {},
                    "execution_count": 33,
                    "data": {
                        "application/vnd.dataresource+json": {
                            "schema": {
                                "fields": [
                                    {
                                        "name": "legidősebb(ek)"
                                    },
                                    {
                                        "name": "SZULEV"
                                    }
                                ]
                            },
                            "data": [
                                {
                                    "legidősebb(ek)": "Hartyánszky Ágnes",
                                    "SZULEV": "1967"
                                },
                                {
                                    "legidősebb(ek)": "Pivarcsi Anett",
                                    "SZULEV": "1967"
                                },
                                {
                                    "legidősebb(ek)": "Enyedi Éva",
                                    "SZULEV": "1967"
                                },
                                {
                                    "legidősebb(ek)": "Bárci Gusztáv",
                                    "SZULEV": "1967"
                                },
                                {
                                    "legidősebb(ek)": "Harangozó János",
                                    "SZULEV": "1967"
                                },
                                {
                                    "legidősebb(ek)": "Farkas László",
                                    "SZULEV": "1967"
                                },
                                {
                                    "legidősebb(ek)": "Iván Róbert",
                                    "SZULEV": "1967"
                                },
                                {
                                    "legidősebb(ek)": "Szalai Szilárd",
                                    "SZULEV": "1967"
                                }
                            ]
                        },
                        "text/html": [
                            "<table>",
                            "<tr><th>legidősebb(ek)</th><th>SZULEV</th></tr>",
                            "<tr><td>Hartyánszky Ágnes</td><td>1967</td></tr>",
                            "<tr><td>Pivarcsi Anett</td><td>1967</td></tr>",
                            "<tr><td>Enyedi Éva</td><td>1967</td></tr>",
                            "<tr><td>Bárci Gusztáv</td><td>1967</td></tr>",
                            "<tr><td>Harangozó János</td><td>1967</td></tr>",
                            "<tr><td>Farkas László</td><td>1967</td></tr>",
                            "<tr><td>Iván Róbert</td><td>1967</td></tr>",
                            "<tr><td>Szalai Szilárd</td><td>1967</td></tr>",
                            "</table>"
                        ]
                    }
                }
            ],
            "execution_count": 33
        },
        {
            "cell_type": "code",
            "source": [
                "--átlagéletkor\r\n",
                "SELECT \r\n",
                "    AVG(YEAR(GETDATE()) - SZULEV) AS 'átlagéletkor'\r\n",
                "FROM Ugyfel"
            ],
            "metadata": {
                "azdata_cell_guid": "6c3a8d8a-da78-4989-a397-a780ca4db597",
                "language": "sql"
            },
            "outputs": [
                {
                    "output_type": "display_data",
                    "data": {
                        "text/html": "(1 row affected)"
                    },
                    "metadata": {}
                },
                {
                    "output_type": "display_data",
                    "data": {
                        "text/html": "Total execution time: 00:00:00.008"
                    },
                    "metadata": {}
                },
                {
                    "output_type": "execute_result",
                    "metadata": {},
                    "execution_count": 35,
                    "data": {
                        "application/vnd.dataresource+json": {
                            "schema": {
                                "fields": [
                                    {
                                        "name": "átlagéletkor"
                                    }
                                ]
                            },
                            "data": [
                                {
                                    "átlagéletkor": "42"
                                }
                            ]
                        },
                        "text/html": [
                            "<table>",
                            "<tr><th>átlagéletkor</th></tr>",
                            "<tr><td>42</td></tr>",
                            "</table>"
                        ]
                    }
                }
            ],
            "execution_count": 35
        },
        {
            "cell_type": "code",
            "source": [
                "-- születési évek eloszlása\r\n",
                "SELECT\r\n",
                "        SZULEV,\r\n",
                "        COUNT(*) AS 'db'\r\n",
                "FROM Ugyfel\r\n",
                "GROUP BY SZULEV\r\n",
                "ORDER BY SZULEV"
            ],
            "metadata": {
                "azdata_cell_guid": "bd168f6f-89e5-4721-ad25-64bc9252ac0e",
                "language": "sql"
            },
            "outputs": [
                {
                    "output_type": "display_data",
                    "data": {
                        "text/html": "(33 rows affected)"
                    },
                    "metadata": {}
                },
                {
                    "output_type": "display_data",
                    "data": {
                        "text/html": "Total execution time: 00:00:00.018"
                    },
                    "metadata": {}
                },
                {
                    "output_type": "execute_result",
                    "metadata": {},
                    "execution_count": 38,
                    "data": {
                        "application/vnd.dataresource+json": {
                            "schema": {
                                "fields": [
                                    {
                                        "name": "SZULEV"
                                    },
                                    {
                                        "name": "db"
                                    }
                                ]
                            },
                            "data": [
                                {
                                    "SZULEV": "1967",
                                    "db": "8"
                                },
                                {
                                    "SZULEV": "1968",
                                    "db": "8"
                                },
                                {
                                    "SZULEV": "1969",
                                    "db": "8"
                                },
                                {
                                    "SZULEV": "1970",
                                    "db": "4"
                                },
                                {
                                    "SZULEV": "1971",
                                    "db": "5"
                                },
                                {
                                    "SZULEV": "1972",
                                    "db": "4"
                                },
                                {
                                    "SZULEV": "1973",
                                    "db": "4"
                                },
                                {
                                    "SZULEV": "1974",
                                    "db": "4"
                                },
                                {
                                    "SZULEV": "1975",
                                    "db": "11"
                                },
                                {
                                    "SZULEV": "1976",
                                    "db": "7"
                                },
                                {
                                    "SZULEV": "1977",
                                    "db": "5"
                                },
                                {
                                    "SZULEV": "1978",
                                    "db": "7"
                                },
                                {
                                    "SZULEV": "1979",
                                    "db": "7"
                                },
                                {
                                    "SZULEV": "1980",
                                    "db": "7"
                                },
                                {
                                    "SZULEV": "1981",
                                    "db": "4"
                                },
                                {
                                    "SZULEV": "1982",
                                    "db": "4"
                                },
                                {
                                    "SZULEV": "1983",
                                    "db": "8"
                                },
                                {
                                    "SZULEV": "1984",
                                    "db": "8"
                                },
                                {
                                    "SZULEV": "1985",
                                    "db": "6"
                                },
                                {
                                    "SZULEV": "1986",
                                    "db": "9"
                                },
                                {
                                    "SZULEV": "1987",
                                    "db": "5"
                                },
                                {
                                    "SZULEV": "1988",
                                    "db": "6"
                                },
                                {
                                    "SZULEV": "1989",
                                    "db": "7"
                                },
                                {
                                    "SZULEV": "1990",
                                    "db": "8"
                                },
                                {
                                    "SZULEV": "1991",
                                    "db": "6"
                                },
                                {
                                    "SZULEV": "1992",
                                    "db": "4"
                                },
                                {
                                    "SZULEV": "1993",
                                    "db": "5"
                                },
                                {
                                    "SZULEV": "1994",
                                    "db": "3"
                                },
                                {
                                    "SZULEV": "1995",
                                    "db": "6"
                                },
                                {
                                    "SZULEV": "1996",
                                    "db": "7"
                                },
                                {
                                    "SZULEV": "1997",
                                    "db": "12"
                                },
                                {
                                    "SZULEV": "1998",
                                    "db": "2"
                                },
                                {
                                    "SZULEV": "2000",
                                    "db": "1"
                                }
                            ]
                        },
                        "text/html": [
                            "<table>",
                            "<tr><th>SZULEV</th><th>db</th></tr>",
                            "<tr><td>1967</td><td>8</td></tr>",
                            "<tr><td>1968</td><td>8</td></tr>",
                            "<tr><td>1969</td><td>8</td></tr>",
                            "<tr><td>1970</td><td>4</td></tr>",
                            "<tr><td>1971</td><td>5</td></tr>",
                            "<tr><td>1972</td><td>4</td></tr>",
                            "<tr><td>1973</td><td>4</td></tr>",
                            "<tr><td>1974</td><td>4</td></tr>",
                            "<tr><td>1975</td><td>11</td></tr>",
                            "<tr><td>1976</td><td>7</td></tr>",
                            "<tr><td>1977</td><td>5</td></tr>",
                            "<tr><td>1978</td><td>7</td></tr>",
                            "<tr><td>1979</td><td>7</td></tr>",
                            "<tr><td>1980</td><td>7</td></tr>",
                            "<tr><td>1981</td><td>4</td></tr>",
                            "<tr><td>1982</td><td>4</td></tr>",
                            "<tr><td>1983</td><td>8</td></tr>",
                            "<tr><td>1984</td><td>8</td></tr>",
                            "<tr><td>1985</td><td>6</td></tr>",
                            "<tr><td>1986</td><td>9</td></tr>",
                            "<tr><td>1987</td><td>5</td></tr>",
                            "<tr><td>1988</td><td>6</td></tr>",
                            "<tr><td>1989</td><td>7</td></tr>",
                            "<tr><td>1990</td><td>8</td></tr>",
                            "<tr><td>1991</td><td>6</td></tr>",
                            "<tr><td>1992</td><td>4</td></tr>",
                            "<tr><td>1993</td><td>5</td></tr>",
                            "<tr><td>1994</td><td>3</td></tr>",
                            "<tr><td>1995</td><td>6</td></tr>",
                            "<tr><td>1996</td><td>7</td></tr>",
                            "<tr><td>1997</td><td>12</td></tr>",
                            "<tr><td>1998</td><td>2</td></tr>",
                            "<tr><td>2000</td><td>1</td></tr>",
                            "</table>"
                        ]
                    }
                }
            ],
            "execution_count": 38
        },
        {
            "cell_type": "code",
            "source": [
                "--nemek aránya/megoszlása\r\n",
                "SELECT \r\n",
                "    NEM,\r\n",
                "    COUNT(*) AS 'fő',\r\n",
                "    CAST(ROUND(COUNT(*) * 100.0 / (SELECT COUNT(*) FROM Ugyfel), 1) AS decimal(18,2)) AS 'arány (%)'\r\n",
                "FROM Ugyfel\r\n",
                "WHERE NEM IN ('N', 'F')\r\n",
                "GROUP BY NEM\r\n",
                ""
            ],
            "metadata": {
                "azdata_cell_guid": "43cf70d7-e056-4448-bf4c-2034daa5af88",
                "language": "sql"
            },
            "outputs": [
                {
                    "output_type": "display_data",
                    "data": {
                        "text/html": "(2 rows affected)"
                    },
                    "metadata": {}
                },
                {
                    "output_type": "display_data",
                    "data": {
                        "text/html": "Total execution time: 00:00:00.020"
                    },
                    "metadata": {}
                },
                {
                    "output_type": "execute_result",
                    "metadata": {},
                    "execution_count": 11,
                    "data": {
                        "application/vnd.dataresource+json": {
                            "schema": {
                                "fields": [
                                    {
                                        "name": "NEM"
                                    },
                                    {
                                        "name": "fő"
                                    },
                                    {
                                        "name": "arány (%)"
                                    }
                                ]
                            },
                            "data": [
                                {
                                    "NEM": "F",
                                    "fő": "119",
                                    "arány (%)": "59.50"
                                },
                                {
                                    "NEM": "N",
                                    "fő": "81",
                                    "arány (%)": "40.50"
                                }
                            ]
                        },
                        "text/html": [
                            "<table>",
                            "<tr><th>NEM</th><th>fő</th><th>arány (%)</th></tr>",
                            "<tr><td>F</td><td>119</td><td>59.50</td></tr>",
                            "<tr><td>N</td><td>81</td><td>40.50</td></tr>",
                            "</table>"
                        ]
                    }
                }
            ],
            "execution_count": 11
        }
    ]
}