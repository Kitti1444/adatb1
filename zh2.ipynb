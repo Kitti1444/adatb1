{
    "metadata": {
        "kernelspec": {
            "name": "SQL",
            "display_name": "SQL",
            "language": "sql"
        },
        "language_info": {
            "name": "sql",
            "version": ""
        }
    },
    "nbformat_minor": 2,
    "nbformat": 4,
    "cells": [
        {
            "cell_type": "code",
            "source": [
                "WITH bolondosbooking AS(\r\n",
                "SELECT SZ.SZOBA_ID,\r\n",
                "F.METTOL,\r\n",
                "F.MEDDIG,\r\n",
                "DATEDIFF(DAY, F.METTOL, F.MEDDIG) AS FOGLALAS_IDOTARTAM,\r\n",
                "LAG(DATEDIFF(DAY, F.METTOL, F.MEDDIG), 1, 0) OVER (\r\n",
                "    PARTITION BY SZ.SZOBA_ID\r\n",
                "    ORDER BY F.METTOL\r\n",
                ") AS ELOZO_FOGLALAS_IDOTARTAM\r\n",
                "FROM FOGLALAS F \r\n",
                "JOIN SZOBA SZ ON F.SZOBA_FK = SZ.SZOBA_ID\r\n",
                ")\r\n",
                "SELECT SZOBA_ID,\r\n",
                "FOGLALAS_IDOTARTAM,\r\n",
                "ELOZO_FOGLALAS_IDOTARTAM\r\n",
                "FROM bolondosbooking\r\n",
                "ORDER BY SZOBA_ID, METTOL"
            ],
            "metadata": {
                "azdata_cell_guid": "8da915f8-9495-4808-9e9e-b3a5f05e1175",
                "language": "sql",
                "tags": []
            },
            "outputs": [
                {
                    "output_type": "display_data",
                    "data": {
                        "text/html": "(1027 rows affected)"
                    },
                    "metadata": {}
                },
                {
                    "output_type": "display_data",
                    "data": {
                        "text/html": "Total execution time: 00:00:00.016"
                    },
                    "metadata": {}
                },
                {
                    "output_type": "execute_result",
                    "metadata": {},
                    "execution_count": 8,
                    "data": {
                        "application/vnd.dataresource+json": {
                            "schema": {
                                "fields": [
                                    {
                                        "name": "SZOBA_ID"
                                    },
                                    {
                                        "name": "FOGLALAS_IDOTARTAM"
                                    },
                                    {
                                        "name": "ELOZO_FOGLALAS_IDOTARTAM"
                                    }
                                ]
                            },
                            "data": [
                                {
                                    "SZOBA_ID": "1",
                                    "FOGLALAS_IDOTARTAM": "5",
                                    "ELOZO_FOGLALAS_IDOTARTAM": "0"
                                },
                                {
                                    "SZOBA_ID": "1",
                                    "FOGLALAS_IDOTARTAM": "1",
                                    "ELOZO_FOGLALAS_IDOTARTAM": "5"
                                },
                                {
                                    "SZOBA_ID": "1",
                                    "FOGLALAS_IDOTARTAM": "7",
                                    "ELOZO_FOGLALAS_IDOTARTAM": "1"
                                },
                                {
                                    "SZOBA_ID": "1",
                                    "FOGLALAS_IDOTARTAM": "4",
                                    "ELOZO_FOGLALAS_IDOTARTAM": "7"
                                },
                                {
                                    "SZOBA_ID": "1",
                                    "FOGLALAS_IDOTARTAM": "2",
                                    "ELOZO_FOGLALAS_IDOTARTAM": "4"
                                },
                                {
                                    "SZOBA_ID": "1",
                                    "FOGLALAS_IDOTARTAM": "1",
                                    "ELOZO_FOGLALAS_IDOTARTAM": "2"
                                },
                                {
                                    "SZOBA_ID": "1",
                                    "FOGLALAS_IDOTARTAM": "1",
                                    "ELOZO_FOGLALAS_IDOTARTAM": "1"
                                },
                                {
                                    "SZOBA_ID": "1",
                                    "FOGLALAS_IDOTARTAM": "4",
                                    "ELOZO_FOGLALAS_IDOTARTAM": "1"
                                },
                                {
                                    "SZOBA_ID": "2",
                                    "FOGLALAS_IDOTARTAM": "3",
                                    "ELOZO_FOGLALAS_IDOTARTAM": "0"
                                },
                                {
                                    "SZOBA_ID": "2",
                                    "FOGLALAS_IDOTARTAM": "1",
                                    "ELOZO_FOGLALAS_IDOTARTAM": "3"
                                },
                                {
                                    "SZOBA_ID": "2",
                                    "FOGLALAS_IDOTARTAM": "7",
                                    "ELOZO_FOGLALAS_IDOTARTAM": "1"
                                },
                                {
                                    "SZOBA_ID": "2",
                                    "FOGLALAS_IDOTARTAM": "7",
                                    "ELOZO_FOGLALAS_IDOTARTAM": "7"
                                },
                                {
                                    "SZOBA_ID": "3",
                                    "FOGLALAS_IDOTARTAM": "4",
                                    "ELOZO_FOGLALAS_IDOTARTAM": "0"
                                },
                                {
                                    "SZOBA_ID": "3",
                                    "FOGLALAS_IDOTARTAM": "6",
                                    "ELOZO_FOGLALAS_IDOTARTAM": "4"
                                },
                                {
                                    "SZOBA_ID": "3",
                                    "FOGLALAS_IDOTARTAM": "6",
                                    "ELOZO_FOGLALAS_IDOTARTAM": "6"
                                },
                                {
                                    "SZOBA_ID": "3",
                                    "FOGLALAS_IDOTARTAM": "3",
                                    "ELOZO_FOGLALAS_IDOTARTAM": "6"
                                },
                                {
                                    "SZOBA_ID": "3",
                                    "FOGLALAS_IDOTARTAM": "7",
                                    "ELOZO_FOGLALAS_IDOTARTAM": "3"
                                },
                                {
                                    "SZOBA_ID": "3",
                                    "FOGLALAS_IDOTARTAM": "1",
                                    "ELOZO_FOGLALAS_IDOTARTAM": "7"
                                },
                                {
                                    "SZOBA_ID": "3",
                                    "FOGLALAS_IDOTARTAM": "5",
                                    "ELOZO_FOGLALAS_IDOTARTAM": "1"
                                },
                                {
                                    "SZOBA_ID": "3",
                                    "FOGLALAS_IDOTARTAM": "5",
                                    "ELOZO_FOGLALAS_IDOTARTAM": "5"
                                },
                                {
                                    "SZOBA_ID": "4",
                                    "FOGLALAS_IDOTARTAM": "7",
                                    "ELOZO_FOGLALAS_IDOTARTAM": "0"
                                },
                                {
                                    "SZOBA_ID": "4",
                                    "FOGLALAS_IDOTARTAM": "5",
                                    "ELOZO_FOGLALAS_IDOTARTAM": "7"
                                },
                                {
                                    "SZOBA_ID": "4",
                                    "FOGLALAS_IDOTARTAM": "7",
                                    "ELOZO_FOGLALAS_IDOTARTAM": "5"
                                },
                                {
                                    "SZOBA_ID": "4",
                                    "FOGLALAS_IDOTARTAM": "3",
                                    "ELOZO_FOGLALAS_IDOTARTAM": "7"
                                },
                                {
                                    "SZOBA_ID": "4",
                                    "FOGLALAS_IDOTARTAM": "6",
                                    "ELOZO_FOGLALAS_IDOTARTAM": "3"
                                },
                                {
                                    "SZOBA_ID": "4",
                                    "FOGLALAS_IDOTARTAM": "6",
                                    "ELOZO_FOGLALAS_IDOTARTAM": "6"
                                },
                                {
                                    "SZOBA_ID": "5",
                                    "FOGLALAS_IDOTARTAM": "2",
                                    "ELOZO_FOGLALAS_IDOTARTAM": "0"
                                },
                                {
                                    "SZOBA_ID": "5",
                                    "FOGLALAS_IDOTARTAM": "7",
                                    "ELOZO_FOGLALAS_IDOTARTAM": "2"
                                },
                                {
                                    "SZOBA_ID": "5",
                                    "FOGLALAS_IDOTARTAM": "5",
                                    "ELOZO_FOGLALAS_IDOTARTAM": "7"
                                },
                                {
                                    "SZOBA_ID": "5",
                                    "FOGLALAS_IDOTARTAM": "3",
                                    "ELOZO_FOGLALAS_IDOTARTAM": "5"
                                },
                                {
                                    "SZOBA_ID": "6",
                                    "FOGLALAS_IDOTARTAM": "6",
                                    "ELOZO_FOGLALAS_IDOTARTAM": "0"
                                },
                                {
                                    "SZOBA_ID": "6",
                                    "FOGLALAS_IDOTARTAM": "3",
                                    "ELOZO_FOGLALAS_IDOTARTAM": "6"
                                },
                                {
                                    "SZOBA_ID": "6",
                                    "FOGLALAS_IDOTARTAM": "4",
                                    "ELOZO_FOGLALAS_IDOTARTAM": "3"
                                },
                                {
                                    "SZOBA_ID": "6",
                                    "FOGLALAS_IDOTARTAM": "6",
                                    "ELOZO_FOGLALAS_IDOTARTAM": "4"
                                },
                                {
                                    "SZOBA_ID": "6",
                                    "FOGLALAS_IDOTARTAM": "2",
                                    "ELOZO_FOGLALAS_IDOTARTAM": "6"
                                },
                                {
                                    "SZOBA_ID": "6",
                                    "FOGLALAS_IDOTARTAM": "4",
                                    "ELOZO_FOGLALAS_IDOTARTAM": "2"
                                },
                                {
                                    "SZOBA_ID": "7",
                                    "FOGLALAS_IDOTARTAM": "4",
                                    "ELOZO_FOGLALAS_IDOTARTAM": "0"
                                },
                                {
                                    "SZOBA_ID": "7",
                                    "FOGLALAS_IDOTARTAM": "7",
                                    "ELOZO_FOGLALAS_IDOTARTAM": "4"
                                },
                                {
                                    "SZOBA_ID": "7",
                                    "FOGLALAS_IDOTARTAM": "1",
                                    "ELOZO_FOGLALAS_IDOTARTAM": "7"
                                },
                                {
                                    "SZOBA_ID": "7",
                                    "FOGLALAS_IDOTARTAM": "4",
                                    "ELOZO_FOGLALAS_IDOTARTAM": "1"
                                },
                                {
                                    "SZOBA_ID": "7",
                                    "FOGLALAS_IDOTARTAM": "4",
                                    "ELOZO_FOGLALAS_IDOTARTAM": "4"
                                },
                                {
                                    "SZOBA_ID": "7",
                                    "FOGLALAS_IDOTARTAM": "2",
                                    "ELOZO_FOGLALAS_IDOTARTAM": "4"
                                },
                                {
                                    "SZOBA_ID": "8",
                                    "FOGLALAS_IDOTARTAM": "1",
                                    "ELOZO_FOGLALAS_IDOTARTAM": "0"
                                },
                                {
                                    "SZOBA_ID": "8",
                                    "FOGLALAS_IDOTARTAM": "3",
                                    "ELOZO_FOGLALAS_IDOTARTAM": "1"
                                },
                                {
                                    "SZOBA_ID": "8",
                                    "FOGLALAS_IDOTARTAM": "4",
                                    "ELOZO_FOGLALAS_IDOTARTAM": "3"
                                },
                                {
                                    "SZOBA_ID": "8",
                                    "FOGLALAS_IDOTARTAM": "4",
                                    "ELOZO_FOGLALAS_IDOTARTAM": "4"
                                },
                                {
                                    "SZOBA_ID": "8",
                                    "FOGLALAS_IDOTARTAM": "4",
                                    "ELOZO_FOGLALAS_IDOTARTAM": "4"
                                },
                                {
                                    "SZOBA_ID": "9",
                                    "FOGLALAS_IDOTARTAM": "2",
                                    "ELOZO_FOGLALAS_IDOTARTAM": "0"
                                },
                                {
                                    "SZOBA_ID": "9",
                                    "FOGLALAS_IDOTARTAM": "6",
                                    "ELOZO_FOGLALAS_IDOTARTAM": "2"
                                },
                                {
                                    "SZOBA_ID": "9",
                                    "FOGLALAS_IDOTARTAM": "3",
                                    "ELOZO_FOGLALAS_IDOTARTAM": "6"
                                },
                                {
                                    "SZOBA_ID": "9",
                                    "FOGLALAS_IDOTARTAM": "6",
                                    "ELOZO_FOGLALAS_IDOTARTAM": "3"
                                },
                                {
                                    "SZOBA_ID": "9",
                                    "FOGLALAS_IDOTARTAM": "3",
                                    "ELOZO_FOGLALAS_IDOTARTAM": "6"
                                },
                                {
                                    "SZOBA_ID": "9",
                                    "FOGLALAS_IDOTARTAM": "3",
                                    "ELOZO_FOGLALAS_IDOTARTAM": "3"
                                },
                                {
                                    "SZOBA_ID": "10",
                                    "FOGLALAS_IDOTARTAM": "3",
                                    "ELOZO_FOGLALAS_IDOTARTAM": "0"
                                },
                                {
                                    "SZOBA_ID": "10",
                                    "FOGLALAS_IDOTARTAM": "5",
                                    "ELOZO_FOGLALAS_IDOTARTAM": "3"
                                },
                                {
                                    "SZOBA_ID": "10",
                                    "FOGLALAS_IDOTARTAM": "4",
                                    "ELOZO_FOGLALAS_IDOTARTAM": "5"
                                },
                                {
                                    "SZOBA_ID": "10",
                                    "FOGLALAS_IDOTARTAM": "6",
                                    "ELOZO_FOGLALAS_IDOTARTAM": "4"
                                },
                                {
                                    "SZOBA_ID": "11",
                                    "FOGLALAS_IDOTARTAM": "6",
                                    "ELOZO_FOGLALAS_IDOTARTAM": "0"
                                },
                                {
                                    "SZOBA_ID": "11",
                                    "FOGLALAS_IDOTARTAM": "5",
                                    "ELOZO_FOGLALAS_IDOTARTAM": "6"
                                },
                                {
                                    "SZOBA_ID": "11",
                                    "FOGLALAS_IDOTARTAM": "1",
                                    "ELOZO_FOGLALAS_IDOTARTAM": "5"
                                },
                                {
                                    "SZOBA_ID": "11",
                                    "FOGLALAS_IDOTARTAM": "1",
                                    "ELOZO_FOGLALAS_IDOTARTAM": "1"
                                },
                                {
                                    "SZOBA_ID": "12",
                                    "FOGLALAS_IDOTARTAM": "7",
                                    "ELOZO_FOGLALAS_IDOTARTAM": "0"
                                },
                                {
                                    "SZOBA_ID": "12",
                                    "FOGLALAS_IDOTARTAM": "3",
                                    "ELOZO_FOGLALAS_IDOTARTAM": "7"
                                },
                                {
                                    "SZOBA_ID": "12",
                                    "FOGLALAS_IDOTARTAM": "2",
                                    "ELOZO_FOGLALAS_IDOTARTAM": "3"
                                },
                                {
                                    "SZOBA_ID": "12",
                                    "FOGLALAS_IDOTARTAM": "5",
                                    "ELOZO_FOGLALAS_IDOTARTAM": "2"
                                },
                                {
                                    "SZOBA_ID": "12",
                                    "FOGLALAS_IDOTARTAM": "2",
                                    "ELOZO_FOGLALAS_IDOTARTAM": "5"
                                },
                                {
                                    "SZOBA_ID": "12",
                                    "FOGLALAS_IDOTARTAM": "4",
                                    "ELOZO_FOGLALAS_IDOTARTAM": "2"
                                },
                                {
                                    "SZOBA_ID": "12",
                                    "FOGLALAS_IDOTARTAM": "3",
                                    "ELOZO_FOGLALAS_IDOTARTAM": "4"
                                },
                                {
                                    "SZOBA_ID": "12",
                                    "FOGLALAS_IDOTARTAM": "5",
                                    "ELOZO_FOGLALAS_IDOTARTAM": "3"
                                },
                                {
                                    "SZOBA_ID": "12",
                                    "FOGLALAS_IDOTARTAM": "2",
                                    "ELOZO_FOGLALAS_IDOTARTAM": "5"
                                },
                                {
                                    "SZOBA_ID": "13",
                                    "FOGLALAS_IDOTARTAM": "4",
                                    "ELOZO_FOGLALAS_IDOTARTAM": "0"
                                },
                                {
                                    "SZOBA_ID": "13",
                                    "FOGLALAS_IDOTARTAM": "6",
                                    "ELOZO_FOGLALAS_IDOTARTAM": "4"
                                },
                                {
                                    "SZOBA_ID": "13",
                                    "FOGLALAS_IDOTARTAM": "3",
                                    "ELOZO_FOGLALAS_IDOTARTAM": "6"
                                },
                                {
                                    "SZOBA_ID": "13",
                                    "FOGLALAS_IDOTARTAM": "2",
                                    "ELOZO_FOGLALAS_IDOTARTAM": "3"
                                },
                                {
                                    "SZOBA_ID": "14",
                                    "FOGLALAS_IDOTARTAM": "1",
                                    "ELOZO_FOGLALAS_IDOTARTAM": "0"
                                },
                                {
                                    "SZOBA_ID": "14",
                                    "FOGLALAS_IDOTARTAM": "3",
                                    "ELOZO_FOGLALAS_IDOTARTAM": "1"
                                },
                                {
                                    "SZOBA_ID": "14",
                                    "FOGLALAS_IDOTARTAM": "4",
                                    "ELOZO_FOGLALAS_IDOTARTAM": "3"
                                },
                                {
                                    "SZOBA_ID": "15",
                                    "FOGLALAS_IDOTARTAM": "2",
                                    "ELOZO_FOGLALAS_IDOTARTAM": "0"
                                },
                                {
                                    "SZOBA_ID": "15",
                                    "FOGLALAS_IDOTARTAM": "5",
                                    "ELOZO_FOGLALAS_IDOTARTAM": "2"
                                },
                                {
                                    "SZOBA_ID": "15",
                                    "FOGLALAS_IDOTARTAM": "4",
                                    "ELOZO_FOGLALAS_IDOTARTAM": "5"
                                },
                                {
                                    "SZOBA_ID": "15",
                                    "FOGLALAS_IDOTARTAM": "1",
                                    "ELOZO_FOGLALAS_IDOTARTAM": "4"
                                },
                                {
                                    "SZOBA_ID": "15",
                                    "FOGLALAS_IDOTARTAM": "4",
                                    "ELOZO_FOGLALAS_IDOTARTAM": "1"
                                },
                                {
                                    "SZOBA_ID": "15",
                                    "FOGLALAS_IDOTARTAM": "3",
                                    "ELOZO_FOGLALAS_IDOTARTAM": "4"
                                },
                                {
                                    "SZOBA_ID": "16",
                                    "FOGLALAS_IDOTARTAM": "6",
                                    "ELOZO_FOGLALAS_IDOTARTAM": "0"
                                },
                                {
                                    "SZOBA_ID": "16",
                                    "FOGLALAS_IDOTARTAM": "1",
                                    "ELOZO_FOGLALAS_IDOTARTAM": "6"
                                },
                                {
                                    "SZOBA_ID": "16",
                                    "FOGLALAS_IDOTARTAM": "1",
                                    "ELOZO_FOGLALAS_IDOTARTAM": "1"
                                },
                                {
                                    "SZOBA_ID": "16",
                                    "FOGLALAS_IDOTARTAM": "3",
                                    "ELOZO_FOGLALAS_IDOTARTAM": "1"
                                },
                                {
                                    "SZOBA_ID": "16",
                                    "FOGLALAS_IDOTARTAM": "7",
                                    "ELOZO_FOGLALAS_IDOTARTAM": "3"
                                },
                                {
                                    "SZOBA_ID": "17",
                                    "FOGLALAS_IDOTARTAM": "6",
                                    "ELOZO_FOGLALAS_IDOTARTAM": "0"
                                },
                                {
                                    "SZOBA_ID": "17",
                                    "FOGLALAS_IDOTARTAM": "2",
                                    "ELOZO_FOGLALAS_IDOTARTAM": "6"
                                },
                                {
                                    "SZOBA_ID": "17",
                                    "FOGLALAS_IDOTARTAM": "6",
                                    "ELOZO_FOGLALAS_IDOTARTAM": "2"
                                },
                                {
                                    "SZOBA_ID": "17",
                                    "FOGLALAS_IDOTARTAM": "1",
                                    "ELOZO_FOGLALAS_IDOTARTAM": "6"
                                },
                                {
                                    "SZOBA_ID": "17",
                                    "FOGLALAS_IDOTARTAM": "5",
                                    "ELOZO_FOGLALAS_IDOTARTAM": "1"
                                },
                                {
                                    "SZOBA_ID": "17",
                                    "FOGLALAS_IDOTARTAM": "3",
                                    "ELOZO_FOGLALAS_IDOTARTAM": "5"
                                },
                                {
                                    "SZOBA_ID": "18",
                                    "FOGLALAS_IDOTARTAM": "3",
                                    "ELOZO_FOGLALAS_IDOTARTAM": "0"
                                },
                                {
                                    "SZOBA_ID": "18",
                                    "FOGLALAS_IDOTARTAM": "3",
                                    "ELOZO_FOGLALAS_IDOTARTAM": "3"
                                },
                                {
                                    "SZOBA_ID": "18",
                                    "FOGLALAS_IDOTARTAM": "6",
                                    "ELOZO_FOGLALAS_IDOTARTAM": "3"
                                },
                                {
                                    "SZOBA_ID": "18",
                                    "FOGLALAS_IDOTARTAM": "6",
                                    "ELOZO_FOGLALAS_IDOTARTAM": "6"
                                },
                                {
                                    "SZOBA_ID": "18",
                                    "FOGLALAS_IDOTARTAM": "4",
                                    "ELOZO_FOGLALAS_IDOTARTAM": "6"
                                },
                                {
                                    "SZOBA_ID": "18",
                                    "FOGLALAS_IDOTARTAM": "6",
                                    "ELOZO_FOGLALAS_IDOTARTAM": "4"
                                },
                                {
                                    "SZOBA_ID": "19",
                                    "FOGLALAS_IDOTARTAM": "2",
                                    "ELOZO_FOGLALAS_IDOTARTAM": "0"
                                },
                                {
                                    "SZOBA_ID": "19",
                                    "FOGLALAS_IDOTARTAM": "1",
                                    "ELOZO_FOGLALAS_IDOTARTAM": "2"
                                },
                                {
                                    "SZOBA_ID": "19",
                                    "FOGLALAS_IDOTARTAM": "1",
                                    "ELOZO_FOGLALAS_IDOTARTAM": "1"
                                },
                                {
                                    "SZOBA_ID": "19",
                                    "FOGLALAS_IDOTARTAM": "7",
                                    "ELOZO_FOGLALAS_IDOTARTAM": "1"
                                },
                                {
                                    "SZOBA_ID": "19",
                                    "FOGLALAS_IDOTARTAM": "1",
                                    "ELOZO_FOGLALAS_IDOTARTAM": "7"
                                },
                                {
                                    "SZOBA_ID": "19",
                                    "FOGLALAS_IDOTARTAM": "1",
                                    "ELOZO_FOGLALAS_IDOTARTAM": "1"
                                },
                                {
                                    "SZOBA_ID": "20",
                                    "FOGLALAS_IDOTARTAM": "6",
                                    "ELOZO_FOGLALAS_IDOTARTAM": "0"
                                },
                                {
                                    "SZOBA_ID": "20",
                                    "FOGLALAS_IDOTARTAM": "1",
                                    "ELOZO_FOGLALAS_IDOTARTAM": "6"
                                },
                                {
                                    "SZOBA_ID": "20",
                                    "FOGLALAS_IDOTARTAM": "1",
                                    "ELOZO_FOGLALAS_IDOTARTAM": "1"
                                },
                                {
                                    "SZOBA_ID": "20",
                                    "FOGLALAS_IDOTARTAM": "5",
                                    "ELOZO_FOGLALAS_IDOTARTAM": "1"
                                },
                                {
                                    "SZOBA_ID": "20",
                                    "FOGLALAS_IDOTARTAM": "2",
                                    "ELOZO_FOGLALAS_IDOTARTAM": "5"
                                },
                                {
                                    "SZOBA_ID": "21",
                                    "FOGLALAS_IDOTARTAM": "6",
                                    "ELOZO_FOGLALAS_IDOTARTAM": "0"
                                },
                                {
                                    "SZOBA_ID": "21",
                                    "FOGLALAS_IDOTARTAM": "5",
                                    "ELOZO_FOGLALAS_IDOTARTAM": "6"
                                },
                                {
                                    "SZOBA_ID": "21",
                                    "FOGLALAS_IDOTARTAM": "1",
                                    "ELOZO_FOGLALAS_IDOTARTAM": "5"
                                },
                                {
                                    "SZOBA_ID": "21",
                                    "FOGLALAS_IDOTARTAM": "6",
                                    "ELOZO_FOGLALAS_IDOTARTAM": "1"
                                },
                                {
                                    "SZOBA_ID": "22",
                                    "FOGLALAS_IDOTARTAM": "1",
                                    "ELOZO_FOGLALAS_IDOTARTAM": "0"
                                },
                                {
                                    "SZOBA_ID": "22",
                                    "FOGLALAS_IDOTARTAM": "3",
                                    "ELOZO_FOGLALAS_IDOTARTAM": "1"
                                },
                                {
                                    "SZOBA_ID": "22",
                                    "FOGLALAS_IDOTARTAM": "1",
                                    "ELOZO_FOGLALAS_IDOTARTAM": "3"
                                },
                                {
                                    "SZOBA_ID": "22",
                                    "FOGLALAS_IDOTARTAM": "6",
                                    "ELOZO_FOGLALAS_IDOTARTAM": "1"
                                },
                                {
                                    "SZOBA_ID": "22",
                                    "FOGLALAS_IDOTARTAM": "7",
                                    "ELOZO_FOGLALAS_IDOTARTAM": "6"
                                },
                                {
                                    "SZOBA_ID": "22",
                                    "FOGLALAS_IDOTARTAM": "3",
                                    "ELOZO_FOGLALAS_IDOTARTAM": "7"
                                },
                                {
                                    "SZOBA_ID": "23",
                                    "FOGLALAS_IDOTARTAM": "1",
                                    "ELOZO_FOGLALAS_IDOTARTAM": "0"
                                },
                                {
                                    "SZOBA_ID": "23",
                                    "FOGLALAS_IDOTARTAM": "7",
                                    "ELOZO_FOGLALAS_IDOTARTAM": "1"
                                },
                                {
                                    "SZOBA_ID": "23",
                                    "FOGLALAS_IDOTARTAM": "1",
                                    "ELOZO_FOGLALAS_IDOTARTAM": "7"
                                },
                                {
                                    "SZOBA_ID": "24",
                                    "FOGLALAS_IDOTARTAM": "2",
                                    "ELOZO_FOGLALAS_IDOTARTAM": "0"
                                },
                                {
                                    "SZOBA_ID": "24",
                                    "FOGLALAS_IDOTARTAM": "1",
                                    "ELOZO_FOGLALAS_IDOTARTAM": "2"
                                },
                                {
                                    "SZOBA_ID": "24",
                                    "FOGLALAS_IDOTARTAM": "3",
                                    "ELOZO_FOGLALAS_IDOTARTAM": "1"
                                },
                                {
                                    "SZOBA_ID": "25",
                                    "FOGLALAS_IDOTARTAM": "3",
                                    "ELOZO_FOGLALAS_IDOTARTAM": "0"
                                },
                                {
                                    "SZOBA_ID": "25",
                                    "FOGLALAS_IDOTARTAM": "2",
                                    "ELOZO_FOGLALAS_IDOTARTAM": "3"
                                },
                                {
                                    "SZOBA_ID": "26",
                                    "FOGLALAS_IDOTARTAM": "2",
                                    "ELOZO_FOGLALAS_IDOTARTAM": "0"
                                },
                                {
                                    "SZOBA_ID": "26",
                                    "FOGLALAS_IDOTARTAM": "3",
                                    "ELOZO_FOGLALAS_IDOTARTAM": "2"
                                },
                                {
                                    "SZOBA_ID": "27",
                                    "FOGLALAS_IDOTARTAM": "3",
                                    "ELOZO_FOGLALAS_IDOTARTAM": "0"
                                },
                                {
                                    "SZOBA_ID": "27",
                                    "FOGLALAS_IDOTARTAM": "2",
                                    "ELOZO_FOGLALAS_IDOTARTAM": "3"
                                },
                                {
                                    "SZOBA_ID": "27",
                                    "FOGLALAS_IDOTARTAM": "2",
                                    "ELOZO_FOGLALAS_IDOTARTAM": "2"
                                },
                                {
                                    "SZOBA_ID": "27",
                                    "FOGLALAS_IDOTARTAM": "5",
                                    "ELOZO_FOGLALAS_IDOTARTAM": "2"
                                },
                                {
                                    "SZOBA_ID": "27",
                                    "FOGLALAS_IDOTARTAM": "6",
                                    "ELOZO_FOGLALAS_IDOTARTAM": "5"
                                },
                                {
                                    "SZOBA_ID": "27",
                                    "FOGLALAS_IDOTARTAM": "1",
                                    "ELOZO_FOGLALAS_IDOTARTAM": "6"
                                },
                                {
                                    "SZOBA_ID": "27",
                                    "FOGLALAS_IDOTARTAM": "1",
                                    "ELOZO_FOGLALAS_IDOTARTAM": "1"
                                },
                                {
                                    "SZOBA_ID": "28",
                                    "FOGLALAS_IDOTARTAM": "5",
                                    "ELOZO_FOGLALAS_IDOTARTAM": "0"
                                },
                                {
                                    "SZOBA_ID": "28",
                                    "FOGLALAS_IDOTARTAM": "4",
                                    "ELOZO_FOGLALAS_IDOTARTAM": "5"
                                },
                                {
                                    "SZOBA_ID": "28",
                                    "FOGLALAS_IDOTARTAM": "4",
                                    "ELOZO_FOGLALAS_IDOTARTAM": "4"
                                },
                                {
                                    "SZOBA_ID": "28",
                                    "FOGLALAS_IDOTARTAM": "5",
                                    "ELOZO_FOGLALAS_IDOTARTAM": "4"
                                },
                                {
                                    "SZOBA_ID": "28",
                                    "FOGLALAS_IDOTARTAM": "6",
                                    "ELOZO_FOGLALAS_IDOTARTAM": "5"
                                },
                                {
                                    "SZOBA_ID": "28",
                                    "FOGLALAS_IDOTARTAM": "2",
                                    "ELOZO_FOGLALAS_IDOTARTAM": "6"
                                },
                                {
                                    "SZOBA_ID": "29",
                                    "FOGLALAS_IDOTARTAM": "5",
                                    "ELOZO_FOGLALAS_IDOTARTAM": "0"
                                },
                                {
                                    "SZOBA_ID": "29",
                                    "FOGLALAS_IDOTARTAM": "1",
                                    "ELOZO_FOGLALAS_IDOTARTAM": "5"
                                },
                                {
                                    "SZOBA_ID": "29",
                                    "FOGLALAS_IDOTARTAM": "7",
                                    "ELOZO_FOGLALAS_IDOTARTAM": "1"
                                },
                                {
                                    "SZOBA_ID": "29",
                                    "FOGLALAS_IDOTARTAM": "5",
                                    "ELOZO_FOGLALAS_IDOTARTAM": "7"
                                },
                                {
                                    "SZOBA_ID": "29",
                                    "FOGLALAS_IDOTARTAM": "7",
                                    "ELOZO_FOGLALAS_IDOTARTAM": "5"
                                },
                                {
                                    "SZOBA_ID": "29",
                                    "FOGLALAS_IDOTARTAM": "7",
                                    "ELOZO_FOGLALAS_IDOTARTAM": "7"
                                },
                                {
                                    "SZOBA_ID": "30",
                                    "FOGLALAS_IDOTARTAM": "2",
                                    "ELOZO_FOGLALAS_IDOTARTAM": "0"
                                },
                                {
                                    "SZOBA_ID": "30",
                                    "FOGLALAS_IDOTARTAM": "7",
                                    "ELOZO_FOGLALAS_IDOTARTAM": "2"
                                },
                                {
                                    "SZOBA_ID": "30",
                                    "FOGLALAS_IDOTARTAM": "5",
                                    "ELOZO_FOGLALAS_IDOTARTAM": "7"
                                },
                                {
                                    "SZOBA_ID": "31",
                                    "FOGLALAS_IDOTARTAM": "2",
                                    "ELOZO_FOGLALAS_IDOTARTAM": "0"
                                },
                                {
                                    "SZOBA_ID": "31",
                                    "FOGLALAS_IDOTARTAM": "1",
                                    "ELOZO_FOGLALAS_IDOTARTAM": "2"
                                },
                                {
                                    "SZOBA_ID": "31",
                                    "FOGLALAS_IDOTARTAM": "4",
                                    "ELOZO_FOGLALAS_IDOTARTAM": "1"
                                },
                                {
                                    "SZOBA_ID": "32",
                                    "FOGLALAS_IDOTARTAM": "4",
                                    "ELOZO_FOGLALAS_IDOTARTAM": "0"
                                },
                                {
                                    "SZOBA_ID": "33",
                                    "FOGLALAS_IDOTARTAM": "6",
                                    "ELOZO_FOGLALAS_IDOTARTAM": "0"
                                },
                                {
                                    "SZOBA_ID": "33",
                                    "FOGLALAS_IDOTARTAM": "7",
                                    "ELOZO_FOGLALAS_IDOTARTAM": "6"
                                },
                                {
                                    "SZOBA_ID": "33",
                                    "FOGLALAS_IDOTARTAM": "1",
                                    "ELOZO_FOGLALAS_IDOTARTAM": "7"
                                },
                                {
                                    "SZOBA_ID": "33",
                                    "FOGLALAS_IDOTARTAM": "4",
                                    "ELOZO_FOGLALAS_IDOTARTAM": "1"
                                },
                                {
                                    "SZOBA_ID": "33",
                                    "FOGLALAS_IDOTARTAM": "5",
                                    "ELOZO_FOGLALAS_IDOTARTAM": "4"
                                },
                                {
                                    "SZOBA_ID": "33",
                                    "FOGLALAS_IDOTARTAM": "6",
                                    "ELOZO_FOGLALAS_IDOTARTAM": "5"
                                },
                                {
                                    "SZOBA_ID": "34",
                                    "FOGLALAS_IDOTARTAM": "6",
                                    "ELOZO_FOGLALAS_IDOTARTAM": "0"
                                },
                                {
                                    "SZOBA_ID": "34",
                                    "FOGLALAS_IDOTARTAM": "2",
                                    "ELOZO_FOGLALAS_IDOTARTAM": "6"
                                },
                                {
                                    "SZOBA_ID": "34",
                                    "FOGLALAS_IDOTARTAM": "3",
                                    "ELOZO_FOGLALAS_IDOTARTAM": "2"
                                },
                                {
                                    "SZOBA_ID": "34",
                                    "FOGLALAS_IDOTARTAM": "1",
                                    "ELOZO_FOGLALAS_IDOTARTAM": "3"
                                },
                                {
                                    "SZOBA_ID": "35",
                                    "FOGLALAS_IDOTARTAM": "3",
                                    "ELOZO_FOGLALAS_IDOTARTAM": "0"
                                },
                                {
                                    "SZOBA_ID": "35",
                                    "FOGLALAS_IDOTARTAM": "7",
                                    "ELOZO_FOGLALAS_IDOTARTAM": "3"
                                },
                                {
                                    "SZOBA_ID": "35",
                                    "FOGLALAS_IDOTARTAM": "6",
                                    "ELOZO_FOGLALAS_IDOTARTAM": "7"
                                },
                                {
                                    "SZOBA_ID": "35",
                                    "FOGLALAS_IDOTARTAM": "2",
                                    "ELOZO_FOGLALAS_IDOTARTAM": "6"
                                },
                                {
                                    "SZOBA_ID": "35",
                                    "FOGLALAS_IDOTARTAM": "2",
                                    "ELOZO_FOGLALAS_IDOTARTAM": "2"
                                },
                                {
                                    "SZOBA_ID": "35",
                                    "FOGLALAS_IDOTARTAM": "37",
                                    "ELOZO_FOGLALAS_IDOTARTAM": "2"
                                },
                                {
                                    "SZOBA_ID": "35",
                                    "FOGLALAS_IDOTARTAM": "1",
                                    "ELOZO_FOGLALAS_IDOTARTAM": "37"
                                },
                                {
                                    "SZOBA_ID": "35",
                                    "FOGLALAS_IDOTARTAM": "1",
                                    "ELOZO_FOGLALAS_IDOTARTAM": "1"
                                },
                                {
                                    "SZOBA_ID": "35",
                                    "FOGLALAS_IDOTARTAM": "4",
                                    "ELOZO_FOGLALAS_IDOTARTAM": "1"
                                },
                                {
                                    "SZOBA_ID": "36",
                                    "FOGLALAS_IDOTARTAM": "5",
                                    "ELOZO_FOGLALAS_IDOTARTAM": "0"
                                },
                                {
                                    "SZOBA_ID": "36",
                                    "FOGLALAS_IDOTARTAM": "1",
                                    "ELOZO_FOGLALAS_IDOTARTAM": "5"
                                },
                                {
                                    "SZOBA_ID": "36",
                                    "FOGLALAS_IDOTARTAM": "6",
                                    "ELOZO_FOGLALAS_IDOTARTAM": "1"
                                },
                                {
                                    "SZOBA_ID": "36",
                                    "FOGLALAS_IDOTARTAM": "4",
                                    "ELOZO_FOGLALAS_IDOTARTAM": "6"
                                },
                                {
                                    "SZOBA_ID": "36",
                                    "FOGLALAS_IDOTARTAM": "2",
                                    "ELOZO_FOGLALAS_IDOTARTAM": "4"
                                },
                                {
                                    "SZOBA_ID": "36",
                                    "FOGLALAS_IDOTARTAM": "6",
                                    "ELOZO_FOGLALAS_IDOTARTAM": "2"
                                },
                                {
                                    "SZOBA_ID": "37",
                                    "FOGLALAS_IDOTARTAM": "2",
                                    "ELOZO_FOGLALAS_IDOTARTAM": "0"
                                },
                                {
                                    "SZOBA_ID": "37",
                                    "FOGLALAS_IDOTARTAM": "4",
                                    "ELOZO_FOGLALAS_IDOTARTAM": "2"
                                },
                                {
                                    "SZOBA_ID": "37",
                                    "FOGLALAS_IDOTARTAM": "7",
                                    "ELOZO_FOGLALAS_IDOTARTAM": "4"
                                },
                                {
                                    "SZOBA_ID": "38",
                                    "FOGLALAS_IDOTARTAM": "6",
                                    "ELOZO_FOGLALAS_IDOTARTAM": "0"
                                },
                                {
                                    "SZOBA_ID": "38",
                                    "FOGLALAS_IDOTARTAM": "2",
                                    "ELOZO_FOGLALAS_IDOTARTAM": "6"
                                },
                                {
                                    "SZOBA_ID": "38",
                                    "FOGLALAS_IDOTARTAM": "2",
                                    "ELOZO_FOGLALAS_IDOTARTAM": "2"
                                },
                                {
                                    "SZOBA_ID": "38",
                                    "FOGLALAS_IDOTARTAM": "7",
                                    "ELOZO_FOGLALAS_IDOTARTAM": "2"
                                },
                                {
                                    "SZOBA_ID": "38",
                                    "FOGLALAS_IDOTARTAM": "4",
                                    "ELOZO_FOGLALAS_IDOTARTAM": "7"
                                },
                                {
                                    "SZOBA_ID": "38",
                                    "FOGLALAS_IDOTARTAM": "5",
                                    "ELOZO_FOGLALAS_IDOTARTAM": "4"
                                },
                                {
                                    "SZOBA_ID": "38",
                                    "FOGLALAS_IDOTARTAM": "4",
                                    "ELOZO_FOGLALAS_IDOTARTAM": "5"
                                },
                                {
                                    "SZOBA_ID": "38",
                                    "FOGLALAS_IDOTARTAM": "6",
                                    "ELOZO_FOGLALAS_IDOTARTAM": "4"
                                },
                                {
                                    "SZOBA_ID": "39",
                                    "FOGLALAS_IDOTARTAM": "6",
                                    "ELOZO_FOGLALAS_IDOTARTAM": "0"
                                },
                                {
                                    "SZOBA_ID": "39",
                                    "FOGLALAS_IDOTARTAM": "6",
                                    "ELOZO_FOGLALAS_IDOTARTAM": "6"
                                },
                                {
                                    "SZOBA_ID": "39",
                                    "FOGLALAS_IDOTARTAM": "5",
                                    "ELOZO_FOGLALAS_IDOTARTAM": "6"
                                },
                                {
                                    "SZOBA_ID": "39",
                                    "FOGLALAS_IDOTARTAM": "5",
                                    "ELOZO_FOGLALAS_IDOTARTAM": "5"
                                },
                                {
                                    "SZOBA_ID": "39",
                                    "FOGLALAS_IDOTARTAM": "7",
                                    "ELOZO_FOGLALAS_IDOTARTAM": "5"
                                },
                                {
                                    "SZOBA_ID": "39",
                                    "FOGLALAS_IDOTARTAM": "1",
                                    "ELOZO_FOGLALAS_IDOTARTAM": "7"
                                },
                                {
                                    "SZOBA_ID": "39",
                                    "FOGLALAS_IDOTARTAM": "2",
                                    "ELOZO_FOGLALAS_IDOTARTAM": "1"
                                },
                                {
                                    "SZOBA_ID": "40",
                                    "FOGLALAS_IDOTARTAM": "5",
                                    "ELOZO_FOGLALAS_IDOTARTAM": "0"
                                },
                                {
                                    "SZOBA_ID": "40",
                                    "FOGLALAS_IDOTARTAM": "6",
                                    "ELOZO_FOGLALAS_IDOTARTAM": "5"
                                },
                                {
                                    "SZOBA_ID": "40",
                                    "FOGLALAS_IDOTARTAM": "5",
                                    "ELOZO_FOGLALAS_IDOTARTAM": "6"
                                },
                                {
                                    "SZOBA_ID": "40",
                                    "FOGLALAS_IDOTARTAM": "5",
                                    "ELOZO_FOGLALAS_IDOTARTAM": "5"
                                },
                                {
                                    "SZOBA_ID": "41",
                                    "FOGLALAS_IDOTARTAM": "6",
                                    "ELOZO_FOGLALAS_IDOTARTAM": "0"
                                },
                                {
                                    "SZOBA_ID": "41",
                                    "FOGLALAS_IDOTARTAM": "1",
                                    "ELOZO_FOGLALAS_IDOTARTAM": "6"
                                },
                                {
                                    "SZOBA_ID": "42",
                                    "FOGLALAS_IDOTARTAM": "4",
                                    "ELOZO_FOGLALAS_IDOTARTAM": "0"
                                },
                                {
                                    "SZOBA_ID": "42",
                                    "FOGLALAS_IDOTARTAM": "5",
                                    "ELOZO_FOGLALAS_IDOTARTAM": "4"
                                },
                                {
                                    "SZOBA_ID": "42",
                                    "FOGLALAS_IDOTARTAM": "7",
                                    "ELOZO_FOGLALAS_IDOTARTAM": "5"
                                },
                                {
                                    "SZOBA_ID": "42",
                                    "FOGLALAS_IDOTARTAM": "3",
                                    "ELOZO_FOGLALAS_IDOTARTAM": "7"
                                },
                                {
                                    "SZOBA_ID": "42",
                                    "FOGLALAS_IDOTARTAM": "2",
                                    "ELOZO_FOGLALAS_IDOTARTAM": "3"
                                },
                                {
                                    "SZOBA_ID": "42",
                                    "FOGLALAS_IDOTARTAM": "6",
                                    "ELOZO_FOGLALAS_IDOTARTAM": "2"
                                },
                                {
                                    "SZOBA_ID": "43",
                                    "FOGLALAS_IDOTARTAM": "4",
                                    "ELOZO_FOGLALAS_IDOTARTAM": "0"
                                },
                                {
                                    "SZOBA_ID": "43",
                                    "FOGLALAS_IDOTARTAM": "4",
                                    "ELOZO_FOGLALAS_IDOTARTAM": "4"
                                },
                                {
                                    "SZOBA_ID": "43",
                                    "FOGLALAS_IDOTARTAM": "2",
                                    "ELOZO_FOGLALAS_IDOTARTAM": "4"
                                },
                                {
                                    "SZOBA_ID": "43",
                                    "FOGLALAS_IDOTARTAM": "1",
                                    "ELOZO_FOGLALAS_IDOTARTAM": "2"
                                },
                                {
                                    "SZOBA_ID": "43",
                                    "FOGLALAS_IDOTARTAM": "5",
                                    "ELOZO_FOGLALAS_IDOTARTAM": "1"
                                },
                                {
                                    "SZOBA_ID": "43",
                                    "FOGLALAS_IDOTARTAM": "4",
                                    "ELOZO_FOGLALAS_IDOTARTAM": "5"
                                },
                                {
                                    "SZOBA_ID": "43",
                                    "FOGLALAS_IDOTARTAM": "1",
                                    "ELOZO_FOGLALAS_IDOTARTAM": "4"
                                },
                                {
                                    "SZOBA_ID": "43",
                                    "FOGLALAS_IDOTARTAM": "5",
                                    "ELOZO_FOGLALAS_IDOTARTAM": "1"
                                },
                                {
                                    "SZOBA_ID": "44",
                                    "FOGLALAS_IDOTARTAM": "2",
                                    "ELOZO_FOGLALAS_IDOTARTAM": "0"
                                },
                                {
                                    "SZOBA_ID": "44",
                                    "FOGLALAS_IDOTARTAM": "6",
                                    "ELOZO_FOGLALAS_IDOTARTAM": "2"
                                },
                                {
                                    "SZOBA_ID": "44",
                                    "FOGLALAS_IDOTARTAM": "2",
                                    "ELOZO_FOGLALAS_IDOTARTAM": "6"
                                },
                                {
                                    "SZOBA_ID": "44",
                                    "FOGLALAS_IDOTARTAM": "2",
                                    "ELOZO_FOGLALAS_IDOTARTAM": "2"
                                },
                                {
                                    "SZOBA_ID": "44",
                                    "FOGLALAS_IDOTARTAM": "2",
                                    "ELOZO_FOGLALAS_IDOTARTAM": "2"
                                },
                                {
                                    "SZOBA_ID": "44",
                                    "FOGLALAS_IDOTARTAM": "2",
                                    "ELOZO_FOGLALAS_IDOTARTAM": "2"
                                },
                                {
                                    "SZOBA_ID": "45",
                                    "FOGLALAS_IDOTARTAM": "7",
                                    "ELOZO_FOGLALAS_IDOTARTAM": "0"
                                },
                                {
                                    "SZOBA_ID": "45",
                                    "FOGLALAS_IDOTARTAM": "5",
                                    "ELOZO_FOGLALAS_IDOTARTAM": "7"
                                },
                                {
                                    "SZOBA_ID": "45",
                                    "FOGLALAS_IDOTARTAM": "3",
                                    "ELOZO_FOGLALAS_IDOTARTAM": "5"
                                },
                                {
                                    "SZOBA_ID": "45",
                                    "FOGLALAS_IDOTARTAM": "3",
                                    "ELOZO_FOGLALAS_IDOTARTAM": "3"
                                },
                                {
                                    "SZOBA_ID": "45",
                                    "FOGLALAS_IDOTARTAM": "2",
                                    "ELOZO_FOGLALAS_IDOTARTAM": "3"
                                },
                                {
                                    "SZOBA_ID": "46",
                                    "FOGLALAS_IDOTARTAM": "5",
                                    "ELOZO_FOGLALAS_IDOTARTAM": "0"
                                },
                                {
                                    "SZOBA_ID": "46",
                                    "FOGLALAS_IDOTARTAM": "7",
                                    "ELOZO_FOGLALAS_IDOTARTAM": "5"
                                },
                                {
                                    "SZOBA_ID": "46",
                                    "FOGLALAS_IDOTARTAM": "3",
                                    "ELOZO_FOGLALAS_IDOTARTAM": "7"
                                },
                                {
                                    "SZOBA_ID": "46",
                                    "FOGLALAS_IDOTARTAM": "4",
                                    "ELOZO_FOGLALAS_IDOTARTAM": "3"
                                },
                                {
                                    "SZOBA_ID": "47",
                                    "FOGLALAS_IDOTARTAM": "1",
                                    "ELOZO_FOGLALAS_IDOTARTAM": "0"
                                },
                                {
                                    "SZOBA_ID": "47",
                                    "FOGLALAS_IDOTARTAM": "7",
                                    "ELOZO_FOGLALAS_IDOTARTAM": "1"
                                },
                                {
                                    "SZOBA_ID": "48",
                                    "FOGLALAS_IDOTARTAM": "3",
                                    "ELOZO_FOGLALAS_IDOTARTAM": "0"
                                },
                                {
                                    "SZOBA_ID": "48",
                                    "FOGLALAS_IDOTARTAM": "2",
                                    "ELOZO_FOGLALAS_IDOTARTAM": "3"
                                },
                                {
                                    "SZOBA_ID": "48",
                                    "FOGLALAS_IDOTARTAM": "5",
                                    "ELOZO_FOGLALAS_IDOTARTAM": "2"
                                },
                                {
                                    "SZOBA_ID": "48",
                                    "FOGLALAS_IDOTARTAM": "5",
                                    "ELOZO_FOGLALAS_IDOTARTAM": "5"
                                },
                                {
                                    "SZOBA_ID": "48",
                                    "FOGLALAS_IDOTARTAM": "2",
                                    "ELOZO_FOGLALAS_IDOTARTAM": "5"
                                },
                                {
                                    "SZOBA_ID": "48",
                                    "FOGLALAS_IDOTARTAM": "6",
                                    "ELOZO_FOGLALAS_IDOTARTAM": "2"
                                },
                                {
                                    "SZOBA_ID": "48",
                                    "FOGLALAS_IDOTARTAM": "3",
                                    "ELOZO_FOGLALAS_IDOTARTAM": "6"
                                },
                                {
                                    "SZOBA_ID": "48",
                                    "FOGLALAS_IDOTARTAM": "1",
                                    "ELOZO_FOGLALAS_IDOTARTAM": "3"
                                },
                                {
                                    "SZOBA_ID": "48",
                                    "FOGLALAS_IDOTARTAM": "5",
                                    "ELOZO_FOGLALAS_IDOTARTAM": "1"
                                },
                                {
                                    "SZOBA_ID": "49",
                                    "FOGLALAS_IDOTARTAM": "7",
                                    "ELOZO_FOGLALAS_IDOTARTAM": "0"
                                },
                                {
                                    "SZOBA_ID": "49",
                                    "FOGLALAS_IDOTARTAM": "6",
                                    "ELOZO_FOGLALAS_IDOTARTAM": "7"
                                },
                                {
                                    "SZOBA_ID": "49",
                                    "FOGLALAS_IDOTARTAM": "4",
                                    "ELOZO_FOGLALAS_IDOTARTAM": "6"
                                },
                                {
                                    "SZOBA_ID": "49",
                                    "FOGLALAS_IDOTARTAM": "7",
                                    "ELOZO_FOGLALAS_IDOTARTAM": "4"
                                },
                                {
                                    "SZOBA_ID": "49",
                                    "FOGLALAS_IDOTARTAM": "7",
                                    "ELOZO_FOGLALAS_IDOTARTAM": "7"
                                },
                                {
                                    "SZOBA_ID": "49",
                                    "FOGLALAS_IDOTARTAM": "2",
                                    "ELOZO_FOGLALAS_IDOTARTAM": "7"
                                },
                                {
                                    "SZOBA_ID": "49",
                                    "FOGLALAS_IDOTARTAM": "6",
                                    "ELOZO_FOGLALAS_IDOTARTAM": "2"
                                },
                                {
                                    "SZOBA_ID": "50",
                                    "FOGLALAS_IDOTARTAM": "3",
                                    "ELOZO_FOGLALAS_IDOTARTAM": "0"
                                },
                                {
                                    "SZOBA_ID": "50",
                                    "FOGLALAS_IDOTARTAM": "2",
                                    "ELOZO_FOGLALAS_IDOTARTAM": "3"
                                },
                                {
                                    "SZOBA_ID": "50",
                                    "FOGLALAS_IDOTARTAM": "1",
                                    "ELOZO_FOGLALAS_IDOTARTAM": "2"
                                },
                                {
                                    "SZOBA_ID": "50",
                                    "FOGLALAS_IDOTARTAM": "1",
                                    "ELOZO_FOGLALAS_IDOTARTAM": "1"
                                },
                                {
                                    "SZOBA_ID": "51",
                                    "FOGLALAS_IDOTARTAM": "7",
                                    "ELOZO_FOGLALAS_IDOTARTAM": "0"
                                },
                                {
                                    "SZOBA_ID": "51",
                                    "FOGLALAS_IDOTARTAM": "2",
                                    "ELOZO_FOGLALAS_IDOTARTAM": "7"
                                },
                                {
                                    "SZOBA_ID": "51",
                                    "FOGLALAS_IDOTARTAM": "5",
                                    "ELOZO_FOGLALAS_IDOTARTAM": "2"
                                },
                                {
                                    "SZOBA_ID": "51",
                                    "FOGLALAS_IDOTARTAM": "6",
                                    "ELOZO_FOGLALAS_IDOTARTAM": "5"
                                },
                                {
                                    "SZOBA_ID": "51",
                                    "FOGLALAS_IDOTARTAM": "1",
                                    "ELOZO_FOGLALAS_IDOTARTAM": "6"
                                },
                                {
                                    "SZOBA_ID": "52",
                                    "FOGLALAS_IDOTARTAM": "7",
                                    "ELOZO_FOGLALAS_IDOTARTAM": "0"
                                },
                                {
                                    "SZOBA_ID": "52",
                                    "FOGLALAS_IDOTARTAM": "2",
                                    "ELOZO_FOGLALAS_IDOTARTAM": "7"
                                },
                                {
                                    "SZOBA_ID": "52",
                                    "FOGLALAS_IDOTARTAM": "5",
                                    "ELOZO_FOGLALAS_IDOTARTAM": "2"
                                },
                                {
                                    "SZOBA_ID": "52",
                                    "FOGLALAS_IDOTARTAM": "5",
                                    "ELOZO_FOGLALAS_IDOTARTAM": "5"
                                },
                                {
                                    "SZOBA_ID": "52",
                                    "FOGLALAS_IDOTARTAM": "5",
                                    "ELOZO_FOGLALAS_IDOTARTAM": "5"
                                },
                                {
                                    "SZOBA_ID": "53",
                                    "FOGLALAS_IDOTARTAM": "1",
                                    "ELOZO_FOGLALAS_IDOTARTAM": "0"
                                },
                                {
                                    "SZOBA_ID": "53",
                                    "FOGLALAS_IDOTARTAM": "4",
                                    "ELOZO_FOGLALAS_IDOTARTAM": "1"
                                },
                                {
                                    "SZOBA_ID": "54",
                                    "FOGLALAS_IDOTARTAM": "7",
                                    "ELOZO_FOGLALAS_IDOTARTAM": "0"
                                },
                                {
                                    "SZOBA_ID": "54",
                                    "FOGLALAS_IDOTARTAM": "5",
                                    "ELOZO_FOGLALAS_IDOTARTAM": "7"
                                },
                                {
                                    "SZOBA_ID": "54",
                                    "FOGLALAS_IDOTARTAM": "2",
                                    "ELOZO_FOGLALAS_IDOTARTAM": "5"
                                },
                                {
                                    "SZOBA_ID": "54",
                                    "FOGLALAS_IDOTARTAM": "1",
                                    "ELOZO_FOGLALAS_IDOTARTAM": "2"
                                },
                                {
                                    "SZOBA_ID": "54",
                                    "FOGLALAS_IDOTARTAM": "4",
                                    "ELOZO_FOGLALAS_IDOTARTAM": "1"
                                },
                                {
                                    "SZOBA_ID": "54",
                                    "FOGLALAS_IDOTARTAM": "4",
                                    "ELOZO_FOGLALAS_IDOTARTAM": "4"
                                },
                                {
                                    "SZOBA_ID": "55",
                                    "FOGLALAS_IDOTARTAM": "6",
                                    "ELOZO_FOGLALAS_IDOTARTAM": "0"
                                },
                                {
                                    "SZOBA_ID": "55",
                                    "FOGLALAS_IDOTARTAM": "5",
                                    "ELOZO_FOGLALAS_IDOTARTAM": "6"
                                },
                                {
                                    "SZOBA_ID": "55",
                                    "FOGLALAS_IDOTARTAM": "2",
                                    "ELOZO_FOGLALAS_IDOTARTAM": "5"
                                },
                                {
                                    "SZOBA_ID": "55",
                                    "FOGLALAS_IDOTARTAM": "7",
                                    "ELOZO_FOGLALAS_IDOTARTAM": "2"
                                },
                                {
                                    "SZOBA_ID": "55",
                                    "FOGLALAS_IDOTARTAM": "6",
                                    "ELOZO_FOGLALAS_IDOTARTAM": "7"
                                },
                                {
                                    "SZOBA_ID": "55",
                                    "FOGLALAS_IDOTARTAM": "2",
                                    "ELOZO_FOGLALAS_IDOTARTAM": "6"
                                },
                                {
                                    "SZOBA_ID": "55",
                                    "FOGLALAS_IDOTARTAM": "1",
                                    "ELOZO_FOGLALAS_IDOTARTAM": "2"
                                },
                                {
                                    "SZOBA_ID": "55",
                                    "FOGLALAS_IDOTARTAM": "1",
                                    "ELOZO_FOGLALAS_IDOTARTAM": "1"
                                },
                                {
                                    "SZOBA_ID": "56",
                                    "FOGLALAS_IDOTARTAM": "4",
                                    "ELOZO_FOGLALAS_IDOTARTAM": "0"
                                },
                                {
                                    "SZOBA_ID": "56",
                                    "FOGLALAS_IDOTARTAM": "2",
                                    "ELOZO_FOGLALAS_IDOTARTAM": "4"
                                },
                                {
                                    "SZOBA_ID": "57",
                                    "FOGLALAS_IDOTARTAM": "1",
                                    "ELOZO_FOGLALAS_IDOTARTAM": "0"
                                },
                                {
                                    "SZOBA_ID": "57",
                                    "FOGLALAS_IDOTARTAM": "1",
                                    "ELOZO_FOGLALAS_IDOTARTAM": "1"
                                },
                                {
                                    "SZOBA_ID": "57",
                                    "FOGLALAS_IDOTARTAM": "7",
                                    "ELOZO_FOGLALAS_IDOTARTAM": "1"
                                },
                                {
                                    "SZOBA_ID": "57",
                                    "FOGLALAS_IDOTARTAM": "4",
                                    "ELOZO_FOGLALAS_IDOTARTAM": "7"
                                },
                                {
                                    "SZOBA_ID": "58",
                                    "FOGLALAS_IDOTARTAM": "5",
                                    "ELOZO_FOGLALAS_IDOTARTAM": "0"
                                },
                                {
                                    "SZOBA_ID": "58",
                                    "FOGLALAS_IDOTARTAM": "3",
                                    "ELOZO_FOGLALAS_IDOTARTAM": "5"
                                },
                                {
                                    "SZOBA_ID": "58",
                                    "FOGLALAS_IDOTARTAM": "2",
                                    "ELOZO_FOGLALAS_IDOTARTAM": "3"
                                },
                                {
                                    "SZOBA_ID": "58",
                                    "FOGLALAS_IDOTARTAM": "3",
                                    "ELOZO_FOGLALAS_IDOTARTAM": "2"
                                },
                                {
                                    "SZOBA_ID": "58",
                                    "FOGLALAS_IDOTARTAM": "6",
                                    "ELOZO_FOGLALAS_IDOTARTAM": "3"
                                },
                                {
                                    "SZOBA_ID": "58",
                                    "FOGLALAS_IDOTARTAM": "6",
                                    "ELOZO_FOGLALAS_IDOTARTAM": "6"
                                },
                                {
                                    "SZOBA_ID": "58",
                                    "FOGLALAS_IDOTARTAM": "7",
                                    "ELOZO_FOGLALAS_IDOTARTAM": "6"
                                },
                                {
                                    "SZOBA_ID": "58",
                                    "FOGLALAS_IDOTARTAM": "6",
                                    "ELOZO_FOGLALAS_IDOTARTAM": "7"
                                },
                                {
                                    "SZOBA_ID": "58",
                                    "FOGLALAS_IDOTARTAM": "7",
                                    "ELOZO_FOGLALAS_IDOTARTAM": "6"
                                },
                                {
                                    "SZOBA_ID": "58",
                                    "FOGLALAS_IDOTARTAM": "3",
                                    "ELOZO_FOGLALAS_IDOTARTAM": "7"
                                },
                                {
                                    "SZOBA_ID": "58",
                                    "FOGLALAS_IDOTARTAM": "6",
                                    "ELOZO_FOGLALAS_IDOTARTAM": "3"
                                },
                                {
                                    "SZOBA_ID": "58",
                                    "FOGLALAS_IDOTARTAM": "3",
                                    "ELOZO_FOGLALAS_IDOTARTAM": "6"
                                },
                                {
                                    "SZOBA_ID": "58",
                                    "FOGLALAS_IDOTARTAM": "6",
                                    "ELOZO_FOGLALAS_IDOTARTAM": "3"
                                },
                                {
                                    "SZOBA_ID": "59",
                                    "FOGLALAS_IDOTARTAM": "1",
                                    "ELOZO_FOGLALAS_IDOTARTAM": "0"
                                },
                                {
                                    "SZOBA_ID": "59",
                                    "FOGLALAS_IDOTARTAM": "2",
                                    "ELOZO_FOGLALAS_IDOTARTAM": "1"
                                },
                                {
                                    "SZOBA_ID": "59",
                                    "FOGLALAS_IDOTARTAM": "5",
                                    "ELOZO_FOGLALAS_IDOTARTAM": "2"
                                },
                                {
                                    "SZOBA_ID": "59",
                                    "FOGLALAS_IDOTARTAM": "6",
                                    "ELOZO_FOGLALAS_IDOTARTAM": "5"
                                },
                                {
                                    "SZOBA_ID": "59",
                                    "FOGLALAS_IDOTARTAM": "2",
                                    "ELOZO_FOGLALAS_IDOTARTAM": "6"
                                },
                                {
                                    "SZOBA_ID": "59",
                                    "FOGLALAS_IDOTARTAM": "3",
                                    "ELOZO_FOGLALAS_IDOTARTAM": "2"
                                },
                                {
                                    "SZOBA_ID": "59",
                                    "FOGLALAS_IDOTARTAM": "1",
                                    "ELOZO_FOGLALAS_IDOTARTAM": "3"
                                },
                                {
                                    "SZOBA_ID": "60",
                                    "FOGLALAS_IDOTARTAM": "2",
                                    "ELOZO_FOGLALAS_IDOTARTAM": "0"
                                },
                                {
                                    "SZOBA_ID": "61",
                                    "FOGLALAS_IDOTARTAM": "2",
                                    "ELOZO_FOGLALAS_IDOTARTAM": "0"
                                },
                                {
                                    "SZOBA_ID": "61",
                                    "FOGLALAS_IDOTARTAM": "6",
                                    "ELOZO_FOGLALAS_IDOTARTAM": "2"
                                },
                                {
                                    "SZOBA_ID": "61",
                                    "FOGLALAS_IDOTARTAM": "3",
                                    "ELOZO_FOGLALAS_IDOTARTAM": "6"
                                },
                                {
                                    "SZOBA_ID": "61",
                                    "FOGLALAS_IDOTARTAM": "2",
                                    "ELOZO_FOGLALAS_IDOTARTAM": "3"
                                },
                                {
                                    "SZOBA_ID": "61",
                                    "FOGLALAS_IDOTARTAM": "7",
                                    "ELOZO_FOGLALAS_IDOTARTAM": "2"
                                },
                                {
                                    "SZOBA_ID": "62",
                                    "FOGLALAS_IDOTARTAM": "3",
                                    "ELOZO_FOGLALAS_IDOTARTAM": "0"
                                },
                                {
                                    "SZOBA_ID": "62",
                                    "FOGLALAS_IDOTARTAM": "1",
                                    "ELOZO_FOGLALAS_IDOTARTAM": "3"
                                },
                                {
                                    "SZOBA_ID": "62",
                                    "FOGLALAS_IDOTARTAM": "5",
                                    "ELOZO_FOGLALAS_IDOTARTAM": "1"
                                },
                                {
                                    "SZOBA_ID": "62",
                                    "FOGLALAS_IDOTARTAM": "7",
                                    "ELOZO_FOGLALAS_IDOTARTAM": "5"
                                },
                                {
                                    "SZOBA_ID": "62",
                                    "FOGLALAS_IDOTARTAM": "4",
                                    "ELOZO_FOGLALAS_IDOTARTAM": "7"
                                },
                                {
                                    "SZOBA_ID": "63",
                                    "FOGLALAS_IDOTARTAM": "3",
                                    "ELOZO_FOGLALAS_IDOTARTAM": "0"
                                },
                                {
                                    "SZOBA_ID": "63",
                                    "FOGLALAS_IDOTARTAM": "6",
                                    "ELOZO_FOGLALAS_IDOTARTAM": "3"
                                },
                                {
                                    "SZOBA_ID": "63",
                                    "FOGLALAS_IDOTARTAM": "5",
                                    "ELOZO_FOGLALAS_IDOTARTAM": "6"
                                },
                                {
                                    "SZOBA_ID": "63",
                                    "FOGLALAS_IDOTARTAM": "1",
                                    "ELOZO_FOGLALAS_IDOTARTAM": "5"
                                },
                                {
                                    "SZOBA_ID": "64",
                                    "FOGLALAS_IDOTARTAM": "2",
                                    "ELOZO_FOGLALAS_IDOTARTAM": "0"
                                },
                                {
                                    "SZOBA_ID": "64",
                                    "FOGLALAS_IDOTARTAM": "4",
                                    "ELOZO_FOGLALAS_IDOTARTAM": "2"
                                },
                                {
                                    "SZOBA_ID": "64",
                                    "FOGLALAS_IDOTARTAM": "7",
                                    "ELOZO_FOGLALAS_IDOTARTAM": "4"
                                },
                                {
                                    "SZOBA_ID": "64",
                                    "FOGLALAS_IDOTARTAM": "6",
                                    "ELOZO_FOGLALAS_IDOTARTAM": "7"
                                },
                                {
                                    "SZOBA_ID": "64",
                                    "FOGLALAS_IDOTARTAM": "4",
                                    "ELOZO_FOGLALAS_IDOTARTAM": "6"
                                },
                                {
                                    "SZOBA_ID": "64",
                                    "FOGLALAS_IDOTARTAM": "1",
                                    "ELOZO_FOGLALAS_IDOTARTAM": "4"
                                },
                                {
                                    "SZOBA_ID": "65",
                                    "FOGLALAS_IDOTARTAM": "6",
                                    "ELOZO_FOGLALAS_IDOTARTAM": "0"
                                },
                                {
                                    "SZOBA_ID": "66",
                                    "FOGLALAS_IDOTARTAM": "3",
                                    "ELOZO_FOGLALAS_IDOTARTAM": "0"
                                },
                                {
                                    "SZOBA_ID": "66",
                                    "FOGLALAS_IDOTARTAM": "3",
                                    "ELOZO_FOGLALAS_IDOTARTAM": "3"
                                },
                                {
                                    "SZOBA_ID": "66",
                                    "FOGLALAS_IDOTARTAM": "3",
                                    "ELOZO_FOGLALAS_IDOTARTAM": "3"
                                },
                                {
                                    "SZOBA_ID": "66",
                                    "FOGLALAS_IDOTARTAM": "4",
                                    "ELOZO_FOGLALAS_IDOTARTAM": "3"
                                },
                                {
                                    "SZOBA_ID": "67",
                                    "FOGLALAS_IDOTARTAM": "5",
                                    "ELOZO_FOGLALAS_IDOTARTAM": "0"
                                },
                                {
                                    "SZOBA_ID": "67",
                                    "FOGLALAS_IDOTARTAM": "6",
                                    "ELOZO_FOGLALAS_IDOTARTAM": "5"
                                },
                                {
                                    "SZOBA_ID": "67",
                                    "FOGLALAS_IDOTARTAM": "6",
                                    "ELOZO_FOGLALAS_IDOTARTAM": "6"
                                },
                                {
                                    "SZOBA_ID": "67",
                                    "FOGLALAS_IDOTARTAM": "1",
                                    "ELOZO_FOGLALAS_IDOTARTAM": "6"
                                },
                                {
                                    "SZOBA_ID": "67",
                                    "FOGLALAS_IDOTARTAM": "5",
                                    "ELOZO_FOGLALAS_IDOTARTAM": "1"
                                },
                                {
                                    "SZOBA_ID": "67",
                                    "FOGLALAS_IDOTARTAM": "1",
                                    "ELOZO_FOGLALAS_IDOTARTAM": "5"
                                },
                                {
                                    "SZOBA_ID": "68",
                                    "FOGLALAS_IDOTARTAM": "5",
                                    "ELOZO_FOGLALAS_IDOTARTAM": "0"
                                },
                                {
                                    "SZOBA_ID": "68",
                                    "FOGLALAS_IDOTARTAM": "7",
                                    "ELOZO_FOGLALAS_IDOTARTAM": "5"
                                },
                                {
                                    "SZOBA_ID": "68",
                                    "FOGLALAS_IDOTARTAM": "4",
                                    "ELOZO_FOGLALAS_IDOTARTAM": "7"
                                },
                                {
                                    "SZOBA_ID": "69",
                                    "FOGLALAS_IDOTARTAM": "1",
                                    "ELOZO_FOGLALAS_IDOTARTAM": "0"
                                },
                                {
                                    "SZOBA_ID": "69",
                                    "FOGLALAS_IDOTARTAM": "5",
                                    "ELOZO_FOGLALAS_IDOTARTAM": "1"
                                },
                                {
                                    "SZOBA_ID": "69",
                                    "FOGLALAS_IDOTARTAM": "5",
                                    "ELOZO_FOGLALAS_IDOTARTAM": "5"
                                },
                                {
                                    "SZOBA_ID": "69",
                                    "FOGLALAS_IDOTARTAM": "7",
                                    "ELOZO_FOGLALAS_IDOTARTAM": "5"
                                },
                                {
                                    "SZOBA_ID": "70",
                                    "FOGLALAS_IDOTARTAM": "5",
                                    "ELOZO_FOGLALAS_IDOTARTAM": "0"
                                },
                                {
                                    "SZOBA_ID": "70",
                                    "FOGLALAS_IDOTARTAM": "2",
                                    "ELOZO_FOGLALAS_IDOTARTAM": "5"
                                },
                                {
                                    "SZOBA_ID": "70",
                                    "FOGLALAS_IDOTARTAM": "3",
                                    "ELOZO_FOGLALAS_IDOTARTAM": "2"
                                },
                                {
                                    "SZOBA_ID": "70",
                                    "FOGLALAS_IDOTARTAM": "3",
                                    "ELOZO_FOGLALAS_IDOTARTAM": "3"
                                },
                                {
                                    "SZOBA_ID": "70",
                                    "FOGLALAS_IDOTARTAM": "3",
                                    "ELOZO_FOGLALAS_IDOTARTAM": "3"
                                },
                                {
                                    "SZOBA_ID": "70",
                                    "FOGLALAS_IDOTARTAM": "3",
                                    "ELOZO_FOGLALAS_IDOTARTAM": "3"
                                },
                                {
                                    "SZOBA_ID": "70",
                                    "FOGLALAS_IDOTARTAM": "3",
                                    "ELOZO_FOGLALAS_IDOTARTAM": "3"
                                },
                                {
                                    "SZOBA_ID": "70",
                                    "FOGLALAS_IDOTARTAM": "7",
                                    "ELOZO_FOGLALAS_IDOTARTAM": "3"
                                },
                                {
                                    "SZOBA_ID": "70",
                                    "FOGLALAS_IDOTARTAM": "6",
                                    "ELOZO_FOGLALAS_IDOTARTAM": "7"
                                },
                                {
                                    "SZOBA_ID": "70",
                                    "FOGLALAS_IDOTARTAM": "3",
                                    "ELOZO_FOGLALAS_IDOTARTAM": "6"
                                },
                                {
                                    "SZOBA_ID": "70",
                                    "FOGLALAS_IDOTARTAM": "7",
                                    "ELOZO_FOGLALAS_IDOTARTAM": "3"
                                },
                                {
                                    "SZOBA_ID": "71",
                                    "FOGLALAS_IDOTARTAM": "1",
                                    "ELOZO_FOGLALAS_IDOTARTAM": "0"
                                },
                                {
                                    "SZOBA_ID": "71",
                                    "FOGLALAS_IDOTARTAM": "3",
                                    "ELOZO_FOGLALAS_IDOTARTAM": "1"
                                },
                                {
                                    "SZOBA_ID": "71",
                                    "FOGLALAS_IDOTARTAM": "1",
                                    "ELOZO_FOGLALAS_IDOTARTAM": "3"
                                },
                                {
                                    "SZOBA_ID": "72",
                                    "FOGLALAS_IDOTARTAM": "5",
                                    "ELOZO_FOGLALAS_IDOTARTAM": "0"
                                },
                                {
                                    "SZOBA_ID": "72",
                                    "FOGLALAS_IDOTARTAM": "6",
                                    "ELOZO_FOGLALAS_IDOTARTAM": "5"
                                },
                                {
                                    "SZOBA_ID": "72",
                                    "FOGLALAS_IDOTARTAM": "2",
                                    "ELOZO_FOGLALAS_IDOTARTAM": "6"
                                },
                                {
                                    "SZOBA_ID": "72",
                                    "FOGLALAS_IDOTARTAM": "3",
                                    "ELOZO_FOGLALAS_IDOTARTAM": "2"
                                },
                                {
                                    "SZOBA_ID": "73",
                                    "FOGLALAS_IDOTARTAM": "4",
                                    "ELOZO_FOGLALAS_IDOTARTAM": "0"
                                },
                                {
                                    "SZOBA_ID": "73",
                                    "FOGLALAS_IDOTARTAM": "7",
                                    "ELOZO_FOGLALAS_IDOTARTAM": "4"
                                },
                                {
                                    "SZOBA_ID": "73",
                                    "FOGLALAS_IDOTARTAM": "5",
                                    "ELOZO_FOGLALAS_IDOTARTAM": "7"
                                },
                                {
                                    "SZOBA_ID": "73",
                                    "FOGLALAS_IDOTARTAM": "4",
                                    "ELOZO_FOGLALAS_IDOTARTAM": "5"
                                },
                                {
                                    "SZOBA_ID": "74",
                                    "FOGLALAS_IDOTARTAM": "7",
                                    "ELOZO_FOGLALAS_IDOTARTAM": "0"
                                },
                                {
                                    "SZOBA_ID": "74",
                                    "FOGLALAS_IDOTARTAM": "4",
                                    "ELOZO_FOGLALAS_IDOTARTAM": "7"
                                },
                                {
                                    "SZOBA_ID": "74",
                                    "FOGLALAS_IDOTARTAM": "5",
                                    "ELOZO_FOGLALAS_IDOTARTAM": "4"
                                },
                                {
                                    "SZOBA_ID": "74",
                                    "FOGLALAS_IDOTARTAM": "1",
                                    "ELOZO_FOGLALAS_IDOTARTAM": "5"
                                },
                                {
                                    "SZOBA_ID": "74",
                                    "FOGLALAS_IDOTARTAM": "5",
                                    "ELOZO_FOGLALAS_IDOTARTAM": "1"
                                },
                                {
                                    "SZOBA_ID": "74",
                                    "FOGLALAS_IDOTARTAM": "1",
                                    "ELOZO_FOGLALAS_IDOTARTAM": "5"
                                },
                                {
                                    "SZOBA_ID": "74",
                                    "FOGLALAS_IDOTARTAM": "3",
                                    "ELOZO_FOGLALAS_IDOTARTAM": "1"
                                },
                                {
                                    "SZOBA_ID": "74",
                                    "FOGLALAS_IDOTARTAM": "6",
                                    "ELOZO_FOGLALAS_IDOTARTAM": "3"
                                },
                                {
                                    "SZOBA_ID": "74",
                                    "FOGLALAS_IDOTARTAM": "7",
                                    "ELOZO_FOGLALAS_IDOTARTAM": "6"
                                },
                                {
                                    "SZOBA_ID": "75",
                                    "FOGLALAS_IDOTARTAM": "5",
                                    "ELOZO_FOGLALAS_IDOTARTAM": "0"
                                },
                                {
                                    "SZOBA_ID": "75",
                                    "FOGLALAS_IDOTARTAM": "2",
                                    "ELOZO_FOGLALAS_IDOTARTAM": "5"
                                },
                                {
                                    "SZOBA_ID": "75",
                                    "FOGLALAS_IDOTARTAM": "1",
                                    "ELOZO_FOGLALAS_IDOTARTAM": "2"
                                },
                                {
                                    "SZOBA_ID": "76",
                                    "FOGLALAS_IDOTARTAM": "2",
                                    "ELOZO_FOGLALAS_IDOTARTAM": "0"
                                },
                                {
                                    "SZOBA_ID": "76",
                                    "FOGLALAS_IDOTARTAM": "7",
                                    "ELOZO_FOGLALAS_IDOTARTAM": "2"
                                },
                                {
                                    "SZOBA_ID": "76",
                                    "FOGLALAS_IDOTARTAM": "3",
                                    "ELOZO_FOGLALAS_IDOTARTAM": "7"
                                },
                                {
                                    "SZOBA_ID": "77",
                                    "FOGLALAS_IDOTARTAM": "3",
                                    "ELOZO_FOGLALAS_IDOTARTAM": "0"
                                },
                                {
                                    "SZOBA_ID": "77",
                                    "FOGLALAS_IDOTARTAM": "3",
                                    "ELOZO_FOGLALAS_IDOTARTAM": "3"
                                },
                                {
                                    "SZOBA_ID": "77",
                                    "FOGLALAS_IDOTARTAM": "4",
                                    "ELOZO_FOGLALAS_IDOTARTAM": "3"
                                },
                                {
                                    "SZOBA_ID": "77",
                                    "FOGLALAS_IDOTARTAM": "1",
                                    "ELOZO_FOGLALAS_IDOTARTAM": "4"
                                },
                                {
                                    "SZOBA_ID": "77",
                                    "FOGLALAS_IDOTARTAM": "6",
                                    "ELOZO_FOGLALAS_IDOTARTAM": "1"
                                },
                                {
                                    "SZOBA_ID": "77",
                                    "FOGLALAS_IDOTARTAM": "4",
                                    "ELOZO_FOGLALAS_IDOTARTAM": "6"
                                },
                                {
                                    "SZOBA_ID": "78",
                                    "FOGLALAS_IDOTARTAM": "1",
                                    "ELOZO_FOGLALAS_IDOTARTAM": "0"
                                },
                                {
                                    "SZOBA_ID": "78",
                                    "FOGLALAS_IDOTARTAM": "3",
                                    "ELOZO_FOGLALAS_IDOTARTAM": "1"
                                },
                                {
                                    "SZOBA_ID": "78",
                                    "FOGLALAS_IDOTARTAM": "5",
                                    "ELOZO_FOGLALAS_IDOTARTAM": "3"
                                },
                                {
                                    "SZOBA_ID": "78",
                                    "FOGLALAS_IDOTARTAM": "2",
                                    "ELOZO_FOGLALAS_IDOTARTAM": "5"
                                },
                                {
                                    "SZOBA_ID": "78",
                                    "FOGLALAS_IDOTARTAM": "3",
                                    "ELOZO_FOGLALAS_IDOTARTAM": "2"
                                },
                                {
                                    "SZOBA_ID": "78",
                                    "FOGLALAS_IDOTARTAM": "7",
                                    "ELOZO_FOGLALAS_IDOTARTAM": "3"
                                },
                                {
                                    "SZOBA_ID": "79",
                                    "FOGLALAS_IDOTARTAM": "6",
                                    "ELOZO_FOGLALAS_IDOTARTAM": "0"
                                },
                                {
                                    "SZOBA_ID": "79",
                                    "FOGLALAS_IDOTARTAM": "1",
                                    "ELOZO_FOGLALAS_IDOTARTAM": "6"
                                },
                                {
                                    "SZOBA_ID": "79",
                                    "FOGLALAS_IDOTARTAM": "7",
                                    "ELOZO_FOGLALAS_IDOTARTAM": "1"
                                },
                                {
                                    "SZOBA_ID": "79",
                                    "FOGLALAS_IDOTARTAM": "3",
                                    "ELOZO_FOGLALAS_IDOTARTAM": "7"
                                },
                                {
                                    "SZOBA_ID": "79",
                                    "FOGLALAS_IDOTARTAM": "4",
                                    "ELOZO_FOGLALAS_IDOTARTAM": "3"
                                },
                                {
                                    "SZOBA_ID": "80",
                                    "FOGLALAS_IDOTARTAM": "6",
                                    "ELOZO_FOGLALAS_IDOTARTAM": "0"
                                },
                                {
                                    "SZOBA_ID": "80",
                                    "FOGLALAS_IDOTARTAM": "2",
                                    "ELOZO_FOGLALAS_IDOTARTAM": "6"
                                },
                                {
                                    "SZOBA_ID": "80",
                                    "FOGLALAS_IDOTARTAM": "6",
                                    "ELOZO_FOGLALAS_IDOTARTAM": "2"
                                },
                                {
                                    "SZOBA_ID": "80",
                                    "FOGLALAS_IDOTARTAM": "6",
                                    "ELOZO_FOGLALAS_IDOTARTAM": "6"
                                },
                                {
                                    "SZOBA_ID": "80",
                                    "FOGLALAS_IDOTARTAM": "4",
                                    "ELOZO_FOGLALAS_IDOTARTAM": "6"
                                },
                                {
                                    "SZOBA_ID": "80",
                                    "FOGLALAS_IDOTARTAM": "5",
                                    "ELOZO_FOGLALAS_IDOTARTAM": "4"
                                },
                                {
                                    "SZOBA_ID": "80",
                                    "FOGLALAS_IDOTARTAM": "3",
                                    "ELOZO_FOGLALAS_IDOTARTAM": "5"
                                },
                                {
                                    "SZOBA_ID": "81",
                                    "FOGLALAS_IDOTARTAM": "5",
                                    "ELOZO_FOGLALAS_IDOTARTAM": "0"
                                },
                                {
                                    "SZOBA_ID": "81",
                                    "FOGLALAS_IDOTARTAM": "7",
                                    "ELOZO_FOGLALAS_IDOTARTAM": "5"
                                },
                                {
                                    "SZOBA_ID": "81",
                                    "FOGLALAS_IDOTARTAM": "7",
                                    "ELOZO_FOGLALAS_IDOTARTAM": "7"
                                },
                                {
                                    "SZOBA_ID": "81",
                                    "FOGLALAS_IDOTARTAM": "3",
                                    "ELOZO_FOGLALAS_IDOTARTAM": "7"
                                },
                                {
                                    "SZOBA_ID": "81",
                                    "FOGLALAS_IDOTARTAM": "3",
                                    "ELOZO_FOGLALAS_IDOTARTAM": "3"
                                },
                                {
                                    "SZOBA_ID": "82",
                                    "FOGLALAS_IDOTARTAM": "4",
                                    "ELOZO_FOGLALAS_IDOTARTAM": "0"
                                },
                                {
                                    "SZOBA_ID": "82",
                                    "FOGLALAS_IDOTARTAM": "5",
                                    "ELOZO_FOGLALAS_IDOTARTAM": "4"
                                },
                                {
                                    "SZOBA_ID": "82",
                                    "FOGLALAS_IDOTARTAM": "6",
                                    "ELOZO_FOGLALAS_IDOTARTAM": "5"
                                },
                                {
                                    "SZOBA_ID": "82",
                                    "FOGLALAS_IDOTARTAM": "5",
                                    "ELOZO_FOGLALAS_IDOTARTAM": "6"
                                },
                                {
                                    "SZOBA_ID": "82",
                                    "FOGLALAS_IDOTARTAM": "2",
                                    "ELOZO_FOGLALAS_IDOTARTAM": "5"
                                },
                                {
                                    "SZOBA_ID": "82",
                                    "FOGLALAS_IDOTARTAM": "1",
                                    "ELOZO_FOGLALAS_IDOTARTAM": "2"
                                },
                                {
                                    "SZOBA_ID": "83",
                                    "FOGLALAS_IDOTARTAM": "7",
                                    "ELOZO_FOGLALAS_IDOTARTAM": "0"
                                },
                                {
                                    "SZOBA_ID": "83",
                                    "FOGLALAS_IDOTARTAM": "6",
                                    "ELOZO_FOGLALAS_IDOTARTAM": "7"
                                },
                                {
                                    "SZOBA_ID": "83",
                                    "FOGLALAS_IDOTARTAM": "6",
                                    "ELOZO_FOGLALAS_IDOTARTAM": "6"
                                },
                                {
                                    "SZOBA_ID": "83",
                                    "FOGLALAS_IDOTARTAM": "5",
                                    "ELOZO_FOGLALAS_IDOTARTAM": "6"
                                },
                                {
                                    "SZOBA_ID": "83",
                                    "FOGLALAS_IDOTARTAM": "4",
                                    "ELOZO_FOGLALAS_IDOTARTAM": "5"
                                },
                                {
                                    "SZOBA_ID": "83",
                                    "FOGLALAS_IDOTARTAM": "4",
                                    "ELOZO_FOGLALAS_IDOTARTAM": "4"
                                },
                                {
                                    "SZOBA_ID": "83",
                                    "FOGLALAS_IDOTARTAM": "6",
                                    "ELOZO_FOGLALAS_IDOTARTAM": "4"
                                },
                                {
                                    "SZOBA_ID": "83",
                                    "FOGLALAS_IDOTARTAM": "7",
                                    "ELOZO_FOGLALAS_IDOTARTAM": "6"
                                },
                                {
                                    "SZOBA_ID": "84",
                                    "FOGLALAS_IDOTARTAM": "5",
                                    "ELOZO_FOGLALAS_IDOTARTAM": "0"
                                },
                                {
                                    "SZOBA_ID": "84",
                                    "FOGLALAS_IDOTARTAM": "2",
                                    "ELOZO_FOGLALAS_IDOTARTAM": "5"
                                },
                                {
                                    "SZOBA_ID": "84",
                                    "FOGLALAS_IDOTARTAM": "5",
                                    "ELOZO_FOGLALAS_IDOTARTAM": "2"
                                },
                                {
                                    "SZOBA_ID": "84",
                                    "FOGLALAS_IDOTARTAM": "7",
                                    "ELOZO_FOGLALAS_IDOTARTAM": "5"
                                },
                                {
                                    "SZOBA_ID": "85",
                                    "FOGLALAS_IDOTARTAM": "3",
                                    "ELOZO_FOGLALAS_IDOTARTAM": "0"
                                },
                                {
                                    "SZOBA_ID": "85",
                                    "FOGLALAS_IDOTARTAM": "3",
                                    "ELOZO_FOGLALAS_IDOTARTAM": "3"
                                },
                                {
                                    "SZOBA_ID": "85",
                                    "FOGLALAS_IDOTARTAM": "1",
                                    "ELOZO_FOGLALAS_IDOTARTAM": "3"
                                },
                                {
                                    "SZOBA_ID": "85",
                                    "FOGLALAS_IDOTARTAM": "7",
                                    "ELOZO_FOGLALAS_IDOTARTAM": "1"
                                },
                                {
                                    "SZOBA_ID": "86",
                                    "FOGLALAS_IDOTARTAM": "1",
                                    "ELOZO_FOGLALAS_IDOTARTAM": "0"
                                },
                                {
                                    "SZOBA_ID": "86",
                                    "FOGLALAS_IDOTARTAM": "5",
                                    "ELOZO_FOGLALAS_IDOTARTAM": "1"
                                },
                                {
                                    "SZOBA_ID": "86",
                                    "FOGLALAS_IDOTARTAM": "4",
                                    "ELOZO_FOGLALAS_IDOTARTAM": "5"
                                },
                                {
                                    "SZOBA_ID": "86",
                                    "FOGLALAS_IDOTARTAM": "1",
                                    "ELOZO_FOGLALAS_IDOTARTAM": "4"
                                },
                                {
                                    "SZOBA_ID": "86",
                                    "FOGLALAS_IDOTARTAM": "1",
                                    "ELOZO_FOGLALAS_IDOTARTAM": "1"
                                },
                                {
                                    "SZOBA_ID": "87",
                                    "FOGLALAS_IDOTARTAM": "4",
                                    "ELOZO_FOGLALAS_IDOTARTAM": "0"
                                },
                                {
                                    "SZOBA_ID": "87",
                                    "FOGLALAS_IDOTARTAM": "1",
                                    "ELOZO_FOGLALAS_IDOTARTAM": "4"
                                },
                                {
                                    "SZOBA_ID": "87",
                                    "FOGLALAS_IDOTARTAM": "3",
                                    "ELOZO_FOGLALAS_IDOTARTAM": "1"
                                },
                                {
                                    "SZOBA_ID": "87",
                                    "FOGLALAS_IDOTARTAM": "5",
                                    "ELOZO_FOGLALAS_IDOTARTAM": "3"
                                },
                                {
                                    "SZOBA_ID": "87",
                                    "FOGLALAS_IDOTARTAM": "5",
                                    "ELOZO_FOGLALAS_IDOTARTAM": "5"
                                },
                                {
                                    "SZOBA_ID": "88",
                                    "FOGLALAS_IDOTARTAM": "2",
                                    "ELOZO_FOGLALAS_IDOTARTAM": "0"
                                },
                                {
                                    "SZOBA_ID": "88",
                                    "FOGLALAS_IDOTARTAM": "7",
                                    "ELOZO_FOGLALAS_IDOTARTAM": "2"
                                },
                                {
                                    "SZOBA_ID": "88",
                                    "FOGLALAS_IDOTARTAM": "3",
                                    "ELOZO_FOGLALAS_IDOTARTAM": "7"
                                },
                                {
                                    "SZOBA_ID": "88",
                                    "FOGLALAS_IDOTARTAM": "7",
                                    "ELOZO_FOGLALAS_IDOTARTAM": "3"
                                },
                                {
                                    "SZOBA_ID": "88",
                                    "FOGLALAS_IDOTARTAM": "3",
                                    "ELOZO_FOGLALAS_IDOTARTAM": "7"
                                },
                                {
                                    "SZOBA_ID": "88",
                                    "FOGLALAS_IDOTARTAM": "2",
                                    "ELOZO_FOGLALAS_IDOTARTAM": "3"
                                },
                                {
                                    "SZOBA_ID": "88",
                                    "FOGLALAS_IDOTARTAM": "7",
                                    "ELOZO_FOGLALAS_IDOTARTAM": "2"
                                },
                                {
                                    "SZOBA_ID": "88",
                                    "FOGLALAS_IDOTARTAM": "6",
                                    "ELOZO_FOGLALAS_IDOTARTAM": "7"
                                },
                                {
                                    "SZOBA_ID": "89",
                                    "FOGLALAS_IDOTARTAM": "3",
                                    "ELOZO_FOGLALAS_IDOTARTAM": "0"
                                },
                                {
                                    "SZOBA_ID": "89",
                                    "FOGLALAS_IDOTARTAM": "7",
                                    "ELOZO_FOGLALAS_IDOTARTAM": "3"
                                },
                                {
                                    "SZOBA_ID": "89",
                                    "FOGLALAS_IDOTARTAM": "5",
                                    "ELOZO_FOGLALAS_IDOTARTAM": "7"
                                },
                                {
                                    "SZOBA_ID": "89",
                                    "FOGLALAS_IDOTARTAM": "6",
                                    "ELOZO_FOGLALAS_IDOTARTAM": "5"
                                },
                                {
                                    "SZOBA_ID": "89",
                                    "FOGLALAS_IDOTARTAM": "2",
                                    "ELOZO_FOGLALAS_IDOTARTAM": "6"
                                },
                                {
                                    "SZOBA_ID": "89",
                                    "FOGLALAS_IDOTARTAM": "2",
                                    "ELOZO_FOGLALAS_IDOTARTAM": "2"
                                },
                                {
                                    "SZOBA_ID": "89",
                                    "FOGLALAS_IDOTARTAM": "2",
                                    "ELOZO_FOGLALAS_IDOTARTAM": "2"
                                },
                                {
                                    "SZOBA_ID": "89",
                                    "FOGLALAS_IDOTARTAM": "7",
                                    "ELOZO_FOGLALAS_IDOTARTAM": "2"
                                },
                                {
                                    "SZOBA_ID": "90",
                                    "FOGLALAS_IDOTARTAM": "2",
                                    "ELOZO_FOGLALAS_IDOTARTAM": "0"
                                },
                                {
                                    "SZOBA_ID": "90",
                                    "FOGLALAS_IDOTARTAM": "7",
                                    "ELOZO_FOGLALAS_IDOTARTAM": "2"
                                },
                                {
                                    "SZOBA_ID": "90",
                                    "FOGLALAS_IDOTARTAM": "6",
                                    "ELOZO_FOGLALAS_IDOTARTAM": "7"
                                },
                                {
                                    "SZOBA_ID": "90",
                                    "FOGLALAS_IDOTARTAM": "5",
                                    "ELOZO_FOGLALAS_IDOTARTAM": "6"
                                },
                                {
                                    "SZOBA_ID": "91",
                                    "FOGLALAS_IDOTARTAM": "6",
                                    "ELOZO_FOGLALAS_IDOTARTAM": "0"
                                },
                                {
                                    "SZOBA_ID": "91",
                                    "FOGLALAS_IDOTARTAM": "4",
                                    "ELOZO_FOGLALAS_IDOTARTAM": "6"
                                },
                                {
                                    "SZOBA_ID": "91",
                                    "FOGLALAS_IDOTARTAM": "3",
                                    "ELOZO_FOGLALAS_IDOTARTAM": "4"
                                },
                                {
                                    "SZOBA_ID": "91",
                                    "FOGLALAS_IDOTARTAM": "4",
                                    "ELOZO_FOGLALAS_IDOTARTAM": "3"
                                },
                                {
                                    "SZOBA_ID": "92",
                                    "FOGLALAS_IDOTARTAM": "6",
                                    "ELOZO_FOGLALAS_IDOTARTAM": "0"
                                },
                                {
                                    "SZOBA_ID": "92",
                                    "FOGLALAS_IDOTARTAM": "2",
                                    "ELOZO_FOGLALAS_IDOTARTAM": "6"
                                },
                                {
                                    "SZOBA_ID": "92",
                                    "FOGLALAS_IDOTARTAM": "3",
                                    "ELOZO_FOGLALAS_IDOTARTAM": "2"
                                },
                                {
                                    "SZOBA_ID": "92",
                                    "FOGLALAS_IDOTARTAM": "6",
                                    "ELOZO_FOGLALAS_IDOTARTAM": "3"
                                },
                                {
                                    "SZOBA_ID": "92",
                                    "FOGLALAS_IDOTARTAM": "2",
                                    "ELOZO_FOGLALAS_IDOTARTAM": "6"
                                },
                                {
                                    "SZOBA_ID": "92",
                                    "FOGLALAS_IDOTARTAM": "4",
                                    "ELOZO_FOGLALAS_IDOTARTAM": "2"
                                },
                                {
                                    "SZOBA_ID": "93",
                                    "FOGLALAS_IDOTARTAM": "7",
                                    "ELOZO_FOGLALAS_IDOTARTAM": "0"
                                },
                                {
                                    "SZOBA_ID": "93",
                                    "FOGLALAS_IDOTARTAM": "4",
                                    "ELOZO_FOGLALAS_IDOTARTAM": "7"
                                },
                                {
                                    "SZOBA_ID": "93",
                                    "FOGLALAS_IDOTARTAM": "1",
                                    "ELOZO_FOGLALAS_IDOTARTAM": "4"
                                },
                                {
                                    "SZOBA_ID": "93",
                                    "FOGLALAS_IDOTARTAM": "2",
                                    "ELOZO_FOGLALAS_IDOTARTAM": "1"
                                },
                                {
                                    "SZOBA_ID": "93",
                                    "FOGLALAS_IDOTARTAM": "4",
                                    "ELOZO_FOGLALAS_IDOTARTAM": "2"
                                },
                                {
                                    "SZOBA_ID": "94",
                                    "FOGLALAS_IDOTARTAM": "4",
                                    "ELOZO_FOGLALAS_IDOTARTAM": "0"
                                },
                                {
                                    "SZOBA_ID": "94",
                                    "FOGLALAS_IDOTARTAM": "5",
                                    "ELOZO_FOGLALAS_IDOTARTAM": "4"
                                },
                                {
                                    "SZOBA_ID": "94",
                                    "FOGLALAS_IDOTARTAM": "7",
                                    "ELOZO_FOGLALAS_IDOTARTAM": "5"
                                },
                                {
                                    "SZOBA_ID": "94",
                                    "FOGLALAS_IDOTARTAM": "3",
                                    "ELOZO_FOGLALAS_IDOTARTAM": "7"
                                },
                                {
                                    "SZOBA_ID": "94",
                                    "FOGLALAS_IDOTARTAM": "7",
                                    "ELOZO_FOGLALAS_IDOTARTAM": "3"
                                },
                                {
                                    "SZOBA_ID": "94",
                                    "FOGLALAS_IDOTARTAM": "2",
                                    "ELOZO_FOGLALAS_IDOTARTAM": "7"
                                },
                                {
                                    "SZOBA_ID": "94",
                                    "FOGLALAS_IDOTARTAM": "3",
                                    "ELOZO_FOGLALAS_IDOTARTAM": "2"
                                },
                                {
                                    "SZOBA_ID": "94",
                                    "FOGLALAS_IDOTARTAM": "1",
                                    "ELOZO_FOGLALAS_IDOTARTAM": "3"
                                },
                                {
                                    "SZOBA_ID": "94",
                                    "FOGLALAS_IDOTARTAM": "2",
                                    "ELOZO_FOGLALAS_IDOTARTAM": "1"
                                },
                                {
                                    "SZOBA_ID": "94",
                                    "FOGLALAS_IDOTARTAM": "7",
                                    "ELOZO_FOGLALAS_IDOTARTAM": "2"
                                },
                                {
                                    "SZOBA_ID": "95",
                                    "FOGLALAS_IDOTARTAM": "7",
                                    "ELOZO_FOGLALAS_IDOTARTAM": "0"
                                },
                                {
                                    "SZOBA_ID": "95",
                                    "FOGLALAS_IDOTARTAM": "3",
                                    "ELOZO_FOGLALAS_IDOTARTAM": "7"
                                },
                                {
                                    "SZOBA_ID": "95",
                                    "FOGLALAS_IDOTARTAM": "4",
                                    "ELOZO_FOGLALAS_IDOTARTAM": "3"
                                },
                                {
                                    "SZOBA_ID": "95",
                                    "FOGLALAS_IDOTARTAM": "7",
                                    "ELOZO_FOGLALAS_IDOTARTAM": "4"
                                },
                                {
                                    "SZOBA_ID": "96",
                                    "FOGLALAS_IDOTARTAM": "4",
                                    "ELOZO_FOGLALAS_IDOTARTAM": "0"
                                },
                                {
                                    "SZOBA_ID": "96",
                                    "FOGLALAS_IDOTARTAM": "7",
                                    "ELOZO_FOGLALAS_IDOTARTAM": "4"
                                },
                                {
                                    "SZOBA_ID": "96",
                                    "FOGLALAS_IDOTARTAM": "4",
                                    "ELOZO_FOGLALAS_IDOTARTAM": "7"
                                },
                                {
                                    "SZOBA_ID": "96",
                                    "FOGLALAS_IDOTARTAM": "1",
                                    "ELOZO_FOGLALAS_IDOTARTAM": "4"
                                },
                                {
                                    "SZOBA_ID": "96",
                                    "FOGLALAS_IDOTARTAM": "3",
                                    "ELOZO_FOGLALAS_IDOTARTAM": "1"
                                },
                                {
                                    "SZOBA_ID": "96",
                                    "FOGLALAS_IDOTARTAM": "2",
                                    "ELOZO_FOGLALAS_IDOTARTAM": "3"
                                },
                                {
                                    "SZOBA_ID": "96",
                                    "FOGLALAS_IDOTARTAM": "7",
                                    "ELOZO_FOGLALAS_IDOTARTAM": "2"
                                },
                                {
                                    "SZOBA_ID": "97",
                                    "FOGLALAS_IDOTARTAM": "3",
                                    "ELOZO_FOGLALAS_IDOTARTAM": "0"
                                },
                                {
                                    "SZOBA_ID": "97",
                                    "FOGLALAS_IDOTARTAM": "4",
                                    "ELOZO_FOGLALAS_IDOTARTAM": "3"
                                },
                                {
                                    "SZOBA_ID": "97",
                                    "FOGLALAS_IDOTARTAM": "7",
                                    "ELOZO_FOGLALAS_IDOTARTAM": "4"
                                },
                                {
                                    "SZOBA_ID": "97",
                                    "FOGLALAS_IDOTARTAM": "2",
                                    "ELOZO_FOGLALAS_IDOTARTAM": "7"
                                },
                                {
                                    "SZOBA_ID": "97",
                                    "FOGLALAS_IDOTARTAM": "1",
                                    "ELOZO_FOGLALAS_IDOTARTAM": "2"
                                },
                                {
                                    "SZOBA_ID": "97",
                                    "FOGLALAS_IDOTARTAM": "7",
                                    "ELOZO_FOGLALAS_IDOTARTAM": "1"
                                },
                                {
                                    "SZOBA_ID": "97",
                                    "FOGLALAS_IDOTARTAM": "2",
                                    "ELOZO_FOGLALAS_IDOTARTAM": "7"
                                },
                                {
                                    "SZOBA_ID": "98",
                                    "FOGLALAS_IDOTARTAM": "6",
                                    "ELOZO_FOGLALAS_IDOTARTAM": "0"
                                },
                                {
                                    "SZOBA_ID": "98",
                                    "FOGLALAS_IDOTARTAM": "5",
                                    "ELOZO_FOGLALAS_IDOTARTAM": "6"
                                },
                                {
                                    "SZOBA_ID": "98",
                                    "FOGLALAS_IDOTARTAM": "6",
                                    "ELOZO_FOGLALAS_IDOTARTAM": "5"
                                },
                                {
                                    "SZOBA_ID": "98",
                                    "FOGLALAS_IDOTARTAM": "2",
                                    "ELOZO_FOGLALAS_IDOTARTAM": "6"
                                },
                                {
                                    "SZOBA_ID": "99",
                                    "FOGLALAS_IDOTARTAM": "1",
                                    "ELOZO_FOGLALAS_IDOTARTAM": "0"
                                },
                                {
                                    "SZOBA_ID": "99",
                                    "FOGLALAS_IDOTARTAM": "5",
                                    "ELOZO_FOGLALAS_IDOTARTAM": "1"
                                },
                                {
                                    "SZOBA_ID": "99",
                                    "FOGLALAS_IDOTARTAM": "1",
                                    "ELOZO_FOGLALAS_IDOTARTAM": "5"
                                },
                                {
                                    "SZOBA_ID": "99",
                                    "FOGLALAS_IDOTARTAM": "1",
                                    "ELOZO_FOGLALAS_IDOTARTAM": "1"
                                },
                                {
                                    "SZOBA_ID": "99",
                                    "FOGLALAS_IDOTARTAM": "5",
                                    "ELOZO_FOGLALAS_IDOTARTAM": "1"
                                },
                                {
                                    "SZOBA_ID": "100",
                                    "FOGLALAS_IDOTARTAM": "1",
                                    "ELOZO_FOGLALAS_IDOTARTAM": "0"
                                },
                                {
                                    "SZOBA_ID": "100",
                                    "FOGLALAS_IDOTARTAM": "5",
                                    "ELOZO_FOGLALAS_IDOTARTAM": "1"
                                },
                                {
                                    "SZOBA_ID": "100",
                                    "FOGLALAS_IDOTARTAM": "5",
                                    "ELOZO_FOGLALAS_IDOTARTAM": "5"
                                },
                                {
                                    "SZOBA_ID": "100",
                                    "FOGLALAS_IDOTARTAM": "7",
                                    "ELOZO_FOGLALAS_IDOTARTAM": "5"
                                },
                                {
                                    "SZOBA_ID": "101",
                                    "FOGLALAS_IDOTARTAM": "3",
                                    "ELOZO_FOGLALAS_IDOTARTAM": "0"
                                },
                                {
                                    "SZOBA_ID": "101",
                                    "FOGLALAS_IDOTARTAM": "6",
                                    "ELOZO_FOGLALAS_IDOTARTAM": "3"
                                },
                                {
                                    "SZOBA_ID": "101",
                                    "FOGLALAS_IDOTARTAM": "4",
                                    "ELOZO_FOGLALAS_IDOTARTAM": "6"
                                },
                                {
                                    "SZOBA_ID": "102",
                                    "FOGLALAS_IDOTARTAM": "5",
                                    "ELOZO_FOGLALAS_IDOTARTAM": "0"
                                },
                                {
                                    "SZOBA_ID": "102",
                                    "FOGLALAS_IDOTARTAM": "2",
                                    "ELOZO_FOGLALAS_IDOTARTAM": "5"
                                },
                                {
                                    "SZOBA_ID": "103",
                                    "FOGLALAS_IDOTARTAM": "2",
                                    "ELOZO_FOGLALAS_IDOTARTAM": "0"
                                },
                                {
                                    "SZOBA_ID": "103",
                                    "FOGLALAS_IDOTARTAM": "7",
                                    "ELOZO_FOGLALAS_IDOTARTAM": "2"
                                },
                                {
                                    "SZOBA_ID": "103",
                                    "FOGLALAS_IDOTARTAM": "1",
                                    "ELOZO_FOGLALAS_IDOTARTAM": "7"
                                },
                                {
                                    "SZOBA_ID": "103",
                                    "FOGLALAS_IDOTARTAM": "4",
                                    "ELOZO_FOGLALAS_IDOTARTAM": "1"
                                },
                                {
                                    "SZOBA_ID": "104",
                                    "FOGLALAS_IDOTARTAM": "4",
                                    "ELOZO_FOGLALAS_IDOTARTAM": "0"
                                },
                                {
                                    "SZOBA_ID": "104",
                                    "FOGLALAS_IDOTARTAM": "1",
                                    "ELOZO_FOGLALAS_IDOTARTAM": "4"
                                },
                                {
                                    "SZOBA_ID": "104",
                                    "FOGLALAS_IDOTARTAM": "2",
                                    "ELOZO_FOGLALAS_IDOTARTAM": "1"
                                },
                                {
                                    "SZOBA_ID": "104",
                                    "FOGLALAS_IDOTARTAM": "3",
                                    "ELOZO_FOGLALAS_IDOTARTAM": "2"
                                },
                                {
                                    "SZOBA_ID": "105",
                                    "FOGLALAS_IDOTARTAM": "1",
                                    "ELOZO_FOGLALAS_IDOTARTAM": "0"
                                },
                                {
                                    "SZOBA_ID": "105",
                                    "FOGLALAS_IDOTARTAM": "5",
                                    "ELOZO_FOGLALAS_IDOTARTAM": "1"
                                },
                                {
                                    "SZOBA_ID": "106",
                                    "FOGLALAS_IDOTARTAM": "3",
                                    "ELOZO_FOGLALAS_IDOTARTAM": "0"
                                },
                                {
                                    "SZOBA_ID": "106",
                                    "FOGLALAS_IDOTARTAM": "7",
                                    "ELOZO_FOGLALAS_IDOTARTAM": "3"
                                },
                                {
                                    "SZOBA_ID": "106",
                                    "FOGLALAS_IDOTARTAM": "7",
                                    "ELOZO_FOGLALAS_IDOTARTAM": "7"
                                },
                                {
                                    "SZOBA_ID": "106",
                                    "FOGLALAS_IDOTARTAM": "5",
                                    "ELOZO_FOGLALAS_IDOTARTAM": "7"
                                },
                                {
                                    "SZOBA_ID": "106",
                                    "FOGLALAS_IDOTARTAM": "7",
                                    "ELOZO_FOGLALAS_IDOTARTAM": "5"
                                },
                                {
                                    "SZOBA_ID": "106",
                                    "FOGLALAS_IDOTARTAM": "6",
                                    "ELOZO_FOGLALAS_IDOTARTAM": "7"
                                },
                                {
                                    "SZOBA_ID": "107",
                                    "FOGLALAS_IDOTARTAM": "6",
                                    "ELOZO_FOGLALAS_IDOTARTAM": "0"
                                },
                                {
                                    "SZOBA_ID": "107",
                                    "FOGLALAS_IDOTARTAM": "4",
                                    "ELOZO_FOGLALAS_IDOTARTAM": "6"
                                },
                                {
                                    "SZOBA_ID": "107",
                                    "FOGLALAS_IDOTARTAM": "1",
                                    "ELOZO_FOGLALAS_IDOTARTAM": "4"
                                },
                                {
                                    "SZOBA_ID": "107",
                                    "FOGLALAS_IDOTARTAM": "6",
                                    "ELOZO_FOGLALAS_IDOTARTAM": "1"
                                },
                                {
                                    "SZOBA_ID": "107",
                                    "FOGLALAS_IDOTARTAM": "2",
                                    "ELOZO_FOGLALAS_IDOTARTAM": "6"
                                },
                                {
                                    "SZOBA_ID": "108",
                                    "FOGLALAS_IDOTARTAM": "1",
                                    "ELOZO_FOGLALAS_IDOTARTAM": "0"
                                },
                                {
                                    "SZOBA_ID": "108",
                                    "FOGLALAS_IDOTARTAM": "6",
                                    "ELOZO_FOGLALAS_IDOTARTAM": "1"
                                },
                                {
                                    "SZOBA_ID": "109",
                                    "FOGLALAS_IDOTARTAM": "4",
                                    "ELOZO_FOGLALAS_IDOTARTAM": "0"
                                },
                                {
                                    "SZOBA_ID": "109",
                                    "FOGLALAS_IDOTARTAM": "7",
                                    "ELOZO_FOGLALAS_IDOTARTAM": "4"
                                },
                                {
                                    "SZOBA_ID": "109",
                                    "FOGLALAS_IDOTARTAM": "5",
                                    "ELOZO_FOGLALAS_IDOTARTAM": "7"
                                },
                                {
                                    "SZOBA_ID": "109",
                                    "FOGLALAS_IDOTARTAM": "2",
                                    "ELOZO_FOGLALAS_IDOTARTAM": "5"
                                },
                                {
                                    "SZOBA_ID": "109",
                                    "FOGLALAS_IDOTARTAM": "1",
                                    "ELOZO_FOGLALAS_IDOTARTAM": "2"
                                },
                                {
                                    "SZOBA_ID": "109",
                                    "FOGLALAS_IDOTARTAM": "4",
                                    "ELOZO_FOGLALAS_IDOTARTAM": "1"
                                },
                                {
                                    "SZOBA_ID": "109",
                                    "FOGLALAS_IDOTARTAM": "1",
                                    "ELOZO_FOGLALAS_IDOTARTAM": "4"
                                },
                                {
                                    "SZOBA_ID": "110",
                                    "FOGLALAS_IDOTARTAM": "5",
                                    "ELOZO_FOGLALAS_IDOTARTAM": "0"
                                },
                                {
                                    "SZOBA_ID": "110",
                                    "FOGLALAS_IDOTARTAM": "6",
                                    "ELOZO_FOGLALAS_IDOTARTAM": "5"
                                },
                                {
                                    "SZOBA_ID": "110",
                                    "FOGLALAS_IDOTARTAM": "1",
                                    "ELOZO_FOGLALAS_IDOTARTAM": "6"
                                },
                                {
                                    "SZOBA_ID": "110",
                                    "FOGLALAS_IDOTARTAM": "3",
                                    "ELOZO_FOGLALAS_IDOTARTAM": "1"
                                },
                                {
                                    "SZOBA_ID": "110",
                                    "FOGLALAS_IDOTARTAM": "5",
                                    "ELOZO_FOGLALAS_IDOTARTAM": "3"
                                },
                                {
                                    "SZOBA_ID": "110",
                                    "FOGLALAS_IDOTARTAM": "2",
                                    "ELOZO_FOGLALAS_IDOTARTAM": "5"
                                },
                                {
                                    "SZOBA_ID": "110",
                                    "FOGLALAS_IDOTARTAM": "1",
                                    "ELOZO_FOGLALAS_IDOTARTAM": "2"
                                },
                                {
                                    "SZOBA_ID": "110",
                                    "FOGLALAS_IDOTARTAM": "6",
                                    "ELOZO_FOGLALAS_IDOTARTAM": "1"
                                },
                                {
                                    "SZOBA_ID": "111",
                                    "FOGLALAS_IDOTARTAM": "7",
                                    "ELOZO_FOGLALAS_IDOTARTAM": "0"
                                },
                                {
                                    "SZOBA_ID": "111",
                                    "FOGLALAS_IDOTARTAM": "7",
                                    "ELOZO_FOGLALAS_IDOTARTAM": "7"
                                },
                                {
                                    "SZOBA_ID": "111",
                                    "FOGLALAS_IDOTARTAM": "4",
                                    "ELOZO_FOGLALAS_IDOTARTAM": "7"
                                },
                                {
                                    "SZOBA_ID": "111",
                                    "FOGLALAS_IDOTARTAM": "3",
                                    "ELOZO_FOGLALAS_IDOTARTAM": "4"
                                },
                                {
                                    "SZOBA_ID": "111",
                                    "FOGLALAS_IDOTARTAM": "5",
                                    "ELOZO_FOGLALAS_IDOTARTAM": "3"
                                },
                                {
                                    "SZOBA_ID": "112",
                                    "FOGLALAS_IDOTARTAM": "1",
                                    "ELOZO_FOGLALAS_IDOTARTAM": "0"
                                },
                                {
                                    "SZOBA_ID": "112",
                                    "FOGLALAS_IDOTARTAM": "4",
                                    "ELOZO_FOGLALAS_IDOTARTAM": "1"
                                },
                                {
                                    "SZOBA_ID": "112",
                                    "FOGLALAS_IDOTARTAM": "5",
                                    "ELOZO_FOGLALAS_IDOTARTAM": "4"
                                },
                                {
                                    "SZOBA_ID": "112",
                                    "FOGLALAS_IDOTARTAM": "6",
                                    "ELOZO_FOGLALAS_IDOTARTAM": "5"
                                },
                                {
                                    "SZOBA_ID": "112",
                                    "FOGLALAS_IDOTARTAM": "6",
                                    "ELOZO_FOGLALAS_IDOTARTAM": "6"
                                },
                                {
                                    "SZOBA_ID": "113",
                                    "FOGLALAS_IDOTARTAM": "5",
                                    "ELOZO_FOGLALAS_IDOTARTAM": "0"
                                },
                                {
                                    "SZOBA_ID": "113",
                                    "FOGLALAS_IDOTARTAM": "4",
                                    "ELOZO_FOGLALAS_IDOTARTAM": "5"
                                },
                                {
                                    "SZOBA_ID": "113",
                                    "FOGLALAS_IDOTARTAM": "1",
                                    "ELOZO_FOGLALAS_IDOTARTAM": "4"
                                },
                                {
                                    "SZOBA_ID": "113",
                                    "FOGLALAS_IDOTARTAM": "7",
                                    "ELOZO_FOGLALAS_IDOTARTAM": "1"
                                },
                                {
                                    "SZOBA_ID": "113",
                                    "FOGLALAS_IDOTARTAM": "2",
                                    "ELOZO_FOGLALAS_IDOTARTAM": "7"
                                },
                                {
                                    "SZOBA_ID": "114",
                                    "FOGLALAS_IDOTARTAM": "6",
                                    "ELOZO_FOGLALAS_IDOTARTAM": "0"
                                },
                                {
                                    "SZOBA_ID": "114",
                                    "FOGLALAS_IDOTARTAM": "2",
                                    "ELOZO_FOGLALAS_IDOTARTAM": "6"
                                },
                                {
                                    "SZOBA_ID": "114",
                                    "FOGLALAS_IDOTARTAM": "7",
                                    "ELOZO_FOGLALAS_IDOTARTAM": "2"
                                },
                                {
                                    "SZOBA_ID": "114",
                                    "FOGLALAS_IDOTARTAM": "3",
                                    "ELOZO_FOGLALAS_IDOTARTAM": "7"
                                },
                                {
                                    "SZOBA_ID": "115",
                                    "FOGLALAS_IDOTARTAM": "7",
                                    "ELOZO_FOGLALAS_IDOTARTAM": "0"
                                },
                                {
                                    "SZOBA_ID": "115",
                                    "FOGLALAS_IDOTARTAM": "7",
                                    "ELOZO_FOGLALAS_IDOTARTAM": "7"
                                },
                                {
                                    "SZOBA_ID": "115",
                                    "FOGLALAS_IDOTARTAM": "7",
                                    "ELOZO_FOGLALAS_IDOTARTAM": "7"
                                },
                                {
                                    "SZOBA_ID": "115",
                                    "FOGLALAS_IDOTARTAM": "4",
                                    "ELOZO_FOGLALAS_IDOTARTAM": "7"
                                },
                                {
                                    "SZOBA_ID": "115",
                                    "FOGLALAS_IDOTARTAM": "3",
                                    "ELOZO_FOGLALAS_IDOTARTAM": "4"
                                },
                                {
                                    "SZOBA_ID": "115",
                                    "FOGLALAS_IDOTARTAM": "3",
                                    "ELOZO_FOGLALAS_IDOTARTAM": "3"
                                },
                                {
                                    "SZOBA_ID": "115",
                                    "FOGLALAS_IDOTARTAM": "1",
                                    "ELOZO_FOGLALAS_IDOTARTAM": "3"
                                },
                                {
                                    "SZOBA_ID": "116",
                                    "FOGLALAS_IDOTARTAM": "2",
                                    "ELOZO_FOGLALAS_IDOTARTAM": "0"
                                },
                                {
                                    "SZOBA_ID": "116",
                                    "FOGLALAS_IDOTARTAM": "4",
                                    "ELOZO_FOGLALAS_IDOTARTAM": "2"
                                },
                                {
                                    "SZOBA_ID": "117",
                                    "FOGLALAS_IDOTARTAM": "2",
                                    "ELOZO_FOGLALAS_IDOTARTAM": "0"
                                },
                                {
                                    "SZOBA_ID": "117",
                                    "FOGLALAS_IDOTARTAM": "3",
                                    "ELOZO_FOGLALAS_IDOTARTAM": "2"
                                },
                                {
                                    "SZOBA_ID": "117",
                                    "FOGLALAS_IDOTARTAM": "5",
                                    "ELOZO_FOGLALAS_IDOTARTAM": "3"
                                },
                                {
                                    "SZOBA_ID": "117",
                                    "FOGLALAS_IDOTARTAM": "4",
                                    "ELOZO_FOGLALAS_IDOTARTAM": "5"
                                },
                                {
                                    "SZOBA_ID": "117",
                                    "FOGLALAS_IDOTARTAM": "1",
                                    "ELOZO_FOGLALAS_IDOTARTAM": "4"
                                },
                                {
                                    "SZOBA_ID": "117",
                                    "FOGLALAS_IDOTARTAM": "2",
                                    "ELOZO_FOGLALAS_IDOTARTAM": "1"
                                },
                                {
                                    "SZOBA_ID": "117",
                                    "FOGLALAS_IDOTARTAM": "3",
                                    "ELOZO_FOGLALAS_IDOTARTAM": "2"
                                },
                                {
                                    "SZOBA_ID": "117",
                                    "FOGLALAS_IDOTARTAM": "7",
                                    "ELOZO_FOGLALAS_IDOTARTAM": "3"
                                },
                                {
                                    "SZOBA_ID": "118",
                                    "FOGLALAS_IDOTARTAM": "6",
                                    "ELOZO_FOGLALAS_IDOTARTAM": "0"
                                },
                                {
                                    "SZOBA_ID": "118",
                                    "FOGLALAS_IDOTARTAM": "7",
                                    "ELOZO_FOGLALAS_IDOTARTAM": "6"
                                },
                                {
                                    "SZOBA_ID": "118",
                                    "FOGLALAS_IDOTARTAM": "3",
                                    "ELOZO_FOGLALAS_IDOTARTAM": "7"
                                },
                                {
                                    "SZOBA_ID": "118",
                                    "FOGLALAS_IDOTARTAM": "1",
                                    "ELOZO_FOGLALAS_IDOTARTAM": "3"
                                },
                                {
                                    "SZOBA_ID": "118",
                                    "FOGLALAS_IDOTARTAM": "5",
                                    "ELOZO_FOGLALAS_IDOTARTAM": "1"
                                },
                                {
                                    "SZOBA_ID": "118",
                                    "FOGLALAS_IDOTARTAM": "6",
                                    "ELOZO_FOGLALAS_IDOTARTAM": "5"
                                },
                                {
                                    "SZOBA_ID": "118",
                                    "FOGLALAS_IDOTARTAM": "3",
                                    "ELOZO_FOGLALAS_IDOTARTAM": "6"
                                },
                                {
                                    "SZOBA_ID": "119",
                                    "FOGLALAS_IDOTARTAM": "3",
                                    "ELOZO_FOGLALAS_IDOTARTAM": "0"
                                },
                                {
                                    "SZOBA_ID": "119",
                                    "FOGLALAS_IDOTARTAM": "2",
                                    "ELOZO_FOGLALAS_IDOTARTAM": "3"
                                },
                                {
                                    "SZOBA_ID": "119",
                                    "FOGLALAS_IDOTARTAM": "1",
                                    "ELOZO_FOGLALAS_IDOTARTAM": "2"
                                },
                                {
                                    "SZOBA_ID": "119",
                                    "FOGLALAS_IDOTARTAM": "3",
                                    "ELOZO_FOGLALAS_IDOTARTAM": "1"
                                },
                                {
                                    "SZOBA_ID": "119",
                                    "FOGLALAS_IDOTARTAM": "3",
                                    "ELOZO_FOGLALAS_IDOTARTAM": "3"
                                },
                                {
                                    "SZOBA_ID": "120",
                                    "FOGLALAS_IDOTARTAM": "3",
                                    "ELOZO_FOGLALAS_IDOTARTAM": "0"
                                },
                                {
                                    "SZOBA_ID": "120",
                                    "FOGLALAS_IDOTARTAM": "3",
                                    "ELOZO_FOGLALAS_IDOTARTAM": "3"
                                },
                                {
                                    "SZOBA_ID": "120",
                                    "FOGLALAS_IDOTARTAM": "6",
                                    "ELOZO_FOGLALAS_IDOTARTAM": "3"
                                },
                                {
                                    "SZOBA_ID": "120",
                                    "FOGLALAS_IDOTARTAM": "6",
                                    "ELOZO_FOGLALAS_IDOTARTAM": "6"
                                },
                                {
                                    "SZOBA_ID": "120",
                                    "FOGLALAS_IDOTARTAM": "1",
                                    "ELOZO_FOGLALAS_IDOTARTAM": "6"
                                },
                                {
                                    "SZOBA_ID": "120",
                                    "FOGLALAS_IDOTARTAM": "7",
                                    "ELOZO_FOGLALAS_IDOTARTAM": "1"
                                },
                                {
                                    "SZOBA_ID": "121",
                                    "FOGLALAS_IDOTARTAM": "5",
                                    "ELOZO_FOGLALAS_IDOTARTAM": "0"
                                },
                                {
                                    "SZOBA_ID": "121",
                                    "FOGLALAS_IDOTARTAM": "6",
                                    "ELOZO_FOGLALAS_IDOTARTAM": "5"
                                },
                                {
                                    "SZOBA_ID": "121",
                                    "FOGLALAS_IDOTARTAM": "6",
                                    "ELOZO_FOGLALAS_IDOTARTAM": "6"
                                },
                                {
                                    "SZOBA_ID": "121",
                                    "FOGLALAS_IDOTARTAM": "3",
                                    "ELOZO_FOGLALAS_IDOTARTAM": "6"
                                },
                                {
                                    "SZOBA_ID": "121",
                                    "FOGLALAS_IDOTARTAM": "4",
                                    "ELOZO_FOGLALAS_IDOTARTAM": "3"
                                },
                                {
                                    "SZOBA_ID": "121",
                                    "FOGLALAS_IDOTARTAM": "4",
                                    "ELOZO_FOGLALAS_IDOTARTAM": "4"
                                },
                                {
                                    "SZOBA_ID": "121",
                                    "FOGLALAS_IDOTARTAM": "5",
                                    "ELOZO_FOGLALAS_IDOTARTAM": "4"
                                },
                                {
                                    "SZOBA_ID": "121",
                                    "FOGLALAS_IDOTARTAM": "6",
                                    "ELOZO_FOGLALAS_IDOTARTAM": "5"
                                },
                                {
                                    "SZOBA_ID": "122",
                                    "FOGLALAS_IDOTARTAM": "2",
                                    "ELOZO_FOGLALAS_IDOTARTAM": "0"
                                },
                                {
                                    "SZOBA_ID": "122",
                                    "FOGLALAS_IDOTARTAM": "2",
                                    "ELOZO_FOGLALAS_IDOTARTAM": "2"
                                },
                                {
                                    "SZOBA_ID": "122",
                                    "FOGLALAS_IDOTARTAM": "3",
                                    "ELOZO_FOGLALAS_IDOTARTAM": "2"
                                },
                                {
                                    "SZOBA_ID": "122",
                                    "FOGLALAS_IDOTARTAM": "4",
                                    "ELOZO_FOGLALAS_IDOTARTAM": "3"
                                },
                                {
                                    "SZOBA_ID": "122",
                                    "FOGLALAS_IDOTARTAM": "1",
                                    "ELOZO_FOGLALAS_IDOTARTAM": "4"
                                },
                                {
                                    "SZOBA_ID": "122",
                                    "FOGLALAS_IDOTARTAM": "2",
                                    "ELOZO_FOGLALAS_IDOTARTAM": "1"
                                },
                                {
                                    "SZOBA_ID": "122",
                                    "FOGLALAS_IDOTARTAM": "2",
                                    "ELOZO_FOGLALAS_IDOTARTAM": "2"
                                },
                                {
                                    "SZOBA_ID": "122",
                                    "FOGLALAS_IDOTARTAM": "5",
                                    "ELOZO_FOGLALAS_IDOTARTAM": "2"
                                },
                                {
                                    "SZOBA_ID": "122",
                                    "FOGLALAS_IDOTARTAM": "3",
                                    "ELOZO_FOGLALAS_IDOTARTAM": "5"
                                },
                                {
                                    "SZOBA_ID": "123",
                                    "FOGLALAS_IDOTARTAM": "7",
                                    "ELOZO_FOGLALAS_IDOTARTAM": "0"
                                },
                                {
                                    "SZOBA_ID": "123",
                                    "FOGLALAS_IDOTARTAM": "4",
                                    "ELOZO_FOGLALAS_IDOTARTAM": "7"
                                },
                                {
                                    "SZOBA_ID": "123",
                                    "FOGLALAS_IDOTARTAM": "5",
                                    "ELOZO_FOGLALAS_IDOTARTAM": "4"
                                },
                                {
                                    "SZOBA_ID": "123",
                                    "FOGLALAS_IDOTARTAM": "1",
                                    "ELOZO_FOGLALAS_IDOTARTAM": "5"
                                },
                                {
                                    "SZOBA_ID": "123",
                                    "FOGLALAS_IDOTARTAM": "6",
                                    "ELOZO_FOGLALAS_IDOTARTAM": "1"
                                },
                                {
                                    "SZOBA_ID": "124",
                                    "FOGLALAS_IDOTARTAM": "1",
                                    "ELOZO_FOGLALAS_IDOTARTAM": "0"
                                },
                                {
                                    "SZOBA_ID": "124",
                                    "FOGLALAS_IDOTARTAM": "4",
                                    "ELOZO_FOGLALAS_IDOTARTAM": "1"
                                },
                                {
                                    "SZOBA_ID": "124",
                                    "FOGLALAS_IDOTARTAM": "7",
                                    "ELOZO_FOGLALAS_IDOTARTAM": "4"
                                },
                                {
                                    "SZOBA_ID": "124",
                                    "FOGLALAS_IDOTARTAM": "6",
                                    "ELOZO_FOGLALAS_IDOTARTAM": "7"
                                },
                                {
                                    "SZOBA_ID": "124",
                                    "FOGLALAS_IDOTARTAM": "3",
                                    "ELOZO_FOGLALAS_IDOTARTAM": "6"
                                },
                                {
                                    "SZOBA_ID": "124",
                                    "FOGLALAS_IDOTARTAM": "6",
                                    "ELOZO_FOGLALAS_IDOTARTAM": "3"
                                },
                                {
                                    "SZOBA_ID": "125",
                                    "FOGLALAS_IDOTARTAM": "1",
                                    "ELOZO_FOGLALAS_IDOTARTAM": "0"
                                },
                                {
                                    "SZOBA_ID": "126",
                                    "FOGLALAS_IDOTARTAM": "4",
                                    "ELOZO_FOGLALAS_IDOTARTAM": "0"
                                },
                                {
                                    "SZOBA_ID": "126",
                                    "FOGLALAS_IDOTARTAM": "6",
                                    "ELOZO_FOGLALAS_IDOTARTAM": "4"
                                },
                                {
                                    "SZOBA_ID": "126",
                                    "FOGLALAS_IDOTARTAM": "1",
                                    "ELOZO_FOGLALAS_IDOTARTAM": "6"
                                },
                                {
                                    "SZOBA_ID": "126",
                                    "FOGLALAS_IDOTARTAM": "6",
                                    "ELOZO_FOGLALAS_IDOTARTAM": "1"
                                },
                                {
                                    "SZOBA_ID": "126",
                                    "FOGLALAS_IDOTARTAM": "7",
                                    "ELOZO_FOGLALAS_IDOTARTAM": "6"
                                },
                                {
                                    "SZOBA_ID": "126",
                                    "FOGLALAS_IDOTARTAM": "4",
                                    "ELOZO_FOGLALAS_IDOTARTAM": "7"
                                },
                                {
                                    "SZOBA_ID": "127",
                                    "FOGLALAS_IDOTARTAM": "2",
                                    "ELOZO_FOGLALAS_IDOTARTAM": "0"
                                },
                                {
                                    "SZOBA_ID": "127",
                                    "FOGLALAS_IDOTARTAM": "5",
                                    "ELOZO_FOGLALAS_IDOTARTAM": "2"
                                },
                                {
                                    "SZOBA_ID": "127",
                                    "FOGLALAS_IDOTARTAM": "2",
                                    "ELOZO_FOGLALAS_IDOTARTAM": "5"
                                },
                                {
                                    "SZOBA_ID": "127",
                                    "FOGLALAS_IDOTARTAM": "6",
                                    "ELOZO_FOGLALAS_IDOTARTAM": "2"
                                },
                                {
                                    "SZOBA_ID": "127",
                                    "FOGLALAS_IDOTARTAM": "5",
                                    "ELOZO_FOGLALAS_IDOTARTAM": "6"
                                },
                                {
                                    "SZOBA_ID": "127",
                                    "FOGLALAS_IDOTARTAM": "1",
                                    "ELOZO_FOGLALAS_IDOTARTAM": "5"
                                },
                                {
                                    "SZOBA_ID": "127",
                                    "FOGLALAS_IDOTARTAM": "5",
                                    "ELOZO_FOGLALAS_IDOTARTAM": "1"
                                },
                                {
                                    "SZOBA_ID": "128",
                                    "FOGLALAS_IDOTARTAM": "2",
                                    "ELOZO_FOGLALAS_IDOTARTAM": "0"
                                },
                                {
                                    "SZOBA_ID": "128",
                                    "FOGLALAS_IDOTARTAM": "1",
                                    "ELOZO_FOGLALAS_IDOTARTAM": "2"
                                },
                                {
                                    "SZOBA_ID": "128",
                                    "FOGLALAS_IDOTARTAM": "1",
                                    "ELOZO_FOGLALAS_IDOTARTAM": "1"
                                },
                                {
                                    "SZOBA_ID": "128",
                                    "FOGLALAS_IDOTARTAM": "1",
                                    "ELOZO_FOGLALAS_IDOTARTAM": "1"
                                },
                                {
                                    "SZOBA_ID": "128",
                                    "FOGLALAS_IDOTARTAM": "4",
                                    "ELOZO_FOGLALAS_IDOTARTAM": "1"
                                },
                                {
                                    "SZOBA_ID": "129",
                                    "FOGLALAS_IDOTARTAM": "7",
                                    "ELOZO_FOGLALAS_IDOTARTAM": "0"
                                },
                                {
                                    "SZOBA_ID": "129",
                                    "FOGLALAS_IDOTARTAM": "6",
                                    "ELOZO_FOGLALAS_IDOTARTAM": "7"
                                },
                                {
                                    "SZOBA_ID": "129",
                                    "FOGLALAS_IDOTARTAM": "7",
                                    "ELOZO_FOGLALAS_IDOTARTAM": "6"
                                },
                                {
                                    "SZOBA_ID": "129",
                                    "FOGLALAS_IDOTARTAM": "6",
                                    "ELOZO_FOGLALAS_IDOTARTAM": "7"
                                },
                                {
                                    "SZOBA_ID": "130",
                                    "FOGLALAS_IDOTARTAM": "3",
                                    "ELOZO_FOGLALAS_IDOTARTAM": "0"
                                },
                                {
                                    "SZOBA_ID": "130",
                                    "FOGLALAS_IDOTARTAM": "3",
                                    "ELOZO_FOGLALAS_IDOTARTAM": "3"
                                },
                                {
                                    "SZOBA_ID": "130",
                                    "FOGLALAS_IDOTARTAM": "2",
                                    "ELOZO_FOGLALAS_IDOTARTAM": "3"
                                },
                                {
                                    "SZOBA_ID": "130",
                                    "FOGLALAS_IDOTARTAM": "6",
                                    "ELOZO_FOGLALAS_IDOTARTAM": "2"
                                },
                                {
                                    "SZOBA_ID": "130",
                                    "FOGLALAS_IDOTARTAM": "1",
                                    "ELOZO_FOGLALAS_IDOTARTAM": "6"
                                },
                                {
                                    "SZOBA_ID": "130",
                                    "FOGLALAS_IDOTARTAM": "7",
                                    "ELOZO_FOGLALAS_IDOTARTAM": "1"
                                },
                                {
                                    "SZOBA_ID": "131",
                                    "FOGLALAS_IDOTARTAM": "2",
                                    "ELOZO_FOGLALAS_IDOTARTAM": "0"
                                },
                                {
                                    "SZOBA_ID": "131",
                                    "FOGLALAS_IDOTARTAM": "1",
                                    "ELOZO_FOGLALAS_IDOTARTAM": "2"
                                },
                                {
                                    "SZOBA_ID": "131",
                                    "FOGLALAS_IDOTARTAM": "6",
                                    "ELOZO_FOGLALAS_IDOTARTAM": "1"
                                },
                                {
                                    "SZOBA_ID": "131",
                                    "FOGLALAS_IDOTARTAM": "4",
                                    "ELOZO_FOGLALAS_IDOTARTAM": "6"
                                },
                                {
                                    "SZOBA_ID": "131",
                                    "FOGLALAS_IDOTARTAM": "5",
                                    "ELOZO_FOGLALAS_IDOTARTAM": "4"
                                },
                                {
                                    "SZOBA_ID": "132",
                                    "FOGLALAS_IDOTARTAM": "7",
                                    "ELOZO_FOGLALAS_IDOTARTAM": "0"
                                },
                                {
                                    "SZOBA_ID": "132",
                                    "FOGLALAS_IDOTARTAM": "6",
                                    "ELOZO_FOGLALAS_IDOTARTAM": "7"
                                },
                                {
                                    "SZOBA_ID": "132",
                                    "FOGLALAS_IDOTARTAM": "7",
                                    "ELOZO_FOGLALAS_IDOTARTAM": "6"
                                },
                                {
                                    "SZOBA_ID": "132",
                                    "FOGLALAS_IDOTARTAM": "3",
                                    "ELOZO_FOGLALAS_IDOTARTAM": "7"
                                },
                                {
                                    "SZOBA_ID": "132",
                                    "FOGLALAS_IDOTARTAM": "2",
                                    "ELOZO_FOGLALAS_IDOTARTAM": "3"
                                },
                                {
                                    "SZOBA_ID": "132",
                                    "FOGLALAS_IDOTARTAM": "2",
                                    "ELOZO_FOGLALAS_IDOTARTAM": "2"
                                },
                                {
                                    "SZOBA_ID": "133",
                                    "FOGLALAS_IDOTARTAM": "4",
                                    "ELOZO_FOGLALAS_IDOTARTAM": "0"
                                },
                                {
                                    "SZOBA_ID": "133",
                                    "FOGLALAS_IDOTARTAM": "3",
                                    "ELOZO_FOGLALAS_IDOTARTAM": "4"
                                },
                                {
                                    "SZOBA_ID": "133",
                                    "FOGLALAS_IDOTARTAM": "7",
                                    "ELOZO_FOGLALAS_IDOTARTAM": "3"
                                },
                                {
                                    "SZOBA_ID": "133",
                                    "FOGLALAS_IDOTARTAM": "3",
                                    "ELOZO_FOGLALAS_IDOTARTAM": "7"
                                },
                                {
                                    "SZOBA_ID": "133",
                                    "FOGLALAS_IDOTARTAM": "5",
                                    "ELOZO_FOGLALAS_IDOTARTAM": "3"
                                },
                                {
                                    "SZOBA_ID": "133",
                                    "FOGLALAS_IDOTARTAM": "1",
                                    "ELOZO_FOGLALAS_IDOTARTAM": "5"
                                },
                                {
                                    "SZOBA_ID": "134",
                                    "FOGLALAS_IDOTARTAM": "5",
                                    "ELOZO_FOGLALAS_IDOTARTAM": "0"
                                },
                                {
                                    "SZOBA_ID": "134",
                                    "FOGLALAS_IDOTARTAM": "1",
                                    "ELOZO_FOGLALAS_IDOTARTAM": "5"
                                },
                                {
                                    "SZOBA_ID": "134",
                                    "FOGLALAS_IDOTARTAM": "2",
                                    "ELOZO_FOGLALAS_IDOTARTAM": "1"
                                },
                                {
                                    "SZOBA_ID": "134",
                                    "FOGLALAS_IDOTARTAM": "7",
                                    "ELOZO_FOGLALAS_IDOTARTAM": "2"
                                },
                                {
                                    "SZOBA_ID": "134",
                                    "FOGLALAS_IDOTARTAM": "6",
                                    "ELOZO_FOGLALAS_IDOTARTAM": "7"
                                },
                                {
                                    "SZOBA_ID": "134",
                                    "FOGLALAS_IDOTARTAM": "7",
                                    "ELOZO_FOGLALAS_IDOTARTAM": "6"
                                },
                                {
                                    "SZOBA_ID": "135",
                                    "FOGLALAS_IDOTARTAM": "6",
                                    "ELOZO_FOGLALAS_IDOTARTAM": "0"
                                },
                                {
                                    "SZOBA_ID": "135",
                                    "FOGLALAS_IDOTARTAM": "7",
                                    "ELOZO_FOGLALAS_IDOTARTAM": "6"
                                },
                                {
                                    "SZOBA_ID": "135",
                                    "FOGLALAS_IDOTARTAM": "3",
                                    "ELOZO_FOGLALAS_IDOTARTAM": "7"
                                },
                                {
                                    "SZOBA_ID": "136",
                                    "FOGLALAS_IDOTARTAM": "2",
                                    "ELOZO_FOGLALAS_IDOTARTAM": "0"
                                },
                                {
                                    "SZOBA_ID": "136",
                                    "FOGLALAS_IDOTARTAM": "5",
                                    "ELOZO_FOGLALAS_IDOTARTAM": "2"
                                },
                                {
                                    "SZOBA_ID": "136",
                                    "FOGLALAS_IDOTARTAM": "4",
                                    "ELOZO_FOGLALAS_IDOTARTAM": "5"
                                },
                                {
                                    "SZOBA_ID": "137",
                                    "FOGLALAS_IDOTARTAM": "3",
                                    "ELOZO_FOGLALAS_IDOTARTAM": "0"
                                },
                                {
                                    "SZOBA_ID": "137",
                                    "FOGLALAS_IDOTARTAM": "5",
                                    "ELOZO_FOGLALAS_IDOTARTAM": "3"
                                },
                                {
                                    "SZOBA_ID": "137",
                                    "FOGLALAS_IDOTARTAM": "6",
                                    "ELOZO_FOGLALAS_IDOTARTAM": "5"
                                },
                                {
                                    "SZOBA_ID": "137",
                                    "FOGLALAS_IDOTARTAM": "1",
                                    "ELOZO_FOGLALAS_IDOTARTAM": "6"
                                },
                                {
                                    "SZOBA_ID": "137",
                                    "FOGLALAS_IDOTARTAM": "6",
                                    "ELOZO_FOGLALAS_IDOTARTAM": "1"
                                },
                                {
                                    "SZOBA_ID": "137",
                                    "FOGLALAS_IDOTARTAM": "3",
                                    "ELOZO_FOGLALAS_IDOTARTAM": "6"
                                },
                                {
                                    "SZOBA_ID": "138",
                                    "FOGLALAS_IDOTARTAM": "6",
                                    "ELOZO_FOGLALAS_IDOTARTAM": "0"
                                },
                                {
                                    "SZOBA_ID": "138",
                                    "FOGLALAS_IDOTARTAM": "4",
                                    "ELOZO_FOGLALAS_IDOTARTAM": "6"
                                },
                                {
                                    "SZOBA_ID": "138",
                                    "FOGLALAS_IDOTARTAM": "4",
                                    "ELOZO_FOGLALAS_IDOTARTAM": "4"
                                },
                                {
                                    "SZOBA_ID": "138",
                                    "FOGLALAS_IDOTARTAM": "2",
                                    "ELOZO_FOGLALAS_IDOTARTAM": "4"
                                },
                                {
                                    "SZOBA_ID": "138",
                                    "FOGLALAS_IDOTARTAM": "5",
                                    "ELOZO_FOGLALAS_IDOTARTAM": "2"
                                },
                                {
                                    "SZOBA_ID": "138",
                                    "FOGLALAS_IDOTARTAM": "7",
                                    "ELOZO_FOGLALAS_IDOTARTAM": "5"
                                },
                                {
                                    "SZOBA_ID": "138",
                                    "FOGLALAS_IDOTARTAM": "5",
                                    "ELOZO_FOGLALAS_IDOTARTAM": "7"
                                },
                                {
                                    "SZOBA_ID": "139",
                                    "FOGLALAS_IDOTARTAM": "2",
                                    "ELOZO_FOGLALAS_IDOTARTAM": "0"
                                },
                                {
                                    "SZOBA_ID": "139",
                                    "FOGLALAS_IDOTARTAM": "1",
                                    "ELOZO_FOGLALAS_IDOTARTAM": "2"
                                },
                                {
                                    "SZOBA_ID": "139",
                                    "FOGLALAS_IDOTARTAM": "4",
                                    "ELOZO_FOGLALAS_IDOTARTAM": "1"
                                },
                                {
                                    "SZOBA_ID": "139",
                                    "FOGLALAS_IDOTARTAM": "2",
                                    "ELOZO_FOGLALAS_IDOTARTAM": "4"
                                },
                                {
                                    "SZOBA_ID": "139",
                                    "FOGLALAS_IDOTARTAM": "6",
                                    "ELOZO_FOGLALAS_IDOTARTAM": "2"
                                },
                                {
                                    "SZOBA_ID": "139",
                                    "FOGLALAS_IDOTARTAM": "6",
                                    "ELOZO_FOGLALAS_IDOTARTAM": "6"
                                },
                                {
                                    "SZOBA_ID": "139",
                                    "FOGLALAS_IDOTARTAM": "7",
                                    "ELOZO_FOGLALAS_IDOTARTAM": "6"
                                },
                                {
                                    "SZOBA_ID": "140",
                                    "FOGLALAS_IDOTARTAM": "2",
                                    "ELOZO_FOGLALAS_IDOTARTAM": "0"
                                },
                                {
                                    "SZOBA_ID": "140",
                                    "FOGLALAS_IDOTARTAM": "1",
                                    "ELOZO_FOGLALAS_IDOTARTAM": "2"
                                },
                                {
                                    "SZOBA_ID": "140",
                                    "FOGLALAS_IDOTARTAM": "2",
                                    "ELOZO_FOGLALAS_IDOTARTAM": "1"
                                },
                                {
                                    "SZOBA_ID": "140",
                                    "FOGLALAS_IDOTARTAM": "3",
                                    "ELOZO_FOGLALAS_IDOTARTAM": "2"
                                },
                                {
                                    "SZOBA_ID": "140",
                                    "FOGLALAS_IDOTARTAM": "7",
                                    "ELOZO_FOGLALAS_IDOTARTAM": "3"
                                },
                                {
                                    "SZOBA_ID": "140",
                                    "FOGLALAS_IDOTARTAM": "4",
                                    "ELOZO_FOGLALAS_IDOTARTAM": "7"
                                },
                                {
                                    "SZOBA_ID": "140",
                                    "FOGLALAS_IDOTARTAM": "3",
                                    "ELOZO_FOGLALAS_IDOTARTAM": "4"
                                },
                                {
                                    "SZOBA_ID": "140",
                                    "FOGLALAS_IDOTARTAM": "1",
                                    "ELOZO_FOGLALAS_IDOTARTAM": "3"
                                },
                                {
                                    "SZOBA_ID": "141",
                                    "FOGLALAS_IDOTARTAM": "6",
                                    "ELOZO_FOGLALAS_IDOTARTAM": "0"
                                },
                                {
                                    "SZOBA_ID": "141",
                                    "FOGLALAS_IDOTARTAM": "2",
                                    "ELOZO_FOGLALAS_IDOTARTAM": "6"
                                },
                                {
                                    "SZOBA_ID": "141",
                                    "FOGLALAS_IDOTARTAM": "3",
                                    "ELOZO_FOGLALAS_IDOTARTAM": "2"
                                },
                                {
                                    "SZOBA_ID": "141",
                                    "FOGLALAS_IDOTARTAM": "7",
                                    "ELOZO_FOGLALAS_IDOTARTAM": "3"
                                },
                                {
                                    "SZOBA_ID": "141",
                                    "FOGLALAS_IDOTARTAM": "4",
                                    "ELOZO_FOGLALAS_IDOTARTAM": "7"
                                },
                                {
                                    "SZOBA_ID": "141",
                                    "FOGLALAS_IDOTARTAM": "6",
                                    "ELOZO_FOGLALAS_IDOTARTAM": "4"
                                },
                                {
                                    "SZOBA_ID": "142",
                                    "FOGLALAS_IDOTARTAM": "6",
                                    "ELOZO_FOGLALAS_IDOTARTAM": "0"
                                },
                                {
                                    "SZOBA_ID": "142",
                                    "FOGLALAS_IDOTARTAM": "3",
                                    "ELOZO_FOGLALAS_IDOTARTAM": "6"
                                },
                                {
                                    "SZOBA_ID": "143",
                                    "FOGLALAS_IDOTARTAM": "3",
                                    "ELOZO_FOGLALAS_IDOTARTAM": "0"
                                },
                                {
                                    "SZOBA_ID": "143",
                                    "FOGLALAS_IDOTARTAM": "7",
                                    "ELOZO_FOGLALAS_IDOTARTAM": "3"
                                },
                                {
                                    "SZOBA_ID": "143",
                                    "FOGLALAS_IDOTARTAM": "6",
                                    "ELOZO_FOGLALAS_IDOTARTAM": "7"
                                },
                                {
                                    "SZOBA_ID": "143",
                                    "FOGLALAS_IDOTARTAM": "2",
                                    "ELOZO_FOGLALAS_IDOTARTAM": "6"
                                },
                                {
                                    "SZOBA_ID": "143",
                                    "FOGLALAS_IDOTARTAM": "4",
                                    "ELOZO_FOGLALAS_IDOTARTAM": "2"
                                },
                                {
                                    "SZOBA_ID": "143",
                                    "FOGLALAS_IDOTARTAM": "3",
                                    "ELOZO_FOGLALAS_IDOTARTAM": "4"
                                },
                                {
                                    "SZOBA_ID": "143",
                                    "FOGLALAS_IDOTARTAM": "6",
                                    "ELOZO_FOGLALAS_IDOTARTAM": "3"
                                },
                                {
                                    "SZOBA_ID": "144",
                                    "FOGLALAS_IDOTARTAM": "4",
                                    "ELOZO_FOGLALAS_IDOTARTAM": "0"
                                },
                                {
                                    "SZOBA_ID": "144",
                                    "FOGLALAS_IDOTARTAM": "2",
                                    "ELOZO_FOGLALAS_IDOTARTAM": "4"
                                },
                                {
                                    "SZOBA_ID": "144",
                                    "FOGLALAS_IDOTARTAM": "7",
                                    "ELOZO_FOGLALAS_IDOTARTAM": "2"
                                },
                                {
                                    "SZOBA_ID": "144",
                                    "FOGLALAS_IDOTARTAM": "1",
                                    "ELOZO_FOGLALAS_IDOTARTAM": "7"
                                },
                                {
                                    "SZOBA_ID": "144",
                                    "FOGLALAS_IDOTARTAM": "2",
                                    "ELOZO_FOGLALAS_IDOTARTAM": "1"
                                },
                                {
                                    "SZOBA_ID": "145",
                                    "FOGLALAS_IDOTARTAM": "4",
                                    "ELOZO_FOGLALAS_IDOTARTAM": "0"
                                },
                                {
                                    "SZOBA_ID": "145",
                                    "FOGLALAS_IDOTARTAM": "1",
                                    "ELOZO_FOGLALAS_IDOTARTAM": "4"
                                },
                                {
                                    "SZOBA_ID": "145",
                                    "FOGLALAS_IDOTARTAM": "1",
                                    "ELOZO_FOGLALAS_IDOTARTAM": "1"
                                },
                                {
                                    "SZOBA_ID": "145",
                                    "FOGLALAS_IDOTARTAM": "4",
                                    "ELOZO_FOGLALAS_IDOTARTAM": "1"
                                },
                                {
                                    "SZOBA_ID": "145",
                                    "FOGLALAS_IDOTARTAM": "2",
                                    "ELOZO_FOGLALAS_IDOTARTAM": "4"
                                },
                                {
                                    "SZOBA_ID": "145",
                                    "FOGLALAS_IDOTARTAM": "1",
                                    "ELOZO_FOGLALAS_IDOTARTAM": "2"
                                },
                                {
                                    "SZOBA_ID": "146",
                                    "FOGLALAS_IDOTARTAM": "3",
                                    "ELOZO_FOGLALAS_IDOTARTAM": "0"
                                },
                                {
                                    "SZOBA_ID": "146",
                                    "FOGLALAS_IDOTARTAM": "3",
                                    "ELOZO_FOGLALAS_IDOTARTAM": "3"
                                },
                                {
                                    "SZOBA_ID": "146",
                                    "FOGLALAS_IDOTARTAM": "7",
                                    "ELOZO_FOGLALAS_IDOTARTAM": "3"
                                },
                                {
                                    "SZOBA_ID": "146",
                                    "FOGLALAS_IDOTARTAM": "7",
                                    "ELOZO_FOGLALAS_IDOTARTAM": "7"
                                },
                                {
                                    "SZOBA_ID": "146",
                                    "FOGLALAS_IDOTARTAM": "5",
                                    "ELOZO_FOGLALAS_IDOTARTAM": "7"
                                },
                                {
                                    "SZOBA_ID": "146",
                                    "FOGLALAS_IDOTARTAM": "6",
                                    "ELOZO_FOGLALAS_IDOTARTAM": "5"
                                },
                                {
                                    "SZOBA_ID": "147",
                                    "FOGLALAS_IDOTARTAM": "4",
                                    "ELOZO_FOGLALAS_IDOTARTAM": "0"
                                },
                                {
                                    "SZOBA_ID": "148",
                                    "FOGLALAS_IDOTARTAM": "4",
                                    "ELOZO_FOGLALAS_IDOTARTAM": "0"
                                },
                                {
                                    "SZOBA_ID": "148",
                                    "FOGLALAS_IDOTARTAM": "3",
                                    "ELOZO_FOGLALAS_IDOTARTAM": "4"
                                },
                                {
                                    "SZOBA_ID": "148",
                                    "FOGLALAS_IDOTARTAM": "7",
                                    "ELOZO_FOGLALAS_IDOTARTAM": "3"
                                },
                                {
                                    "SZOBA_ID": "148",
                                    "FOGLALAS_IDOTARTAM": "2",
                                    "ELOZO_FOGLALAS_IDOTARTAM": "7"
                                },
                                {
                                    "SZOBA_ID": "148",
                                    "FOGLALAS_IDOTARTAM": "6",
                                    "ELOZO_FOGLALAS_IDOTARTAM": "2"
                                },
                                {
                                    "SZOBA_ID": "148",
                                    "FOGLALAS_IDOTARTAM": "7",
                                    "ELOZO_FOGLALAS_IDOTARTAM": "6"
                                },
                                {
                                    "SZOBA_ID": "149",
                                    "FOGLALAS_IDOTARTAM": "1",
                                    "ELOZO_FOGLALAS_IDOTARTAM": "0"
                                },
                                {
                                    "SZOBA_ID": "149",
                                    "FOGLALAS_IDOTARTAM": "1",
                                    "ELOZO_FOGLALAS_IDOTARTAM": "1"
                                },
                                {
                                    "SZOBA_ID": "149",
                                    "FOGLALAS_IDOTARTAM": "2",
                                    "ELOZO_FOGLALAS_IDOTARTAM": "1"
                                },
                                {
                                    "SZOBA_ID": "149",
                                    "FOGLALAS_IDOTARTAM": "5",
                                    "ELOZO_FOGLALAS_IDOTARTAM": "2"
                                },
                                {
                                    "SZOBA_ID": "149",
                                    "FOGLALAS_IDOTARTAM": "4",
                                    "ELOZO_FOGLALAS_IDOTARTAM": "5"
                                },
                                {
                                    "SZOBA_ID": "149",
                                    "FOGLALAS_IDOTARTAM": "6",
                                    "ELOZO_FOGLALAS_IDOTARTAM": "4"
                                },
                                {
                                    "SZOBA_ID": "149",
                                    "FOGLALAS_IDOTARTAM": "5",
                                    "ELOZO_FOGLALAS_IDOTARTAM": "6"
                                },
                                {
                                    "SZOBA_ID": "150",
                                    "FOGLALAS_IDOTARTAM": "3",
                                    "ELOZO_FOGLALAS_IDOTARTAM": "0"
                                },
                                {
                                    "SZOBA_ID": "150",
                                    "FOGLALAS_IDOTARTAM": "5",
                                    "ELOZO_FOGLALAS_IDOTARTAM": "3"
                                },
                                {
                                    "SZOBA_ID": "150",
                                    "FOGLALAS_IDOTARTAM": "1",
                                    "ELOZO_FOGLALAS_IDOTARTAM": "5"
                                },
                                {
                                    "SZOBA_ID": "150",
                                    "FOGLALAS_IDOTARTAM": "1",
                                    "ELOZO_FOGLALAS_IDOTARTAM": "1"
                                },
                                {
                                    "SZOBA_ID": "150",
                                    "FOGLALAS_IDOTARTAM": "4",
                                    "ELOZO_FOGLALAS_IDOTARTAM": "1"
                                },
                                {
                                    "SZOBA_ID": "150",
                                    "FOGLALAS_IDOTARTAM": "3",
                                    "ELOZO_FOGLALAS_IDOTARTAM": "4"
                                },
                                {
                                    "SZOBA_ID": "151",
                                    "FOGLALAS_IDOTARTAM": "3",
                                    "ELOZO_FOGLALAS_IDOTARTAM": "0"
                                },
                                {
                                    "SZOBA_ID": "151",
                                    "FOGLALAS_IDOTARTAM": "3",
                                    "ELOZO_FOGLALAS_IDOTARTAM": "3"
                                },
                                {
                                    "SZOBA_ID": "151",
                                    "FOGLALAS_IDOTARTAM": "3",
                                    "ELOZO_FOGLALAS_IDOTARTAM": "3"
                                },
                                {
                                    "SZOBA_ID": "152",
                                    "FOGLALAS_IDOTARTAM": "2",
                                    "ELOZO_FOGLALAS_IDOTARTAM": "0"
                                },
                                {
                                    "SZOBA_ID": "152",
                                    "FOGLALAS_IDOTARTAM": "7",
                                    "ELOZO_FOGLALAS_IDOTARTAM": "2"
                                },
                                {
                                    "SZOBA_ID": "152",
                                    "FOGLALAS_IDOTARTAM": "6",
                                    "ELOZO_FOGLALAS_IDOTARTAM": "7"
                                },
                                {
                                    "SZOBA_ID": "152",
                                    "FOGLALAS_IDOTARTAM": "2",
                                    "ELOZO_FOGLALAS_IDOTARTAM": "6"
                                },
                                {
                                    "SZOBA_ID": "153",
                                    "FOGLALAS_IDOTARTAM": "3",
                                    "ELOZO_FOGLALAS_IDOTARTAM": "0"
                                },
                                {
                                    "SZOBA_ID": "153",
                                    "FOGLALAS_IDOTARTAM": "6",
                                    "ELOZO_FOGLALAS_IDOTARTAM": "3"
                                },
                                {
                                    "SZOBA_ID": "153",
                                    "FOGLALAS_IDOTARTAM": "3",
                                    "ELOZO_FOGLALAS_IDOTARTAM": "6"
                                },
                                {
                                    "SZOBA_ID": "153",
                                    "FOGLALAS_IDOTARTAM": "5",
                                    "ELOZO_FOGLALAS_IDOTARTAM": "3"
                                },
                                {
                                    "SZOBA_ID": "153",
                                    "FOGLALAS_IDOTARTAM": "3",
                                    "ELOZO_FOGLALAS_IDOTARTAM": "5"
                                },
                                {
                                    "SZOBA_ID": "154",
                                    "FOGLALAS_IDOTARTAM": "1",
                                    "ELOZO_FOGLALAS_IDOTARTAM": "0"
                                },
                                {
                                    "SZOBA_ID": "154",
                                    "FOGLALAS_IDOTARTAM": "7",
                                    "ELOZO_FOGLALAS_IDOTARTAM": "1"
                                },
                                {
                                    "SZOBA_ID": "154",
                                    "FOGLALAS_IDOTARTAM": "6",
                                    "ELOZO_FOGLALAS_IDOTARTAM": "7"
                                },
                                {
                                    "SZOBA_ID": "154",
                                    "FOGLALAS_IDOTARTAM": "1",
                                    "ELOZO_FOGLALAS_IDOTARTAM": "6"
                                },
                                {
                                    "SZOBA_ID": "154",
                                    "FOGLALAS_IDOTARTAM": "2",
                                    "ELOZO_FOGLALAS_IDOTARTAM": "1"
                                },
                                {
                                    "SZOBA_ID": "155",
                                    "FOGLALAS_IDOTARTAM": "1",
                                    "ELOZO_FOGLALAS_IDOTARTAM": "0"
                                },
                                {
                                    "SZOBA_ID": "155",
                                    "FOGLALAS_IDOTARTAM": "3",
                                    "ELOZO_FOGLALAS_IDOTARTAM": "1"
                                },
                                {
                                    "SZOBA_ID": "155",
                                    "FOGLALAS_IDOTARTAM": "4",
                                    "ELOZO_FOGLALAS_IDOTARTAM": "3"
                                },
                                {
                                    "SZOBA_ID": "155",
                                    "FOGLALAS_IDOTARTAM": "1",
                                    "ELOZO_FOGLALAS_IDOTARTAM": "4"
                                },
                                {
                                    "SZOBA_ID": "155",
                                    "FOGLALAS_IDOTARTAM": "1",
                                    "ELOZO_FOGLALAS_IDOTARTAM": "1"
                                },
                                {
                                    "SZOBA_ID": "156",
                                    "FOGLALAS_IDOTARTAM": "7",
                                    "ELOZO_FOGLALAS_IDOTARTAM": "0"
                                },
                                {
                                    "SZOBA_ID": "156",
                                    "FOGLALAS_IDOTARTAM": "3",
                                    "ELOZO_FOGLALAS_IDOTARTAM": "7"
                                },
                                {
                                    "SZOBA_ID": "156",
                                    "FOGLALAS_IDOTARTAM": "6",
                                    "ELOZO_FOGLALAS_IDOTARTAM": "3"
                                },
                                {
                                    "SZOBA_ID": "156",
                                    "FOGLALAS_IDOTARTAM": "6",
                                    "ELOZO_FOGLALAS_IDOTARTAM": "6"
                                },
                                {
                                    "SZOBA_ID": "156",
                                    "FOGLALAS_IDOTARTAM": "7",
                                    "ELOZO_FOGLALAS_IDOTARTAM": "6"
                                },
                                {
                                    "SZOBA_ID": "156",
                                    "FOGLALAS_IDOTARTAM": "1",
                                    "ELOZO_FOGLALAS_IDOTARTAM": "7"
                                },
                                {
                                    "SZOBA_ID": "156",
                                    "FOGLALAS_IDOTARTAM": "4",
                                    "ELOZO_FOGLALAS_IDOTARTAM": "1"
                                },
                                {
                                    "SZOBA_ID": "157",
                                    "FOGLALAS_IDOTARTAM": "4",
                                    "ELOZO_FOGLALAS_IDOTARTAM": "0"
                                },
                                {
                                    "SZOBA_ID": "157",
                                    "FOGLALAS_IDOTARTAM": "3",
                                    "ELOZO_FOGLALAS_IDOTARTAM": "4"
                                },
                                {
                                    "SZOBA_ID": "157",
                                    "FOGLALAS_IDOTARTAM": "4",
                                    "ELOZO_FOGLALAS_IDOTARTAM": "3"
                                },
                                {
                                    "SZOBA_ID": "157",
                                    "FOGLALAS_IDOTARTAM": "7",
                                    "ELOZO_FOGLALAS_IDOTARTAM": "4"
                                },
                                {
                                    "SZOBA_ID": "157",
                                    "FOGLALAS_IDOTARTAM": "3",
                                    "ELOZO_FOGLALAS_IDOTARTAM": "7"
                                },
                                {
                                    "SZOBA_ID": "158",
                                    "FOGLALAS_IDOTARTAM": "4",
                                    "ELOZO_FOGLALAS_IDOTARTAM": "0"
                                },
                                {
                                    "SZOBA_ID": "158",
                                    "FOGLALAS_IDOTARTAM": "4",
                                    "ELOZO_FOGLALAS_IDOTARTAM": "4"
                                },
                                {
                                    "SZOBA_ID": "158",
                                    "FOGLALAS_IDOTARTAM": "3",
                                    "ELOZO_FOGLALAS_IDOTARTAM": "4"
                                },
                                {
                                    "SZOBA_ID": "160",
                                    "FOGLALAS_IDOTARTAM": "2",
                                    "ELOZO_FOGLALAS_IDOTARTAM": "0"
                                },
                                {
                                    "SZOBA_ID": "160",
                                    "FOGLALAS_IDOTARTAM": "4",
                                    "ELOZO_FOGLALAS_IDOTARTAM": "2"
                                },
                                {
                                    "SZOBA_ID": "160",
                                    "FOGLALAS_IDOTARTAM": "4",
                                    "ELOZO_FOGLALAS_IDOTARTAM": "4"
                                },
                                {
                                    "SZOBA_ID": "160",
                                    "FOGLALAS_IDOTARTAM": "2",
                                    "ELOZO_FOGLALAS_IDOTARTAM": "4"
                                },
                                {
                                    "SZOBA_ID": "160",
                                    "FOGLALAS_IDOTARTAM": "3",
                                    "ELOZO_FOGLALAS_IDOTARTAM": "2"
                                },
                                {
                                    "SZOBA_ID": "161",
                                    "FOGLALAS_IDOTARTAM": "4",
                                    "ELOZO_FOGLALAS_IDOTARTAM": "0"
                                },
                                {
                                    "SZOBA_ID": "161",
                                    "FOGLALAS_IDOTARTAM": "7",
                                    "ELOZO_FOGLALAS_IDOTARTAM": "4"
                                },
                                {
                                    "SZOBA_ID": "161",
                                    "FOGLALAS_IDOTARTAM": "4",
                                    "ELOZO_FOGLALAS_IDOTARTAM": "7"
                                },
                                {
                                    "SZOBA_ID": "161",
                                    "FOGLALAS_IDOTARTAM": "6",
                                    "ELOZO_FOGLALAS_IDOTARTAM": "4"
                                },
                                {
                                    "SZOBA_ID": "161",
                                    "FOGLALAS_IDOTARTAM": "7",
                                    "ELOZO_FOGLALAS_IDOTARTAM": "6"
                                },
                                {
                                    "SZOBA_ID": "161",
                                    "FOGLALAS_IDOTARTAM": "4",
                                    "ELOZO_FOGLALAS_IDOTARTAM": "7"
                                },
                                {
                                    "SZOBA_ID": "162",
                                    "FOGLALAS_IDOTARTAM": "4",
                                    "ELOZO_FOGLALAS_IDOTARTAM": "0"
                                },
                                {
                                    "SZOBA_ID": "162",
                                    "FOGLALAS_IDOTARTAM": "6",
                                    "ELOZO_FOGLALAS_IDOTARTAM": "4"
                                },
                                {
                                    "SZOBA_ID": "162",
                                    "FOGLALAS_IDOTARTAM": "1",
                                    "ELOZO_FOGLALAS_IDOTARTAM": "6"
                                },
                                {
                                    "SZOBA_ID": "163",
                                    "FOGLALAS_IDOTARTAM": "2",
                                    "ELOZO_FOGLALAS_IDOTARTAM": "0"
                                },
                                {
                                    "SZOBA_ID": "163",
                                    "FOGLALAS_IDOTARTAM": "1",
                                    "ELOZO_FOGLALAS_IDOTARTAM": "2"
                                },
                                {
                                    "SZOBA_ID": "163",
                                    "FOGLALAS_IDOTARTAM": "3",
                                    "ELOZO_FOGLALAS_IDOTARTAM": "1"
                                },
                                {
                                    "SZOBA_ID": "163",
                                    "FOGLALAS_IDOTARTAM": "4",
                                    "ELOZO_FOGLALAS_IDOTARTAM": "3"
                                },
                                {
                                    "SZOBA_ID": "163",
                                    "FOGLALAS_IDOTARTAM": "3",
                                    "ELOZO_FOGLALAS_IDOTARTAM": "4"
                                },
                                {
                                    "SZOBA_ID": "163",
                                    "FOGLALAS_IDOTARTAM": "5",
                                    "ELOZO_FOGLALAS_IDOTARTAM": "3"
                                },
                                {
                                    "SZOBA_ID": "163",
                                    "FOGLALAS_IDOTARTAM": "3",
                                    "ELOZO_FOGLALAS_IDOTARTAM": "5"
                                },
                                {
                                    "SZOBA_ID": "164",
                                    "FOGLALAS_IDOTARTAM": "7",
                                    "ELOZO_FOGLALAS_IDOTARTAM": "0"
                                },
                                {
                                    "SZOBA_ID": "164",
                                    "FOGLALAS_IDOTARTAM": "2",
                                    "ELOZO_FOGLALAS_IDOTARTAM": "7"
                                },
                                {
                                    "SZOBA_ID": "164",
                                    "FOGLALAS_IDOTARTAM": "6",
                                    "ELOZO_FOGLALAS_IDOTARTAM": "2"
                                },
                                {
                                    "SZOBA_ID": "164",
                                    "FOGLALAS_IDOTARTAM": "4",
                                    "ELOZO_FOGLALAS_IDOTARTAM": "6"
                                },
                                {
                                    "SZOBA_ID": "164",
                                    "FOGLALAS_IDOTARTAM": "2",
                                    "ELOZO_FOGLALAS_IDOTARTAM": "4"
                                },
                                {
                                    "SZOBA_ID": "165",
                                    "FOGLALAS_IDOTARTAM": "3",
                                    "ELOZO_FOGLALAS_IDOTARTAM": "0"
                                },
                                {
                                    "SZOBA_ID": "165",
                                    "FOGLALAS_IDOTARTAM": "5",
                                    "ELOZO_FOGLALAS_IDOTARTAM": "3"
                                },
                                {
                                    "SZOBA_ID": "165",
                                    "FOGLALAS_IDOTARTAM": "6",
                                    "ELOZO_FOGLALAS_IDOTARTAM": "5"
                                },
                                {
                                    "SZOBA_ID": "165",
                                    "FOGLALAS_IDOTARTAM": "6",
                                    "ELOZO_FOGLALAS_IDOTARTAM": "6"
                                },
                                {
                                    "SZOBA_ID": "165",
                                    "FOGLALAS_IDOTARTAM": "3",
                                    "ELOZO_FOGLALAS_IDOTARTAM": "6"
                                },
                                {
                                    "SZOBA_ID": "165",
                                    "FOGLALAS_IDOTARTAM": "1",
                                    "ELOZO_FOGLALAS_IDOTARTAM": "3"
                                },
                                {
                                    "SZOBA_ID": "165",
                                    "FOGLALAS_IDOTARTAM": "4",
                                    "ELOZO_FOGLALAS_IDOTARTAM": "1"
                                },
                                {
                                    "SZOBA_ID": "166",
                                    "FOGLALAS_IDOTARTAM": "7",
                                    "ELOZO_FOGLALAS_IDOTARTAM": "0"
                                },
                                {
                                    "SZOBA_ID": "166",
                                    "FOGLALAS_IDOTARTAM": "7",
                                    "ELOZO_FOGLALAS_IDOTARTAM": "7"
                                },
                                {
                                    "SZOBA_ID": "166",
                                    "FOGLALAS_IDOTARTAM": "2",
                                    "ELOZO_FOGLALAS_IDOTARTAM": "7"
                                },
                                {
                                    "SZOBA_ID": "167",
                                    "FOGLALAS_IDOTARTAM": "7",
                                    "ELOZO_FOGLALAS_IDOTARTAM": "0"
                                },
                                {
                                    "SZOBA_ID": "167",
                                    "FOGLALAS_IDOTARTAM": "3",
                                    "ELOZO_FOGLALAS_IDOTARTAM": "7"
                                },
                                {
                                    "SZOBA_ID": "168",
                                    "FOGLALAS_IDOTARTAM": "3",
                                    "ELOZO_FOGLALAS_IDOTARTAM": "0"
                                },
                                {
                                    "SZOBA_ID": "168",
                                    "FOGLALAS_IDOTARTAM": "3",
                                    "ELOZO_FOGLALAS_IDOTARTAM": "3"
                                },
                                {
                                    "SZOBA_ID": "168",
                                    "FOGLALAS_IDOTARTAM": "4",
                                    "ELOZO_FOGLALAS_IDOTARTAM": "3"
                                },
                                {
                                    "SZOBA_ID": "168",
                                    "FOGLALAS_IDOTARTAM": "4",
                                    "ELOZO_FOGLALAS_IDOTARTAM": "4"
                                },
                                {
                                    "SZOBA_ID": "168",
                                    "FOGLALAS_IDOTARTAM": "4",
                                    "ELOZO_FOGLALAS_IDOTARTAM": "4"
                                },
                                {
                                    "SZOBA_ID": "169",
                                    "FOGLALAS_IDOTARTAM": "5",
                                    "ELOZO_FOGLALAS_IDOTARTAM": "0"
                                },
                                {
                                    "SZOBA_ID": "169",
                                    "FOGLALAS_IDOTARTAM": "6",
                                    "ELOZO_FOGLALAS_IDOTARTAM": "5"
                                },
                                {
                                    "SZOBA_ID": "169",
                                    "FOGLALAS_IDOTARTAM": "1",
                                    "ELOZO_FOGLALAS_IDOTARTAM": "6"
                                },
                                {
                                    "SZOBA_ID": "169",
                                    "FOGLALAS_IDOTARTAM": "7",
                                    "ELOZO_FOGLALAS_IDOTARTAM": "1"
                                },
                                {
                                    "SZOBA_ID": "169",
                                    "FOGLALAS_IDOTARTAM": "4",
                                    "ELOZO_FOGLALAS_IDOTARTAM": "7"
                                },
                                {
                                    "SZOBA_ID": "169",
                                    "FOGLALAS_IDOTARTAM": "1",
                                    "ELOZO_FOGLALAS_IDOTARTAM": "4"
                                },
                                {
                                    "SZOBA_ID": "170",
                                    "FOGLALAS_IDOTARTAM": "7",
                                    "ELOZO_FOGLALAS_IDOTARTAM": "0"
                                },
                                {
                                    "SZOBA_ID": "170",
                                    "FOGLALAS_IDOTARTAM": "4",
                                    "ELOZO_FOGLALAS_IDOTARTAM": "7"
                                },
                                {
                                    "SZOBA_ID": "170",
                                    "FOGLALAS_IDOTARTAM": "4",
                                    "ELOZO_FOGLALAS_IDOTARTAM": "4"
                                },
                                {
                                    "SZOBA_ID": "170",
                                    "FOGLALAS_IDOTARTAM": "7",
                                    "ELOZO_FOGLALAS_IDOTARTAM": "4"
                                },
                                {
                                    "SZOBA_ID": "170",
                                    "FOGLALAS_IDOTARTAM": "6",
                                    "ELOZO_FOGLALAS_IDOTARTAM": "7"
                                },
                                {
                                    "SZOBA_ID": "171",
                                    "FOGLALAS_IDOTARTAM": "2",
                                    "ELOZO_FOGLALAS_IDOTARTAM": "0"
                                },
                                {
                                    "SZOBA_ID": "171",
                                    "FOGLALAS_IDOTARTAM": "4",
                                    "ELOZO_FOGLALAS_IDOTARTAM": "2"
                                },
                                {
                                    "SZOBA_ID": "171",
                                    "FOGLALAS_IDOTARTAM": "6",
                                    "ELOZO_FOGLALAS_IDOTARTAM": "4"
                                },
                                {
                                    "SZOBA_ID": "171",
                                    "FOGLALAS_IDOTARTAM": "5",
                                    "ELOZO_FOGLALAS_IDOTARTAM": "6"
                                },
                                {
                                    "SZOBA_ID": "171",
                                    "FOGLALAS_IDOTARTAM": "6",
                                    "ELOZO_FOGLALAS_IDOTARTAM": "5"
                                },
                                {
                                    "SZOBA_ID": "172",
                                    "FOGLALAS_IDOTARTAM": "4",
                                    "ELOZO_FOGLALAS_IDOTARTAM": "0"
                                },
                                {
                                    "SZOBA_ID": "172",
                                    "FOGLALAS_IDOTARTAM": "5",
                                    "ELOZO_FOGLALAS_IDOTARTAM": "4"
                                },
                                {
                                    "SZOBA_ID": "172",
                                    "FOGLALAS_IDOTARTAM": "6",
                                    "ELOZO_FOGLALAS_IDOTARTAM": "5"
                                },
                                {
                                    "SZOBA_ID": "172",
                                    "FOGLALAS_IDOTARTAM": "5",
                                    "ELOZO_FOGLALAS_IDOTARTAM": "6"
                                },
                                {
                                    "SZOBA_ID": "172",
                                    "FOGLALAS_IDOTARTAM": "4",
                                    "ELOZO_FOGLALAS_IDOTARTAM": "5"
                                },
                                {
                                    "SZOBA_ID": "172",
                                    "FOGLALAS_IDOTARTAM": "5",
                                    "ELOZO_FOGLALAS_IDOTARTAM": "4"
                                },
                                {
                                    "SZOBA_ID": "172",
                                    "FOGLALAS_IDOTARTAM": "5",
                                    "ELOZO_FOGLALAS_IDOTARTAM": "5"
                                },
                                {
                                    "SZOBA_ID": "172",
                                    "FOGLALAS_IDOTARTAM": "5",
                                    "ELOZO_FOGLALAS_IDOTARTAM": "5"
                                },
                                {
                                    "SZOBA_ID": "172",
                                    "FOGLALAS_IDOTARTAM": "2",
                                    "ELOZO_FOGLALAS_IDOTARTAM": "5"
                                },
                                {
                                    "SZOBA_ID": "173",
                                    "FOGLALAS_IDOTARTAM": "1",
                                    "ELOZO_FOGLALAS_IDOTARTAM": "0"
                                },
                                {
                                    "SZOBA_ID": "173",
                                    "FOGLALAS_IDOTARTAM": "7",
                                    "ELOZO_FOGLALAS_IDOTARTAM": "1"
                                },
                                {
                                    "SZOBA_ID": "173",
                                    "FOGLALAS_IDOTARTAM": "3",
                                    "ELOZO_FOGLALAS_IDOTARTAM": "7"
                                },
                                {
                                    "SZOBA_ID": "173",
                                    "FOGLALAS_IDOTARTAM": "4",
                                    "ELOZO_FOGLALAS_IDOTARTAM": "3"
                                },
                                {
                                    "SZOBA_ID": "174",
                                    "FOGLALAS_IDOTARTAM": "2",
                                    "ELOZO_FOGLALAS_IDOTARTAM": "0"
                                },
                                {
                                    "SZOBA_ID": "174",
                                    "FOGLALAS_IDOTARTAM": "5",
                                    "ELOZO_FOGLALAS_IDOTARTAM": "2"
                                },
                                {
                                    "SZOBA_ID": "174",
                                    "FOGLALAS_IDOTARTAM": "3",
                                    "ELOZO_FOGLALAS_IDOTARTAM": "5"
                                },
                                {
                                    "SZOBA_ID": "174",
                                    "FOGLALAS_IDOTARTAM": "1",
                                    "ELOZO_FOGLALAS_IDOTARTAM": "3"
                                },
                                {
                                    "SZOBA_ID": "175",
                                    "FOGLALAS_IDOTARTAM": "6",
                                    "ELOZO_FOGLALAS_IDOTARTAM": "0"
                                },
                                {
                                    "SZOBA_ID": "175",
                                    "FOGLALAS_IDOTARTAM": "4",
                                    "ELOZO_FOGLALAS_IDOTARTAM": "6"
                                },
                                {
                                    "SZOBA_ID": "175",
                                    "FOGLALAS_IDOTARTAM": "5",
                                    "ELOZO_FOGLALAS_IDOTARTAM": "4"
                                },
                                {
                                    "SZOBA_ID": "175",
                                    "FOGLALAS_IDOTARTAM": "2",
                                    "ELOZO_FOGLALAS_IDOTARTAM": "5"
                                },
                                {
                                    "SZOBA_ID": "175",
                                    "FOGLALAS_IDOTARTAM": "7",
                                    "ELOZO_FOGLALAS_IDOTARTAM": "2"
                                },
                                {
                                    "SZOBA_ID": "176",
                                    "FOGLALAS_IDOTARTAM": "5",
                                    "ELOZO_FOGLALAS_IDOTARTAM": "0"
                                },
                                {
                                    "SZOBA_ID": "176",
                                    "FOGLALAS_IDOTARTAM": "6",
                                    "ELOZO_FOGLALAS_IDOTARTAM": "5"
                                },
                                {
                                    "SZOBA_ID": "176",
                                    "FOGLALAS_IDOTARTAM": "6",
                                    "ELOZO_FOGLALAS_IDOTARTAM": "6"
                                },
                                {
                                    "SZOBA_ID": "176",
                                    "FOGLALAS_IDOTARTAM": "4",
                                    "ELOZO_FOGLALAS_IDOTARTAM": "6"
                                },
                                {
                                    "SZOBA_ID": "176",
                                    "FOGLALAS_IDOTARTAM": "2",
                                    "ELOZO_FOGLALAS_IDOTARTAM": "4"
                                },
                                {
                                    "SZOBA_ID": "176",
                                    "FOGLALAS_IDOTARTAM": "3",
                                    "ELOZO_FOGLALAS_IDOTARTAM": "2"
                                },
                                {
                                    "SZOBA_ID": "177",
                                    "FOGLALAS_IDOTARTAM": "3",
                                    "ELOZO_FOGLALAS_IDOTARTAM": "0"
                                },
                                {
                                    "SZOBA_ID": "177",
                                    "FOGLALAS_IDOTARTAM": "7",
                                    "ELOZO_FOGLALAS_IDOTARTAM": "3"
                                },
                                {
                                    "SZOBA_ID": "177",
                                    "FOGLALAS_IDOTARTAM": "3",
                                    "ELOZO_FOGLALAS_IDOTARTAM": "7"
                                },
                                {
                                    "SZOBA_ID": "177",
                                    "FOGLALAS_IDOTARTAM": "3",
                                    "ELOZO_FOGLALAS_IDOTARTAM": "3"
                                },
                                {
                                    "SZOBA_ID": "178",
                                    "FOGLALAS_IDOTARTAM": "7",
                                    "ELOZO_FOGLALAS_IDOTARTAM": "0"
                                },
                                {
                                    "SZOBA_ID": "178",
                                    "FOGLALAS_IDOTARTAM": "4",
                                    "ELOZO_FOGLALAS_IDOTARTAM": "7"
                                },
                                {
                                    "SZOBA_ID": "178",
                                    "FOGLALAS_IDOTARTAM": "3",
                                    "ELOZO_FOGLALAS_IDOTARTAM": "4"
                                },
                                {
                                    "SZOBA_ID": "178",
                                    "FOGLALAS_IDOTARTAM": "1",
                                    "ELOZO_FOGLALAS_IDOTARTAM": "3"
                                },
                                {
                                    "SZOBA_ID": "179",
                                    "FOGLALAS_IDOTARTAM": "2",
                                    "ELOZO_FOGLALAS_IDOTARTAM": "0"
                                },
                                {
                                    "SZOBA_ID": "179",
                                    "FOGLALAS_IDOTARTAM": "1",
                                    "ELOZO_FOGLALAS_IDOTARTAM": "2"
                                },
                                {
                                    "SZOBA_ID": "179",
                                    "FOGLALAS_IDOTARTAM": "1",
                                    "ELOZO_FOGLALAS_IDOTARTAM": "1"
                                },
                                {
                                    "SZOBA_ID": "180",
                                    "FOGLALAS_IDOTARTAM": "5",
                                    "ELOZO_FOGLALAS_IDOTARTAM": "0"
                                },
                                {
                                    "SZOBA_ID": "180",
                                    "FOGLALAS_IDOTARTAM": "3",
                                    "ELOZO_FOGLALAS_IDOTARTAM": "5"
                                },
                                {
                                    "SZOBA_ID": "180",
                                    "FOGLALAS_IDOTARTAM": "6",
                                    "ELOZO_FOGLALAS_IDOTARTAM": "3"
                                },
                                {
                                    "SZOBA_ID": "181",
                                    "FOGLALAS_IDOTARTAM": "3",
                                    "ELOZO_FOGLALAS_IDOTARTAM": "0"
                                },
                                {
                                    "SZOBA_ID": "181",
                                    "FOGLALAS_IDOTARTAM": "5",
                                    "ELOZO_FOGLALAS_IDOTARTAM": "3"
                                },
                                {
                                    "SZOBA_ID": "181",
                                    "FOGLALAS_IDOTARTAM": "1",
                                    "ELOZO_FOGLALAS_IDOTARTAM": "5"
                                },
                                {
                                    "SZOBA_ID": "181",
                                    "FOGLALAS_IDOTARTAM": "4",
                                    "ELOZO_FOGLALAS_IDOTARTAM": "1"
                                },
                                {
                                    "SZOBA_ID": "181",
                                    "FOGLALAS_IDOTARTAM": "6",
                                    "ELOZO_FOGLALAS_IDOTARTAM": "4"
                                },
                                {
                                    "SZOBA_ID": "181",
                                    "FOGLALAS_IDOTARTAM": "6",
                                    "ELOZO_FOGLALAS_IDOTARTAM": "6"
                                },
                                {
                                    "SZOBA_ID": "182",
                                    "FOGLALAS_IDOTARTAM": "2",
                                    "ELOZO_FOGLALAS_IDOTARTAM": "0"
                                },
                                {
                                    "SZOBA_ID": "182",
                                    "FOGLALAS_IDOTARTAM": "2",
                                    "ELOZO_FOGLALAS_IDOTARTAM": "2"
                                },
                                {
                                    "SZOBA_ID": "182",
                                    "FOGLALAS_IDOTARTAM": "6",
                                    "ELOZO_FOGLALAS_IDOTARTAM": "2"
                                },
                                {
                                    "SZOBA_ID": "182",
                                    "FOGLALAS_IDOTARTAM": "3",
                                    "ELOZO_FOGLALAS_IDOTARTAM": "6"
                                },
                                {
                                    "SZOBA_ID": "182",
                                    "FOGLALAS_IDOTARTAM": "1",
                                    "ELOZO_FOGLALAS_IDOTARTAM": "3"
                                },
                                {
                                    "SZOBA_ID": "182",
                                    "FOGLALAS_IDOTARTAM": "7",
                                    "ELOZO_FOGLALAS_IDOTARTAM": "1"
                                },
                                {
                                    "SZOBA_ID": "182",
                                    "FOGLALAS_IDOTARTAM": "4",
                                    "ELOZO_FOGLALAS_IDOTARTAM": "7"
                                },
                                {
                                    "SZOBA_ID": "182",
                                    "FOGLALAS_IDOTARTAM": "1",
                                    "ELOZO_FOGLALAS_IDOTARTAM": "4"
                                },
                                {
                                    "SZOBA_ID": "182",
                                    "FOGLALAS_IDOTARTAM": "3",
                                    "ELOZO_FOGLALAS_IDOTARTAM": "1"
                                },
                                {
                                    "SZOBA_ID": "182",
                                    "FOGLALAS_IDOTARTAM": "4",
                                    "ELOZO_FOGLALAS_IDOTARTAM": "3"
                                },
                                {
                                    "SZOBA_ID": "182",
                                    "FOGLALAS_IDOTARTAM": "4",
                                    "ELOZO_FOGLALAS_IDOTARTAM": "4"
                                },
                                {
                                    "SZOBA_ID": "182",
                                    "FOGLALAS_IDOTARTAM": "3",
                                    "ELOZO_FOGLALAS_IDOTARTAM": "4"
                                },
                                {
                                    "SZOBA_ID": "183",
                                    "FOGLALAS_IDOTARTAM": "4",
                                    "ELOZO_FOGLALAS_IDOTARTAM": "0"
                                },
                                {
                                    "SZOBA_ID": "183",
                                    "FOGLALAS_IDOTARTAM": "7",
                                    "ELOZO_FOGLALAS_IDOTARTAM": "4"
                                },
                                {
                                    "SZOBA_ID": "183",
                                    "FOGLALAS_IDOTARTAM": "4",
                                    "ELOZO_FOGLALAS_IDOTARTAM": "7"
                                },
                                {
                                    "SZOBA_ID": "183",
                                    "FOGLALAS_IDOTARTAM": "4",
                                    "ELOZO_FOGLALAS_IDOTARTAM": "4"
                                },
                                {
                                    "SZOBA_ID": "184",
                                    "FOGLALAS_IDOTARTAM": "2",
                                    "ELOZO_FOGLALAS_IDOTARTAM": "0"
                                },
                                {
                                    "SZOBA_ID": "184",
                                    "FOGLALAS_IDOTARTAM": "4",
                                    "ELOZO_FOGLALAS_IDOTARTAM": "2"
                                },
                                {
                                    "SZOBA_ID": "184",
                                    "FOGLALAS_IDOTARTAM": "3",
                                    "ELOZO_FOGLALAS_IDOTARTAM": "4"
                                },
                                {
                                    "SZOBA_ID": "184",
                                    "FOGLALAS_IDOTARTAM": "4",
                                    "ELOZO_FOGLALAS_IDOTARTAM": "3"
                                },
                                {
                                    "SZOBA_ID": "185",
                                    "FOGLALAS_IDOTARTAM": "6",
                                    "ELOZO_FOGLALAS_IDOTARTAM": "0"
                                },
                                {
                                    "SZOBA_ID": "185",
                                    "FOGLALAS_IDOTARTAM": "4",
                                    "ELOZO_FOGLALAS_IDOTARTAM": "6"
                                },
                                {
                                    "SZOBA_ID": "185",
                                    "FOGLALAS_IDOTARTAM": "4",
                                    "ELOZO_FOGLALAS_IDOTARTAM": "4"
                                },
                                {
                                    "SZOBA_ID": "185",
                                    "FOGLALAS_IDOTARTAM": "6",
                                    "ELOZO_FOGLALAS_IDOTARTAM": "4"
                                },
                                {
                                    "SZOBA_ID": "185",
                                    "FOGLALAS_IDOTARTAM": "3",
                                    "ELOZO_FOGLALAS_IDOTARTAM": "6"
                                },
                                {
                                    "SZOBA_ID": "185",
                                    "FOGLALAS_IDOTARTAM": "5",
                                    "ELOZO_FOGLALAS_IDOTARTAM": "3"
                                },
                                {
                                    "SZOBA_ID": "185",
                                    "FOGLALAS_IDOTARTAM": "2",
                                    "ELOZO_FOGLALAS_IDOTARTAM": "5"
                                },
                                {
                                    "SZOBA_ID": "185",
                                    "FOGLALAS_IDOTARTAM": "3",
                                    "ELOZO_FOGLALAS_IDOTARTAM": "2"
                                },
                                {
                                    "SZOBA_ID": "185",
                                    "FOGLALAS_IDOTARTAM": "3",
                                    "ELOZO_FOGLALAS_IDOTARTAM": "3"
                                },
                                {
                                    "SZOBA_ID": "185",
                                    "FOGLALAS_IDOTARTAM": "5",
                                    "ELOZO_FOGLALAS_IDOTARTAM": "3"
                                },
                                {
                                    "SZOBA_ID": "185",
                                    "FOGLALAS_IDOTARTAM": "7",
                                    "ELOZO_FOGLALAS_IDOTARTAM": "5"
                                },
                                {
                                    "SZOBA_ID": "185",
                                    "FOGLALAS_IDOTARTAM": "7",
                                    "ELOZO_FOGLALAS_IDOTARTAM": "7"
                                },
                                {
                                    "SZOBA_ID": "186",
                                    "FOGLALAS_IDOTARTAM": "3",
                                    "ELOZO_FOGLALAS_IDOTARTAM": "0"
                                },
                                {
                                    "SZOBA_ID": "186",
                                    "FOGLALAS_IDOTARTAM": "3",
                                    "ELOZO_FOGLALAS_IDOTARTAM": "3"
                                },
                                {
                                    "SZOBA_ID": "186",
                                    "FOGLALAS_IDOTARTAM": "2",
                                    "ELOZO_FOGLALAS_IDOTARTAM": "3"
                                },
                                {
                                    "SZOBA_ID": "186",
                                    "FOGLALAS_IDOTARTAM": "3",
                                    "ELOZO_FOGLALAS_IDOTARTAM": "2"
                                },
                                {
                                    "SZOBA_ID": "187",
                                    "FOGLALAS_IDOTARTAM": "6",
                                    "ELOZO_FOGLALAS_IDOTARTAM": "0"
                                },
                                {
                                    "SZOBA_ID": "187",
                                    "FOGLALAS_IDOTARTAM": "4",
                                    "ELOZO_FOGLALAS_IDOTARTAM": "6"
                                },
                                {
                                    "SZOBA_ID": "187",
                                    "FOGLALAS_IDOTARTAM": "4",
                                    "ELOZO_FOGLALAS_IDOTARTAM": "4"
                                },
                                {
                                    "SZOBA_ID": "187",
                                    "FOGLALAS_IDOTARTAM": "6",
                                    "ELOZO_FOGLALAS_IDOTARTAM": "4"
                                },
                                {
                                    "SZOBA_ID": "187",
                                    "FOGLALAS_IDOTARTAM": "2",
                                    "ELOZO_FOGLALAS_IDOTARTAM": "6"
                                },
                                {
                                    "SZOBA_ID": "187",
                                    "FOGLALAS_IDOTARTAM": "1",
                                    "ELOZO_FOGLALAS_IDOTARTAM": "2"
                                },
                                {
                                    "SZOBA_ID": "187",
                                    "FOGLALAS_IDOTARTAM": "2",
                                    "ELOZO_FOGLALAS_IDOTARTAM": "1"
                                },
                                {
                                    "SZOBA_ID": "188",
                                    "FOGLALAS_IDOTARTAM": "1",
                                    "ELOZO_FOGLALAS_IDOTARTAM": "0"
                                },
                                {
                                    "SZOBA_ID": "188",
                                    "FOGLALAS_IDOTARTAM": "4",
                                    "ELOZO_FOGLALAS_IDOTARTAM": "1"
                                },
                                {
                                    "SZOBA_ID": "188",
                                    "FOGLALAS_IDOTARTAM": "7",
                                    "ELOZO_FOGLALAS_IDOTARTAM": "4"
                                },
                                {
                                    "SZOBA_ID": "188",
                                    "FOGLALAS_IDOTARTAM": "3",
                                    "ELOZO_FOGLALAS_IDOTARTAM": "7"
                                },
                                {
                                    "SZOBA_ID": "188",
                                    "FOGLALAS_IDOTARTAM": "4",
                                    "ELOZO_FOGLALAS_IDOTARTAM": "3"
                                },
                                {
                                    "SZOBA_ID": "188",
                                    "FOGLALAS_IDOTARTAM": "5",
                                    "ELOZO_FOGLALAS_IDOTARTAM": "4"
                                },
                                {
                                    "SZOBA_ID": "189",
                                    "FOGLALAS_IDOTARTAM": "2",
                                    "ELOZO_FOGLALAS_IDOTARTAM": "0"
                                },
                                {
                                    "SZOBA_ID": "189",
                                    "FOGLALAS_IDOTARTAM": "1",
                                    "ELOZO_FOGLALAS_IDOTARTAM": "2"
                                },
                                {
                                    "SZOBA_ID": "189",
                                    "FOGLALAS_IDOTARTAM": "2",
                                    "ELOZO_FOGLALAS_IDOTARTAM": "1"
                                },
                                {
                                    "SZOBA_ID": "189",
                                    "FOGLALAS_IDOTARTAM": "2",
                                    "ELOZO_FOGLALAS_IDOTARTAM": "2"
                                },
                                {
                                    "SZOBA_ID": "189",
                                    "FOGLALAS_IDOTARTAM": "3",
                                    "ELOZO_FOGLALAS_IDOTARTAM": "2"
                                },
                                {
                                    "SZOBA_ID": "190",
                                    "FOGLALAS_IDOTARTAM": "7",
                                    "ELOZO_FOGLALAS_IDOTARTAM": "0"
                                },
                                {
                                    "SZOBA_ID": "190",
                                    "FOGLALAS_IDOTARTAM": "1",
                                    "ELOZO_FOGLALAS_IDOTARTAM": "7"
                                },
                                {
                                    "SZOBA_ID": "190",
                                    "FOGLALAS_IDOTARTAM": "1",
                                    "ELOZO_FOGLALAS_IDOTARTAM": "1"
                                },
                                {
                                    "SZOBA_ID": "190",
                                    "FOGLALAS_IDOTARTAM": "5",
                                    "ELOZO_FOGLALAS_IDOTARTAM": "1"
                                },
                                {
                                    "SZOBA_ID": "190",
                                    "FOGLALAS_IDOTARTAM": "5",
                                    "ELOZO_FOGLALAS_IDOTARTAM": "5"
                                },
                                {
                                    "SZOBA_ID": "191",
                                    "FOGLALAS_IDOTARTAM": "6",
                                    "ELOZO_FOGLALAS_IDOTARTAM": "0"
                                },
                                {
                                    "SZOBA_ID": "191",
                                    "FOGLALAS_IDOTARTAM": "1",
                                    "ELOZO_FOGLALAS_IDOTARTAM": "6"
                                },
                                {
                                    "SZOBA_ID": "191",
                                    "FOGLALAS_IDOTARTAM": "7",
                                    "ELOZO_FOGLALAS_IDOTARTAM": "1"
                                },
                                {
                                    "SZOBA_ID": "191",
                                    "FOGLALAS_IDOTARTAM": "2",
                                    "ELOZO_FOGLALAS_IDOTARTAM": "7"
                                },
                                {
                                    "SZOBA_ID": "191",
                                    "FOGLALAS_IDOTARTAM": "7",
                                    "ELOZO_FOGLALAS_IDOTARTAM": "2"
                                },
                                {
                                    "SZOBA_ID": "192",
                                    "FOGLALAS_IDOTARTAM": "7",
                                    "ELOZO_FOGLALAS_IDOTARTAM": "0"
                                },
                                {
                                    "SZOBA_ID": "192",
                                    "FOGLALAS_IDOTARTAM": "4",
                                    "ELOZO_FOGLALAS_IDOTARTAM": "7"
                                },
                                {
                                    "SZOBA_ID": "193",
                                    "FOGLALAS_IDOTARTAM": "6",
                                    "ELOZO_FOGLALAS_IDOTARTAM": "0"
                                },
                                {
                                    "SZOBA_ID": "193",
                                    "FOGLALAS_IDOTARTAM": "1",
                                    "ELOZO_FOGLALAS_IDOTARTAM": "6"
                                },
                                {
                                    "SZOBA_ID": "193",
                                    "FOGLALAS_IDOTARTAM": "2",
                                    "ELOZO_FOGLALAS_IDOTARTAM": "1"
                                },
                                {
                                    "SZOBA_ID": "193",
                                    "FOGLALAS_IDOTARTAM": "2",
                                    "ELOZO_FOGLALAS_IDOTARTAM": "2"
                                },
                                {
                                    "SZOBA_ID": "193",
                                    "FOGLALAS_IDOTARTAM": "2",
                                    "ELOZO_FOGLALAS_IDOTARTAM": "2"
                                },
                                {
                                    "SZOBA_ID": "193",
                                    "FOGLALAS_IDOTARTAM": "6",
                                    "ELOZO_FOGLALAS_IDOTARTAM": "2"
                                },
                                {
                                    "SZOBA_ID": "193",
                                    "FOGLALAS_IDOTARTAM": "6",
                                    "ELOZO_FOGLALAS_IDOTARTAM": "6"
                                },
                                {
                                    "SZOBA_ID": "194",
                                    "FOGLALAS_IDOTARTAM": "5",
                                    "ELOZO_FOGLALAS_IDOTARTAM": "0"
                                },
                                {
                                    "SZOBA_ID": "195",
                                    "FOGLALAS_IDOTARTAM": "4",
                                    "ELOZO_FOGLALAS_IDOTARTAM": "0"
                                },
                                {
                                    "SZOBA_ID": "195",
                                    "FOGLALAS_IDOTARTAM": "4",
                                    "ELOZO_FOGLALAS_IDOTARTAM": "4"
                                },
                                {
                                    "SZOBA_ID": "195",
                                    "FOGLALAS_IDOTARTAM": "7",
                                    "ELOZO_FOGLALAS_IDOTARTAM": "4"
                                },
                                {
                                    "SZOBA_ID": "195",
                                    "FOGLALAS_IDOTARTAM": "5",
                                    "ELOZO_FOGLALAS_IDOTARTAM": "7"
                                },
                                {
                                    "SZOBA_ID": "195",
                                    "FOGLALAS_IDOTARTAM": "7",
                                    "ELOZO_FOGLALAS_IDOTARTAM": "5"
                                },
                                {
                                    "SZOBA_ID": "195",
                                    "FOGLALAS_IDOTARTAM": "1",
                                    "ELOZO_FOGLALAS_IDOTARTAM": "7"
                                },
                                {
                                    "SZOBA_ID": "196",
                                    "FOGLALAS_IDOTARTAM": "3",
                                    "ELOZO_FOGLALAS_IDOTARTAM": "0"
                                },
                                {
                                    "SZOBA_ID": "196",
                                    "FOGLALAS_IDOTARTAM": "5",
                                    "ELOZO_FOGLALAS_IDOTARTAM": "3"
                                },
                                {
                                    "SZOBA_ID": "196",
                                    "FOGLALAS_IDOTARTAM": "5",
                                    "ELOZO_FOGLALAS_IDOTARTAM": "5"
                                },
                                {
                                    "SZOBA_ID": "196",
                                    "FOGLALAS_IDOTARTAM": "5",
                                    "ELOZO_FOGLALAS_IDOTARTAM": "5"
                                },
                                {
                                    "SZOBA_ID": "197",
                                    "FOGLALAS_IDOTARTAM": "7",
                                    "ELOZO_FOGLALAS_IDOTARTAM": "0"
                                },
                                {
                                    "SZOBA_ID": "197",
                                    "FOGLALAS_IDOTARTAM": "7",
                                    "ELOZO_FOGLALAS_IDOTARTAM": "7"
                                },
                                {
                                    "SZOBA_ID": "197",
                                    "FOGLALAS_IDOTARTAM": "7",
                                    "ELOZO_FOGLALAS_IDOTARTAM": "7"
                                },
                                {
                                    "SZOBA_ID": "197",
                                    "FOGLALAS_IDOTARTAM": "7",
                                    "ELOZO_FOGLALAS_IDOTARTAM": "7"
                                },
                                {
                                    "SZOBA_ID": "197",
                                    "FOGLALAS_IDOTARTAM": "7",
                                    "ELOZO_FOGLALAS_IDOTARTAM": "7"
                                },
                                {
                                    "SZOBA_ID": "197",
                                    "FOGLALAS_IDOTARTAM": "3",
                                    "ELOZO_FOGLALAS_IDOTARTAM": "7"
                                },
                                {
                                    "SZOBA_ID": "198",
                                    "FOGLALAS_IDOTARTAM": "1",
                                    "ELOZO_FOGLALAS_IDOTARTAM": "0"
                                },
                                {
                                    "SZOBA_ID": "198",
                                    "FOGLALAS_IDOTARTAM": "7",
                                    "ELOZO_FOGLALAS_IDOTARTAM": "1"
                                },
                                {
                                    "SZOBA_ID": "198",
                                    "FOGLALAS_IDOTARTAM": "3",
                                    "ELOZO_FOGLALAS_IDOTARTAM": "7"
                                },
                                {
                                    "SZOBA_ID": "198",
                                    "FOGLALAS_IDOTARTAM": "1",
                                    "ELOZO_FOGLALAS_IDOTARTAM": "3"
                                },
                                {
                                    "SZOBA_ID": "198",
                                    "FOGLALAS_IDOTARTAM": "5",
                                    "ELOZO_FOGLALAS_IDOTARTAM": "1"
                                },
                                {
                                    "SZOBA_ID": "198",
                                    "FOGLALAS_IDOTARTAM": "5",
                                    "ELOZO_FOGLALAS_IDOTARTAM": "5"
                                },
                                {
                                    "SZOBA_ID": "198",
                                    "FOGLALAS_IDOTARTAM": "7",
                                    "ELOZO_FOGLALAS_IDOTARTAM": "5"
                                },
                                {
                                    "SZOBA_ID": "198",
                                    "FOGLALAS_IDOTARTAM": "5",
                                    "ELOZO_FOGLALAS_IDOTARTAM": "7"
                                }
                            ]
                        },
                        "text/html": [
                            "<table>",
                            "<tr><th>SZOBA_ID</th><th>FOGLALAS_IDOTARTAM</th><th>ELOZO_FOGLALAS_IDOTARTAM</th></tr>",
                            "<tr><td>1</td><td>5</td><td>0</td></tr>",
                            "<tr><td>1</td><td>1</td><td>5</td></tr>",
                            "<tr><td>1</td><td>7</td><td>1</td></tr>",
                            "<tr><td>1</td><td>4</td><td>7</td></tr>",
                            "<tr><td>1</td><td>2</td><td>4</td></tr>",
                            "<tr><td>1</td><td>1</td><td>2</td></tr>",
                            "<tr><td>1</td><td>1</td><td>1</td></tr>",
                            "<tr><td>1</td><td>4</td><td>1</td></tr>",
                            "<tr><td>2</td><td>3</td><td>0</td></tr>",
                            "<tr><td>2</td><td>1</td><td>3</td></tr>",
                            "<tr><td>2</td><td>7</td><td>1</td></tr>",
                            "<tr><td>2</td><td>7</td><td>7</td></tr>",
                            "<tr><td>3</td><td>4</td><td>0</td></tr>",
                            "<tr><td>3</td><td>6</td><td>4</td></tr>",
                            "<tr><td>3</td><td>6</td><td>6</td></tr>",
                            "<tr><td>3</td><td>3</td><td>6</td></tr>",
                            "<tr><td>3</td><td>7</td><td>3</td></tr>",
                            "<tr><td>3</td><td>1</td><td>7</td></tr>",
                            "<tr><td>3</td><td>5</td><td>1</td></tr>",
                            "<tr><td>3</td><td>5</td><td>5</td></tr>",
                            "<tr><td>4</td><td>7</td><td>0</td></tr>",
                            "<tr><td>4</td><td>5</td><td>7</td></tr>",
                            "<tr><td>4</td><td>7</td><td>5</td></tr>",
                            "<tr><td>4</td><td>3</td><td>7</td></tr>",
                            "<tr><td>4</td><td>6</td><td>3</td></tr>",
                            "<tr><td>4</td><td>6</td><td>6</td></tr>",
                            "<tr><td>5</td><td>2</td><td>0</td></tr>",
                            "<tr><td>5</td><td>7</td><td>2</td></tr>",
                            "<tr><td>5</td><td>5</td><td>7</td></tr>",
                            "<tr><td>5</td><td>3</td><td>5</td></tr>",
                            "<tr><td>6</td><td>6</td><td>0</td></tr>",
                            "<tr><td>6</td><td>3</td><td>6</td></tr>",
                            "<tr><td>6</td><td>4</td><td>3</td></tr>",
                            "<tr><td>6</td><td>6</td><td>4</td></tr>",
                            "<tr><td>6</td><td>2</td><td>6</td></tr>",
                            "<tr><td>6</td><td>4</td><td>2</td></tr>",
                            "<tr><td>7</td><td>4</td><td>0</td></tr>",
                            "<tr><td>7</td><td>7</td><td>4</td></tr>",
                            "<tr><td>7</td><td>1</td><td>7</td></tr>",
                            "<tr><td>7</td><td>4</td><td>1</td></tr>",
                            "<tr><td>7</td><td>4</td><td>4</td></tr>",
                            "<tr><td>7</td><td>2</td><td>4</td></tr>",
                            "<tr><td>8</td><td>1</td><td>0</td></tr>",
                            "<tr><td>8</td><td>3</td><td>1</td></tr>",
                            "<tr><td>8</td><td>4</td><td>3</td></tr>",
                            "<tr><td>8</td><td>4</td><td>4</td></tr>",
                            "<tr><td>8</td><td>4</td><td>4</td></tr>",
                            "<tr><td>9</td><td>2</td><td>0</td></tr>",
                            "<tr><td>9</td><td>6</td><td>2</td></tr>",
                            "<tr><td>9</td><td>3</td><td>6</td></tr>",
                            "<tr><td>9</td><td>6</td><td>3</td></tr>",
                            "<tr><td>9</td><td>3</td><td>6</td></tr>",
                            "<tr><td>9</td><td>3</td><td>3</td></tr>",
                            "<tr><td>10</td><td>3</td><td>0</td></tr>",
                            "<tr><td>10</td><td>5</td><td>3</td></tr>",
                            "<tr><td>10</td><td>4</td><td>5</td></tr>",
                            "<tr><td>10</td><td>6</td><td>4</td></tr>",
                            "<tr><td>11</td><td>6</td><td>0</td></tr>",
                            "<tr><td>11</td><td>5</td><td>6</td></tr>",
                            "<tr><td>11</td><td>1</td><td>5</td></tr>",
                            "<tr><td>11</td><td>1</td><td>1</td></tr>",
                            "<tr><td>12</td><td>7</td><td>0</td></tr>",
                            "<tr><td>12</td><td>3</td><td>7</td></tr>",
                            "<tr><td>12</td><td>2</td><td>3</td></tr>",
                            "<tr><td>12</td><td>5</td><td>2</td></tr>",
                            "<tr><td>12</td><td>2</td><td>5</td></tr>",
                            "<tr><td>12</td><td>4</td><td>2</td></tr>",
                            "<tr><td>12</td><td>3</td><td>4</td></tr>",
                            "<tr><td>12</td><td>5</td><td>3</td></tr>",
                            "<tr><td>12</td><td>2</td><td>5</td></tr>",
                            "<tr><td>13</td><td>4</td><td>0</td></tr>",
                            "<tr><td>13</td><td>6</td><td>4</td></tr>",
                            "<tr><td>13</td><td>3</td><td>6</td></tr>",
                            "<tr><td>13</td><td>2</td><td>3</td></tr>",
                            "<tr><td>14</td><td>1</td><td>0</td></tr>",
                            "<tr><td>14</td><td>3</td><td>1</td></tr>",
                            "<tr><td>14</td><td>4</td><td>3</td></tr>",
                            "<tr><td>15</td><td>2</td><td>0</td></tr>",
                            "<tr><td>15</td><td>5</td><td>2</td></tr>",
                            "<tr><td>15</td><td>4</td><td>5</td></tr>",
                            "<tr><td>15</td><td>1</td><td>4</td></tr>",
                            "<tr><td>15</td><td>4</td><td>1</td></tr>",
                            "<tr><td>15</td><td>3</td><td>4</td></tr>",
                            "<tr><td>16</td><td>6</td><td>0</td></tr>",
                            "<tr><td>16</td><td>1</td><td>6</td></tr>",
                            "<tr><td>16</td><td>1</td><td>1</td></tr>",
                            "<tr><td>16</td><td>3</td><td>1</td></tr>",
                            "<tr><td>16</td><td>7</td><td>3</td></tr>",
                            "<tr><td>17</td><td>6</td><td>0</td></tr>",
                            "<tr><td>17</td><td>2</td><td>6</td></tr>",
                            "<tr><td>17</td><td>6</td><td>2</td></tr>",
                            "<tr><td>17</td><td>1</td><td>6</td></tr>",
                            "<tr><td>17</td><td>5</td><td>1</td></tr>",
                            "<tr><td>17</td><td>3</td><td>5</td></tr>",
                            "<tr><td>18</td><td>3</td><td>0</td></tr>",
                            "<tr><td>18</td><td>3</td><td>3</td></tr>",
                            "<tr><td>18</td><td>6</td><td>3</td></tr>",
                            "<tr><td>18</td><td>6</td><td>6</td></tr>",
                            "<tr><td>18</td><td>4</td><td>6</td></tr>",
                            "<tr><td>18</td><td>6</td><td>4</td></tr>",
                            "<tr><td>19</td><td>2</td><td>0</td></tr>",
                            "<tr><td>19</td><td>1</td><td>2</td></tr>",
                            "<tr><td>19</td><td>1</td><td>1</td></tr>",
                            "<tr><td>19</td><td>7</td><td>1</td></tr>",
                            "<tr><td>19</td><td>1</td><td>7</td></tr>",
                            "<tr><td>19</td><td>1</td><td>1</td></tr>",
                            "<tr><td>20</td><td>6</td><td>0</td></tr>",
                            "<tr><td>20</td><td>1</td><td>6</td></tr>",
                            "<tr><td>20</td><td>1</td><td>1</td></tr>",
                            "<tr><td>20</td><td>5</td><td>1</td></tr>",
                            "<tr><td>20</td><td>2</td><td>5</td></tr>",
                            "<tr><td>21</td><td>6</td><td>0</td></tr>",
                            "<tr><td>21</td><td>5</td><td>6</td></tr>",
                            "<tr><td>21</td><td>1</td><td>5</td></tr>",
                            "<tr><td>21</td><td>6</td><td>1</td></tr>",
                            "<tr><td>22</td><td>1</td><td>0</td></tr>",
                            "<tr><td>22</td><td>3</td><td>1</td></tr>",
                            "<tr><td>22</td><td>1</td><td>3</td></tr>",
                            "<tr><td>22</td><td>6</td><td>1</td></tr>",
                            "<tr><td>22</td><td>7</td><td>6</td></tr>",
                            "<tr><td>22</td><td>3</td><td>7</td></tr>",
                            "<tr><td>23</td><td>1</td><td>0</td></tr>",
                            "<tr><td>23</td><td>7</td><td>1</td></tr>",
                            "<tr><td>23</td><td>1</td><td>7</td></tr>",
                            "<tr><td>24</td><td>2</td><td>0</td></tr>",
                            "<tr><td>24</td><td>1</td><td>2</td></tr>",
                            "<tr><td>24</td><td>3</td><td>1</td></tr>",
                            "<tr><td>25</td><td>3</td><td>0</td></tr>",
                            "<tr><td>25</td><td>2</td><td>3</td></tr>",
                            "<tr><td>26</td><td>2</td><td>0</td></tr>",
                            "<tr><td>26</td><td>3</td><td>2</td></tr>",
                            "<tr><td>27</td><td>3</td><td>0</td></tr>",
                            "<tr><td>27</td><td>2</td><td>3</td></tr>",
                            "<tr><td>27</td><td>2</td><td>2</td></tr>",
                            "<tr><td>27</td><td>5</td><td>2</td></tr>",
                            "<tr><td>27</td><td>6</td><td>5</td></tr>",
                            "<tr><td>27</td><td>1</td><td>6</td></tr>",
                            "<tr><td>27</td><td>1</td><td>1</td></tr>",
                            "<tr><td>28</td><td>5</td><td>0</td></tr>",
                            "<tr><td>28</td><td>4</td><td>5</td></tr>",
                            "<tr><td>28</td><td>4</td><td>4</td></tr>",
                            "<tr><td>28</td><td>5</td><td>4</td></tr>",
                            "<tr><td>28</td><td>6</td><td>5</td></tr>",
                            "<tr><td>28</td><td>2</td><td>6</td></tr>",
                            "<tr><td>29</td><td>5</td><td>0</td></tr>",
                            "<tr><td>29</td><td>1</td><td>5</td></tr>",
                            "<tr><td>29</td><td>7</td><td>1</td></tr>",
                            "<tr><td>29</td><td>5</td><td>7</td></tr>",
                            "<tr><td>29</td><td>7</td><td>5</td></tr>",
                            "<tr><td>29</td><td>7</td><td>7</td></tr>",
                            "<tr><td>30</td><td>2</td><td>0</td></tr>",
                            "<tr><td>30</td><td>7</td><td>2</td></tr>",
                            "<tr><td>30</td><td>5</td><td>7</td></tr>",
                            "<tr><td>31</td><td>2</td><td>0</td></tr>",
                            "<tr><td>31</td><td>1</td><td>2</td></tr>",
                            "<tr><td>31</td><td>4</td><td>1</td></tr>",
                            "<tr><td>32</td><td>4</td><td>0</td></tr>",
                            "<tr><td>33</td><td>6</td><td>0</td></tr>",
                            "<tr><td>33</td><td>7</td><td>6</td></tr>",
                            "<tr><td>33</td><td>1</td><td>7</td></tr>",
                            "<tr><td>33</td><td>4</td><td>1</td></tr>",
                            "<tr><td>33</td><td>5</td><td>4</td></tr>",
                            "<tr><td>33</td><td>6</td><td>5</td></tr>",
                            "<tr><td>34</td><td>6</td><td>0</td></tr>",
                            "<tr><td>34</td><td>2</td><td>6</td></tr>",
                            "<tr><td>34</td><td>3</td><td>2</td></tr>",
                            "<tr><td>34</td><td>1</td><td>3</td></tr>",
                            "<tr><td>35</td><td>3</td><td>0</td></tr>",
                            "<tr><td>35</td><td>7</td><td>3</td></tr>",
                            "<tr><td>35</td><td>6</td><td>7</td></tr>",
                            "<tr><td>35</td><td>2</td><td>6</td></tr>",
                            "<tr><td>35</td><td>2</td><td>2</td></tr>",
                            "<tr><td>35</td><td>37</td><td>2</td></tr>",
                            "<tr><td>35</td><td>1</td><td>37</td></tr>",
                            "<tr><td>35</td><td>1</td><td>1</td></tr>",
                            "<tr><td>35</td><td>4</td><td>1</td></tr>",
                            "<tr><td>36</td><td>5</td><td>0</td></tr>",
                            "<tr><td>36</td><td>1</td><td>5</td></tr>",
                            "<tr><td>36</td><td>6</td><td>1</td></tr>",
                            "<tr><td>36</td><td>4</td><td>6</td></tr>",
                            "<tr><td>36</td><td>2</td><td>4</td></tr>",
                            "<tr><td>36</td><td>6</td><td>2</td></tr>",
                            "<tr><td>37</td><td>2</td><td>0</td></tr>",
                            "<tr><td>37</td><td>4</td><td>2</td></tr>",
                            "<tr><td>37</td><td>7</td><td>4</td></tr>",
                            "<tr><td>38</td><td>6</td><td>0</td></tr>",
                            "<tr><td>38</td><td>2</td><td>6</td></tr>",
                            "<tr><td>38</td><td>2</td><td>2</td></tr>",
                            "<tr><td>38</td><td>7</td><td>2</td></tr>",
                            "<tr><td>38</td><td>4</td><td>7</td></tr>",
                            "<tr><td>38</td><td>5</td><td>4</td></tr>",
                            "<tr><td>38</td><td>4</td><td>5</td></tr>",
                            "<tr><td>38</td><td>6</td><td>4</td></tr>",
                            "<tr><td>39</td><td>6</td><td>0</td></tr>",
                            "<tr><td>39</td><td>6</td><td>6</td></tr>",
                            "<tr><td>39</td><td>5</td><td>6</td></tr>",
                            "<tr><td>39</td><td>5</td><td>5</td></tr>",
                            "<tr><td>39</td><td>7</td><td>5</td></tr>",
                            "<tr><td>39</td><td>1</td><td>7</td></tr>",
                            "<tr><td>39</td><td>2</td><td>1</td></tr>",
                            "<tr><td>40</td><td>5</td><td>0</td></tr>",
                            "<tr><td>40</td><td>6</td><td>5</td></tr>",
                            "<tr><td>40</td><td>5</td><td>6</td></tr>",
                            "<tr><td>40</td><td>5</td><td>5</td></tr>",
                            "<tr><td>41</td><td>6</td><td>0</td></tr>",
                            "<tr><td>41</td><td>1</td><td>6</td></tr>",
                            "<tr><td>42</td><td>4</td><td>0</td></tr>",
                            "<tr><td>42</td><td>5</td><td>4</td></tr>",
                            "<tr><td>42</td><td>7</td><td>5</td></tr>",
                            "<tr><td>42</td><td>3</td><td>7</td></tr>",
                            "<tr><td>42</td><td>2</td><td>3</td></tr>",
                            "<tr><td>42</td><td>6</td><td>2</td></tr>",
                            "<tr><td>43</td><td>4</td><td>0</td></tr>",
                            "<tr><td>43</td><td>4</td><td>4</td></tr>",
                            "<tr><td>43</td><td>2</td><td>4</td></tr>",
                            "<tr><td>43</td><td>1</td><td>2</td></tr>",
                            "<tr><td>43</td><td>5</td><td>1</td></tr>",
                            "<tr><td>43</td><td>4</td><td>5</td></tr>",
                            "<tr><td>43</td><td>1</td><td>4</td></tr>",
                            "<tr><td>43</td><td>5</td><td>1</td></tr>",
                            "<tr><td>44</td><td>2</td><td>0</td></tr>",
                            "<tr><td>44</td><td>6</td><td>2</td></tr>",
                            "<tr><td>44</td><td>2</td><td>6</td></tr>",
                            "<tr><td>44</td><td>2</td><td>2</td></tr>",
                            "<tr><td>44</td><td>2</td><td>2</td></tr>",
                            "<tr><td>44</td><td>2</td><td>2</td></tr>",
                            "<tr><td>45</td><td>7</td><td>0</td></tr>",
                            "<tr><td>45</td><td>5</td><td>7</td></tr>",
                            "<tr><td>45</td><td>3</td><td>5</td></tr>",
                            "<tr><td>45</td><td>3</td><td>3</td></tr>",
                            "<tr><td>45</td><td>2</td><td>3</td></tr>",
                            "<tr><td>46</td><td>5</td><td>0</td></tr>",
                            "<tr><td>46</td><td>7</td><td>5</td></tr>",
                            "<tr><td>46</td><td>3</td><td>7</td></tr>",
                            "<tr><td>46</td><td>4</td><td>3</td></tr>",
                            "<tr><td>47</td><td>1</td><td>0</td></tr>",
                            "<tr><td>47</td><td>7</td><td>1</td></tr>",
                            "<tr><td>48</td><td>3</td><td>0</td></tr>",
                            "<tr><td>48</td><td>2</td><td>3</td></tr>",
                            "<tr><td>48</td><td>5</td><td>2</td></tr>",
                            "<tr><td>48</td><td>5</td><td>5</td></tr>",
                            "<tr><td>48</td><td>2</td><td>5</td></tr>",
                            "<tr><td>48</td><td>6</td><td>2</td></tr>",
                            "<tr><td>48</td><td>3</td><td>6</td></tr>",
                            "<tr><td>48</td><td>1</td><td>3</td></tr>",
                            "<tr><td>48</td><td>5</td><td>1</td></tr>",
                            "<tr><td>49</td><td>7</td><td>0</td></tr>",
                            "<tr><td>49</td><td>6</td><td>7</td></tr>",
                            "<tr><td>49</td><td>4</td><td>6</td></tr>",
                            "<tr><td>49</td><td>7</td><td>4</td></tr>",
                            "<tr><td>49</td><td>7</td><td>7</td></tr>",
                            "<tr><td>49</td><td>2</td><td>7</td></tr>",
                            "<tr><td>49</td><td>6</td><td>2</td></tr>",
                            "<tr><td>50</td><td>3</td><td>0</td></tr>",
                            "<tr><td>50</td><td>2</td><td>3</td></tr>",
                            "<tr><td>50</td><td>1</td><td>2</td></tr>",
                            "<tr><td>50</td><td>1</td><td>1</td></tr>",
                            "<tr><td>51</td><td>7</td><td>0</td></tr>",
                            "<tr><td>51</td><td>2</td><td>7</td></tr>",
                            "<tr><td>51</td><td>5</td><td>2</td></tr>",
                            "<tr><td>51</td><td>6</td><td>5</td></tr>",
                            "<tr><td>51</td><td>1</td><td>6</td></tr>",
                            "<tr><td>52</td><td>7</td><td>0</td></tr>",
                            "<tr><td>52</td><td>2</td><td>7</td></tr>",
                            "<tr><td>52</td><td>5</td><td>2</td></tr>",
                            "<tr><td>52</td><td>5</td><td>5</td></tr>",
                            "<tr><td>52</td><td>5</td><td>5</td></tr>",
                            "<tr><td>53</td><td>1</td><td>0</td></tr>",
                            "<tr><td>53</td><td>4</td><td>1</td></tr>",
                            "<tr><td>54</td><td>7</td><td>0</td></tr>",
                            "<tr><td>54</td><td>5</td><td>7</td></tr>",
                            "<tr><td>54</td><td>2</td><td>5</td></tr>",
                            "<tr><td>54</td><td>1</td><td>2</td></tr>",
                            "<tr><td>54</td><td>4</td><td>1</td></tr>",
                            "<tr><td>54</td><td>4</td><td>4</td></tr>",
                            "<tr><td>55</td><td>6</td><td>0</td></tr>",
                            "<tr><td>55</td><td>5</td><td>6</td></tr>",
                            "<tr><td>55</td><td>2</td><td>5</td></tr>",
                            "<tr><td>55</td><td>7</td><td>2</td></tr>",
                            "<tr><td>55</td><td>6</td><td>7</td></tr>",
                            "<tr><td>55</td><td>2</td><td>6</td></tr>",
                            "<tr><td>55</td><td>1</td><td>2</td></tr>",
                            "<tr><td>55</td><td>1</td><td>1</td></tr>",
                            "<tr><td>56</td><td>4</td><td>0</td></tr>",
                            "<tr><td>56</td><td>2</td><td>4</td></tr>",
                            "<tr><td>57</td><td>1</td><td>0</td></tr>",
                            "<tr><td>57</td><td>1</td><td>1</td></tr>",
                            "<tr><td>57</td><td>7</td><td>1</td></tr>",
                            "<tr><td>57</td><td>4</td><td>7</td></tr>",
                            "<tr><td>58</td><td>5</td><td>0</td></tr>",
                            "<tr><td>58</td><td>3</td><td>5</td></tr>",
                            "<tr><td>58</td><td>2</td><td>3</td></tr>",
                            "<tr><td>58</td><td>3</td><td>2</td></tr>",
                            "<tr><td>58</td><td>6</td><td>3</td></tr>",
                            "<tr><td>58</td><td>6</td><td>6</td></tr>",
                            "<tr><td>58</td><td>7</td><td>6</td></tr>",
                            "<tr><td>58</td><td>6</td><td>7</td></tr>",
                            "<tr><td>58</td><td>7</td><td>6</td></tr>",
                            "<tr><td>58</td><td>3</td><td>7</td></tr>",
                            "<tr><td>58</td><td>6</td><td>3</td></tr>",
                            "<tr><td>58</td><td>3</td><td>6</td></tr>",
                            "<tr><td>58</td><td>6</td><td>3</td></tr>",
                            "<tr><td>59</td><td>1</td><td>0</td></tr>",
                            "<tr><td>59</td><td>2</td><td>1</td></tr>",
                            "<tr><td>59</td><td>5</td><td>2</td></tr>",
                            "<tr><td>59</td><td>6</td><td>5</td></tr>",
                            "<tr><td>59</td><td>2</td><td>6</td></tr>",
                            "<tr><td>59</td><td>3</td><td>2</td></tr>",
                            "<tr><td>59</td><td>1</td><td>3</td></tr>",
                            "<tr><td>60</td><td>2</td><td>0</td></tr>",
                            "<tr><td>61</td><td>2</td><td>0</td></tr>",
                            "<tr><td>61</td><td>6</td><td>2</td></tr>",
                            "<tr><td>61</td><td>3</td><td>6</td></tr>",
                            "<tr><td>61</td><td>2</td><td>3</td></tr>",
                            "<tr><td>61</td><td>7</td><td>2</td></tr>",
                            "<tr><td>62</td><td>3</td><td>0</td></tr>",
                            "<tr><td>62</td><td>1</td><td>3</td></tr>",
                            "<tr><td>62</td><td>5</td><td>1</td></tr>",
                            "<tr><td>62</td><td>7</td><td>5</td></tr>",
                            "<tr><td>62</td><td>4</td><td>7</td></tr>",
                            "<tr><td>63</td><td>3</td><td>0</td></tr>",
                            "<tr><td>63</td><td>6</td><td>3</td></tr>",
                            "<tr><td>63</td><td>5</td><td>6</td></tr>",
                            "<tr><td>63</td><td>1</td><td>5</td></tr>",
                            "<tr><td>64</td><td>2</td><td>0</td></tr>",
                            "<tr><td>64</td><td>4</td><td>2</td></tr>",
                            "<tr><td>64</td><td>7</td><td>4</td></tr>",
                            "<tr><td>64</td><td>6</td><td>7</td></tr>",
                            "<tr><td>64</td><td>4</td><td>6</td></tr>",
                            "<tr><td>64</td><td>1</td><td>4</td></tr>",
                            "<tr><td>65</td><td>6</td><td>0</td></tr>",
                            "<tr><td>66</td><td>3</td><td>0</td></tr>",
                            "<tr><td>66</td><td>3</td><td>3</td></tr>",
                            "<tr><td>66</td><td>3</td><td>3</td></tr>",
                            "<tr><td>66</td><td>4</td><td>3</td></tr>",
                            "<tr><td>67</td><td>5</td><td>0</td></tr>",
                            "<tr><td>67</td><td>6</td><td>5</td></tr>",
                            "<tr><td>67</td><td>6</td><td>6</td></tr>",
                            "<tr><td>67</td><td>1</td><td>6</td></tr>",
                            "<tr><td>67</td><td>5</td><td>1</td></tr>",
                            "<tr><td>67</td><td>1</td><td>5</td></tr>",
                            "<tr><td>68</td><td>5</td><td>0</td></tr>",
                            "<tr><td>68</td><td>7</td><td>5</td></tr>",
                            "<tr><td>68</td><td>4</td><td>7</td></tr>",
                            "<tr><td>69</td><td>1</td><td>0</td></tr>",
                            "<tr><td>69</td><td>5</td><td>1</td></tr>",
                            "<tr><td>69</td><td>5</td><td>5</td></tr>",
                            "<tr><td>69</td><td>7</td><td>5</td></tr>",
                            "<tr><td>70</td><td>5</td><td>0</td></tr>",
                            "<tr><td>70</td><td>2</td><td>5</td></tr>",
                            "<tr><td>70</td><td>3</td><td>2</td></tr>",
                            "<tr><td>70</td><td>3</td><td>3</td></tr>",
                            "<tr><td>70</td><td>3</td><td>3</td></tr>",
                            "<tr><td>70</td><td>3</td><td>3</td></tr>",
                            "<tr><td>70</td><td>3</td><td>3</td></tr>",
                            "<tr><td>70</td><td>7</td><td>3</td></tr>",
                            "<tr><td>70</td><td>6</td><td>7</td></tr>",
                            "<tr><td>70</td><td>3</td><td>6</td></tr>",
                            "<tr><td>70</td><td>7</td><td>3</td></tr>",
                            "<tr><td>71</td><td>1</td><td>0</td></tr>",
                            "<tr><td>71</td><td>3</td><td>1</td></tr>",
                            "<tr><td>71</td><td>1</td><td>3</td></tr>",
                            "<tr><td>72</td><td>5</td><td>0</td></tr>",
                            "<tr><td>72</td><td>6</td><td>5</td></tr>",
                            "<tr><td>72</td><td>2</td><td>6</td></tr>",
                            "<tr><td>72</td><td>3</td><td>2</td></tr>",
                            "<tr><td>73</td><td>4</td><td>0</td></tr>",
                            "<tr><td>73</td><td>7</td><td>4</td></tr>",
                            "<tr><td>73</td><td>5</td><td>7</td></tr>",
                            "<tr><td>73</td><td>4</td><td>5</td></tr>",
                            "<tr><td>74</td><td>7</td><td>0</td></tr>",
                            "<tr><td>74</td><td>4</td><td>7</td></tr>",
                            "<tr><td>74</td><td>5</td><td>4</td></tr>",
                            "<tr><td>74</td><td>1</td><td>5</td></tr>",
                            "<tr><td>74</td><td>5</td><td>1</td></tr>",
                            "<tr><td>74</td><td>1</td><td>5</td></tr>",
                            "<tr><td>74</td><td>3</td><td>1</td></tr>",
                            "<tr><td>74</td><td>6</td><td>3</td></tr>",
                            "<tr><td>74</td><td>7</td><td>6</td></tr>",
                            "<tr><td>75</td><td>5</td><td>0</td></tr>",
                            "<tr><td>75</td><td>2</td><td>5</td></tr>",
                            "<tr><td>75</td><td>1</td><td>2</td></tr>",
                            "<tr><td>76</td><td>2</td><td>0</td></tr>",
                            "<tr><td>76</td><td>7</td><td>2</td></tr>",
                            "<tr><td>76</td><td>3</td><td>7</td></tr>",
                            "<tr><td>77</td><td>3</td><td>0</td></tr>",
                            "<tr><td>77</td><td>3</td><td>3</td></tr>",
                            "<tr><td>77</td><td>4</td><td>3</td></tr>",
                            "<tr><td>77</td><td>1</td><td>4</td></tr>",
                            "<tr><td>77</td><td>6</td><td>1</td></tr>",
                            "<tr><td>77</td><td>4</td><td>6</td></tr>",
                            "<tr><td>78</td><td>1</td><td>0</td></tr>",
                            "<tr><td>78</td><td>3</td><td>1</td></tr>",
                            "<tr><td>78</td><td>5</td><td>3</td></tr>",
                            "<tr><td>78</td><td>2</td><td>5</td></tr>",
                            "<tr><td>78</td><td>3</td><td>2</td></tr>",
                            "<tr><td>78</td><td>7</td><td>3</td></tr>",
                            "<tr><td>79</td><td>6</td><td>0</td></tr>",
                            "<tr><td>79</td><td>1</td><td>6</td></tr>",
                            "<tr><td>79</td><td>7</td><td>1</td></tr>",
                            "<tr><td>79</td><td>3</td><td>7</td></tr>",
                            "<tr><td>79</td><td>4</td><td>3</td></tr>",
                            "<tr><td>80</td><td>6</td><td>0</td></tr>",
                            "<tr><td>80</td><td>2</td><td>6</td></tr>",
                            "<tr><td>80</td><td>6</td><td>2</td></tr>",
                            "<tr><td>80</td><td>6</td><td>6</td></tr>",
                            "<tr><td>80</td><td>4</td><td>6</td></tr>",
                            "<tr><td>80</td><td>5</td><td>4</td></tr>",
                            "<tr><td>80</td><td>3</td><td>5</td></tr>",
                            "<tr><td>81</td><td>5</td><td>0</td></tr>",
                            "<tr><td>81</td><td>7</td><td>5</td></tr>",
                            "<tr><td>81</td><td>7</td><td>7</td></tr>",
                            "<tr><td>81</td><td>3</td><td>7</td></tr>",
                            "<tr><td>81</td><td>3</td><td>3</td></tr>",
                            "<tr><td>82</td><td>4</td><td>0</td></tr>",
                            "<tr><td>82</td><td>5</td><td>4</td></tr>",
                            "<tr><td>82</td><td>6</td><td>5</td></tr>",
                            "<tr><td>82</td><td>5</td><td>6</td></tr>",
                            "<tr><td>82</td><td>2</td><td>5</td></tr>",
                            "<tr><td>82</td><td>1</td><td>2</td></tr>",
                            "<tr><td>83</td><td>7</td><td>0</td></tr>",
                            "<tr><td>83</td><td>6</td><td>7</td></tr>",
                            "<tr><td>83</td><td>6</td><td>6</td></tr>",
                            "<tr><td>83</td><td>5</td><td>6</td></tr>",
                            "<tr><td>83</td><td>4</td><td>5</td></tr>",
                            "<tr><td>83</td><td>4</td><td>4</td></tr>",
                            "<tr><td>83</td><td>6</td><td>4</td></tr>",
                            "<tr><td>83</td><td>7</td><td>6</td></tr>",
                            "<tr><td>84</td><td>5</td><td>0</td></tr>",
                            "<tr><td>84</td><td>2</td><td>5</td></tr>",
                            "<tr><td>84</td><td>5</td><td>2</td></tr>",
                            "<tr><td>84</td><td>7</td><td>5</td></tr>",
                            "<tr><td>85</td><td>3</td><td>0</td></tr>",
                            "<tr><td>85</td><td>3</td><td>3</td></tr>",
                            "<tr><td>85</td><td>1</td><td>3</td></tr>",
                            "<tr><td>85</td><td>7</td><td>1</td></tr>",
                            "<tr><td>86</td><td>1</td><td>0</td></tr>",
                            "<tr><td>86</td><td>5</td><td>1</td></tr>",
                            "<tr><td>86</td><td>4</td><td>5</td></tr>",
                            "<tr><td>86</td><td>1</td><td>4</td></tr>",
                            "<tr><td>86</td><td>1</td><td>1</td></tr>",
                            "<tr><td>87</td><td>4</td><td>0</td></tr>",
                            "<tr><td>87</td><td>1</td><td>4</td></tr>",
                            "<tr><td>87</td><td>3</td><td>1</td></tr>",
                            "<tr><td>87</td><td>5</td><td>3</td></tr>",
                            "<tr><td>87</td><td>5</td><td>5</td></tr>",
                            "<tr><td>88</td><td>2</td><td>0</td></tr>",
                            "<tr><td>88</td><td>7</td><td>2</td></tr>",
                            "<tr><td>88</td><td>3</td><td>7</td></tr>",
                            "<tr><td>88</td><td>7</td><td>3</td></tr>",
                            "<tr><td>88</td><td>3</td><td>7</td></tr>",
                            "<tr><td>88</td><td>2</td><td>3</td></tr>",
                            "<tr><td>88</td><td>7</td><td>2</td></tr>",
                            "<tr><td>88</td><td>6</td><td>7</td></tr>",
                            "<tr><td>89</td><td>3</td><td>0</td></tr>",
                            "<tr><td>89</td><td>7</td><td>3</td></tr>",
                            "<tr><td>89</td><td>5</td><td>7</td></tr>",
                            "<tr><td>89</td><td>6</td><td>5</td></tr>",
                            "<tr><td>89</td><td>2</td><td>6</td></tr>",
                            "<tr><td>89</td><td>2</td><td>2</td></tr>",
                            "<tr><td>89</td><td>2</td><td>2</td></tr>",
                            "<tr><td>89</td><td>7</td><td>2</td></tr>",
                            "<tr><td>90</td><td>2</td><td>0</td></tr>",
                            "<tr><td>90</td><td>7</td><td>2</td></tr>",
                            "<tr><td>90</td><td>6</td><td>7</td></tr>",
                            "<tr><td>90</td><td>5</td><td>6</td></tr>",
                            "<tr><td>91</td><td>6</td><td>0</td></tr>",
                            "<tr><td>91</td><td>4</td><td>6</td></tr>",
                            "<tr><td>91</td><td>3</td><td>4</td></tr>",
                            "<tr><td>91</td><td>4</td><td>3</td></tr>",
                            "<tr><td>92</td><td>6</td><td>0</td></tr>",
                            "<tr><td>92</td><td>2</td><td>6</td></tr>",
                            "<tr><td>92</td><td>3</td><td>2</td></tr>",
                            "<tr><td>92</td><td>6</td><td>3</td></tr>",
                            "<tr><td>92</td><td>2</td><td>6</td></tr>",
                            "<tr><td>92</td><td>4</td><td>2</td></tr>",
                            "<tr><td>93</td><td>7</td><td>0</td></tr>",
                            "<tr><td>93</td><td>4</td><td>7</td></tr>",
                            "<tr><td>93</td><td>1</td><td>4</td></tr>",
                            "<tr><td>93</td><td>2</td><td>1</td></tr>",
                            "<tr><td>93</td><td>4</td><td>2</td></tr>",
                            "<tr><td>94</td><td>4</td><td>0</td></tr>",
                            "<tr><td>94</td><td>5</td><td>4</td></tr>",
                            "<tr><td>94</td><td>7</td><td>5</td></tr>",
                            "<tr><td>94</td><td>3</td><td>7</td></tr>",
                            "<tr><td>94</td><td>7</td><td>3</td></tr>",
                            "<tr><td>94</td><td>2</td><td>7</td></tr>",
                            "<tr><td>94</td><td>3</td><td>2</td></tr>",
                            "<tr><td>94</td><td>1</td><td>3</td></tr>",
                            "<tr><td>94</td><td>2</td><td>1</td></tr>",
                            "<tr><td>94</td><td>7</td><td>2</td></tr>",
                            "<tr><td>95</td><td>7</td><td>0</td></tr>",
                            "<tr><td>95</td><td>3</td><td>7</td></tr>",
                            "<tr><td>95</td><td>4</td><td>3</td></tr>",
                            "<tr><td>95</td><td>7</td><td>4</td></tr>",
                            "<tr><td>96</td><td>4</td><td>0</td></tr>",
                            "<tr><td>96</td><td>7</td><td>4</td></tr>",
                            "<tr><td>96</td><td>4</td><td>7</td></tr>",
                            "<tr><td>96</td><td>1</td><td>4</td></tr>",
                            "<tr><td>96</td><td>3</td><td>1</td></tr>",
                            "<tr><td>96</td><td>2</td><td>3</td></tr>",
                            "<tr><td>96</td><td>7</td><td>2</td></tr>",
                            "<tr><td>97</td><td>3</td><td>0</td></tr>",
                            "<tr><td>97</td><td>4</td><td>3</td></tr>",
                            "<tr><td>97</td><td>7</td><td>4</td></tr>",
                            "<tr><td>97</td><td>2</td><td>7</td></tr>",
                            "<tr><td>97</td><td>1</td><td>2</td></tr>",
                            "<tr><td>97</td><td>7</td><td>1</td></tr>",
                            "<tr><td>97</td><td>2</td><td>7</td></tr>",
                            "<tr><td>98</td><td>6</td><td>0</td></tr>",
                            "<tr><td>98</td><td>5</td><td>6</td></tr>",
                            "<tr><td>98</td><td>6</td><td>5</td></tr>",
                            "<tr><td>98</td><td>2</td><td>6</td></tr>",
                            "<tr><td>99</td><td>1</td><td>0</td></tr>",
                            "<tr><td>99</td><td>5</td><td>1</td></tr>",
                            "<tr><td>99</td><td>1</td><td>5</td></tr>",
                            "<tr><td>99</td><td>1</td><td>1</td></tr>",
                            "<tr><td>99</td><td>5</td><td>1</td></tr>",
                            "<tr><td>100</td><td>1</td><td>0</td></tr>",
                            "<tr><td>100</td><td>5</td><td>1</td></tr>",
                            "<tr><td>100</td><td>5</td><td>5</td></tr>",
                            "<tr><td>100</td><td>7</td><td>5</td></tr>",
                            "<tr><td>101</td><td>3</td><td>0</td></tr>",
                            "<tr><td>101</td><td>6</td><td>3</td></tr>",
                            "<tr><td>101</td><td>4</td><td>6</td></tr>",
                            "<tr><td>102</td><td>5</td><td>0</td></tr>",
                            "<tr><td>102</td><td>2</td><td>5</td></tr>",
                            "<tr><td>103</td><td>2</td><td>0</td></tr>",
                            "<tr><td>103</td><td>7</td><td>2</td></tr>",
                            "<tr><td>103</td><td>1</td><td>7</td></tr>",
                            "<tr><td>103</td><td>4</td><td>1</td></tr>",
                            "<tr><td>104</td><td>4</td><td>0</td></tr>",
                            "<tr><td>104</td><td>1</td><td>4</td></tr>",
                            "<tr><td>104</td><td>2</td><td>1</td></tr>",
                            "<tr><td>104</td><td>3</td><td>2</td></tr>",
                            "<tr><td>105</td><td>1</td><td>0</td></tr>",
                            "<tr><td>105</td><td>5</td><td>1</td></tr>",
                            "<tr><td>106</td><td>3</td><td>0</td></tr>",
                            "<tr><td>106</td><td>7</td><td>3</td></tr>",
                            "<tr><td>106</td><td>7</td><td>7</td></tr>",
                            "<tr><td>106</td><td>5</td><td>7</td></tr>",
                            "<tr><td>106</td><td>7</td><td>5</td></tr>",
                            "<tr><td>106</td><td>6</td><td>7</td></tr>",
                            "<tr><td>107</td><td>6</td><td>0</td></tr>",
                            "<tr><td>107</td><td>4</td><td>6</td></tr>",
                            "<tr><td>107</td><td>1</td><td>4</td></tr>",
                            "<tr><td>107</td><td>6</td><td>1</td></tr>",
                            "<tr><td>107</td><td>2</td><td>6</td></tr>",
                            "<tr><td>108</td><td>1</td><td>0</td></tr>",
                            "<tr><td>108</td><td>6</td><td>1</td></tr>",
                            "<tr><td>109</td><td>4</td><td>0</td></tr>",
                            "<tr><td>109</td><td>7</td><td>4</td></tr>",
                            "<tr><td>109</td><td>5</td><td>7</td></tr>",
                            "<tr><td>109</td><td>2</td><td>5</td></tr>",
                            "<tr><td>109</td><td>1</td><td>2</td></tr>",
                            "<tr><td>109</td><td>4</td><td>1</td></tr>",
                            "<tr><td>109</td><td>1</td><td>4</td></tr>",
                            "<tr><td>110</td><td>5</td><td>0</td></tr>",
                            "<tr><td>110</td><td>6</td><td>5</td></tr>",
                            "<tr><td>110</td><td>1</td><td>6</td></tr>",
                            "<tr><td>110</td><td>3</td><td>1</td></tr>",
                            "<tr><td>110</td><td>5</td><td>3</td></tr>",
                            "<tr><td>110</td><td>2</td><td>5</td></tr>",
                            "<tr><td>110</td><td>1</td><td>2</td></tr>",
                            "<tr><td>110</td><td>6</td><td>1</td></tr>",
                            "<tr><td>111</td><td>7</td><td>0</td></tr>",
                            "<tr><td>111</td><td>7</td><td>7</td></tr>",
                            "<tr><td>111</td><td>4</td><td>7</td></tr>",
                            "<tr><td>111</td><td>3</td><td>4</td></tr>",
                            "<tr><td>111</td><td>5</td><td>3</td></tr>",
                            "<tr><td>112</td><td>1</td><td>0</td></tr>",
                            "<tr><td>112</td><td>4</td><td>1</td></tr>",
                            "<tr><td>112</td><td>5</td><td>4</td></tr>",
                            "<tr><td>112</td><td>6</td><td>5</td></tr>",
                            "<tr><td>112</td><td>6</td><td>6</td></tr>",
                            "<tr><td>113</td><td>5</td><td>0</td></tr>",
                            "<tr><td>113</td><td>4</td><td>5</td></tr>",
                            "<tr><td>113</td><td>1</td><td>4</td></tr>",
                            "<tr><td>113</td><td>7</td><td>1</td></tr>",
                            "<tr><td>113</td><td>2</td><td>7</td></tr>",
                            "<tr><td>114</td><td>6</td><td>0</td></tr>",
                            "<tr><td>114</td><td>2</td><td>6</td></tr>",
                            "<tr><td>114</td><td>7</td><td>2</td></tr>",
                            "<tr><td>114</td><td>3</td><td>7</td></tr>",
                            "<tr><td>115</td><td>7</td><td>0</td></tr>",
                            "<tr><td>115</td><td>7</td><td>7</td></tr>",
                            "<tr><td>115</td><td>7</td><td>7</td></tr>",
                            "<tr><td>115</td><td>4</td><td>7</td></tr>",
                            "<tr><td>115</td><td>3</td><td>4</td></tr>",
                            "<tr><td>115</td><td>3</td><td>3</td></tr>",
                            "<tr><td>115</td><td>1</td><td>3</td></tr>",
                            "<tr><td>116</td><td>2</td><td>0</td></tr>",
                            "<tr><td>116</td><td>4</td><td>2</td></tr>",
                            "<tr><td>117</td><td>2</td><td>0</td></tr>",
                            "<tr><td>117</td><td>3</td><td>2</td></tr>",
                            "<tr><td>117</td><td>5</td><td>3</td></tr>",
                            "<tr><td>117</td><td>4</td><td>5</td></tr>",
                            "<tr><td>117</td><td>1</td><td>4</td></tr>",
                            "<tr><td>117</td><td>2</td><td>1</td></tr>",
                            "<tr><td>117</td><td>3</td><td>2</td></tr>",
                            "<tr><td>117</td><td>7</td><td>3</td></tr>",
                            "<tr><td>118</td><td>6</td><td>0</td></tr>",
                            "<tr><td>118</td><td>7</td><td>6</td></tr>",
                            "<tr><td>118</td><td>3</td><td>7</td></tr>",
                            "<tr><td>118</td><td>1</td><td>3</td></tr>",
                            "<tr><td>118</td><td>5</td><td>1</td></tr>",
                            "<tr><td>118</td><td>6</td><td>5</td></tr>",
                            "<tr><td>118</td><td>3</td><td>6</td></tr>",
                            "<tr><td>119</td><td>3</td><td>0</td></tr>",
                            "<tr><td>119</td><td>2</td><td>3</td></tr>",
                            "<tr><td>119</td><td>1</td><td>2</td></tr>",
                            "<tr><td>119</td><td>3</td><td>1</td></tr>",
                            "<tr><td>119</td><td>3</td><td>3</td></tr>",
                            "<tr><td>120</td><td>3</td><td>0</td></tr>",
                            "<tr><td>120</td><td>3</td><td>3</td></tr>",
                            "<tr><td>120</td><td>6</td><td>3</td></tr>",
                            "<tr><td>120</td><td>6</td><td>6</td></tr>",
                            "<tr><td>120</td><td>1</td><td>6</td></tr>",
                            "<tr><td>120</td><td>7</td><td>1</td></tr>",
                            "<tr><td>121</td><td>5</td><td>0</td></tr>",
                            "<tr><td>121</td><td>6</td><td>5</td></tr>",
                            "<tr><td>121</td><td>6</td><td>6</td></tr>",
                            "<tr><td>121</td><td>3</td><td>6</td></tr>",
                            "<tr><td>121</td><td>4</td><td>3</td></tr>",
                            "<tr><td>121</td><td>4</td><td>4</td></tr>",
                            "<tr><td>121</td><td>5</td><td>4</td></tr>",
                            "<tr><td>121</td><td>6</td><td>5</td></tr>",
                            "<tr><td>122</td><td>2</td><td>0</td></tr>",
                            "<tr><td>122</td><td>2</td><td>2</td></tr>",
                            "<tr><td>122</td><td>3</td><td>2</td></tr>",
                            "<tr><td>122</td><td>4</td><td>3</td></tr>",
                            "<tr><td>122</td><td>1</td><td>4</td></tr>",
                            "<tr><td>122</td><td>2</td><td>1</td></tr>",
                            "<tr><td>122</td><td>2</td><td>2</td></tr>",
                            "<tr><td>122</td><td>5</td><td>2</td></tr>",
                            "<tr><td>122</td><td>3</td><td>5</td></tr>",
                            "<tr><td>123</td><td>7</td><td>0</td></tr>",
                            "<tr><td>123</td><td>4</td><td>7</td></tr>",
                            "<tr><td>123</td><td>5</td><td>4</td></tr>",
                            "<tr><td>123</td><td>1</td><td>5</td></tr>",
                            "<tr><td>123</td><td>6</td><td>1</td></tr>",
                            "<tr><td>124</td><td>1</td><td>0</td></tr>",
                            "<tr><td>124</td><td>4</td><td>1</td></tr>",
                            "<tr><td>124</td><td>7</td><td>4</td></tr>",
                            "<tr><td>124</td><td>6</td><td>7</td></tr>",
                            "<tr><td>124</td><td>3</td><td>6</td></tr>",
                            "<tr><td>124</td><td>6</td><td>3</td></tr>",
                            "<tr><td>125</td><td>1</td><td>0</td></tr>",
                            "<tr><td>126</td><td>4</td><td>0</td></tr>",
                            "<tr><td>126</td><td>6</td><td>4</td></tr>",
                            "<tr><td>126</td><td>1</td><td>6</td></tr>",
                            "<tr><td>126</td><td>6</td><td>1</td></tr>",
                            "<tr><td>126</td><td>7</td><td>6</td></tr>",
                            "<tr><td>126</td><td>4</td><td>7</td></tr>",
                            "<tr><td>127</td><td>2</td><td>0</td></tr>",
                            "<tr><td>127</td><td>5</td><td>2</td></tr>",
                            "<tr><td>127</td><td>2</td><td>5</td></tr>",
                            "<tr><td>127</td><td>6</td><td>2</td></tr>",
                            "<tr><td>127</td><td>5</td><td>6</td></tr>",
                            "<tr><td>127</td><td>1</td><td>5</td></tr>",
                            "<tr><td>127</td><td>5</td><td>1</td></tr>",
                            "<tr><td>128</td><td>2</td><td>0</td></tr>",
                            "<tr><td>128</td><td>1</td><td>2</td></tr>",
                            "<tr><td>128</td><td>1</td><td>1</td></tr>",
                            "<tr><td>128</td><td>1</td><td>1</td></tr>",
                            "<tr><td>128</td><td>4</td><td>1</td></tr>",
                            "<tr><td>129</td><td>7</td><td>0</td></tr>",
                            "<tr><td>129</td><td>6</td><td>7</td></tr>",
                            "<tr><td>129</td><td>7</td><td>6</td></tr>",
                            "<tr><td>129</td><td>6</td><td>7</td></tr>",
                            "<tr><td>130</td><td>3</td><td>0</td></tr>",
                            "<tr><td>130</td><td>3</td><td>3</td></tr>",
                            "<tr><td>130</td><td>2</td><td>3</td></tr>",
                            "<tr><td>130</td><td>6</td><td>2</td></tr>",
                            "<tr><td>130</td><td>1</td><td>6</td></tr>",
                            "<tr><td>130</td><td>7</td><td>1</td></tr>",
                            "<tr><td>131</td><td>2</td><td>0</td></tr>",
                            "<tr><td>131</td><td>1</td><td>2</td></tr>",
                            "<tr><td>131</td><td>6</td><td>1</td></tr>",
                            "<tr><td>131</td><td>4</td><td>6</td></tr>",
                            "<tr><td>131</td><td>5</td><td>4</td></tr>",
                            "<tr><td>132</td><td>7</td><td>0</td></tr>",
                            "<tr><td>132</td><td>6</td><td>7</td></tr>",
                            "<tr><td>132</td><td>7</td><td>6</td></tr>",
                            "<tr><td>132</td><td>3</td><td>7</td></tr>",
                            "<tr><td>132</td><td>2</td><td>3</td></tr>",
                            "<tr><td>132</td><td>2</td><td>2</td></tr>",
                            "<tr><td>133</td><td>4</td><td>0</td></tr>",
                            "<tr><td>133</td><td>3</td><td>4</td></tr>",
                            "<tr><td>133</td><td>7</td><td>3</td></tr>",
                            "<tr><td>133</td><td>3</td><td>7</td></tr>",
                            "<tr><td>133</td><td>5</td><td>3</td></tr>",
                            "<tr><td>133</td><td>1</td><td>5</td></tr>",
                            "<tr><td>134</td><td>5</td><td>0</td></tr>",
                            "<tr><td>134</td><td>1</td><td>5</td></tr>",
                            "<tr><td>134</td><td>2</td><td>1</td></tr>",
                            "<tr><td>134</td><td>7</td><td>2</td></tr>",
                            "<tr><td>134</td><td>6</td><td>7</td></tr>",
                            "<tr><td>134</td><td>7</td><td>6</td></tr>",
                            "<tr><td>135</td><td>6</td><td>0</td></tr>",
                            "<tr><td>135</td><td>7</td><td>6</td></tr>",
                            "<tr><td>135</td><td>3</td><td>7</td></tr>",
                            "<tr><td>136</td><td>2</td><td>0</td></tr>",
                            "<tr><td>136</td><td>5</td><td>2</td></tr>",
                            "<tr><td>136</td><td>4</td><td>5</td></tr>",
                            "<tr><td>137</td><td>3</td><td>0</td></tr>",
                            "<tr><td>137</td><td>5</td><td>3</td></tr>",
                            "<tr><td>137</td><td>6</td><td>5</td></tr>",
                            "<tr><td>137</td><td>1</td><td>6</td></tr>",
                            "<tr><td>137</td><td>6</td><td>1</td></tr>",
                            "<tr><td>137</td><td>3</td><td>6</td></tr>",
                            "<tr><td>138</td><td>6</td><td>0</td></tr>",
                            "<tr><td>138</td><td>4</td><td>6</td></tr>",
                            "<tr><td>138</td><td>4</td><td>4</td></tr>",
                            "<tr><td>138</td><td>2</td><td>4</td></tr>",
                            "<tr><td>138</td><td>5</td><td>2</td></tr>",
                            "<tr><td>138</td><td>7</td><td>5</td></tr>",
                            "<tr><td>138</td><td>5</td><td>7</td></tr>",
                            "<tr><td>139</td><td>2</td><td>0</td></tr>",
                            "<tr><td>139</td><td>1</td><td>2</td></tr>",
                            "<tr><td>139</td><td>4</td><td>1</td></tr>",
                            "<tr><td>139</td><td>2</td><td>4</td></tr>",
                            "<tr><td>139</td><td>6</td><td>2</td></tr>",
                            "<tr><td>139</td><td>6</td><td>6</td></tr>",
                            "<tr><td>139</td><td>7</td><td>6</td></tr>",
                            "<tr><td>140</td><td>2</td><td>0</td></tr>",
                            "<tr><td>140</td><td>1</td><td>2</td></tr>",
                            "<tr><td>140</td><td>2</td><td>1</td></tr>",
                            "<tr><td>140</td><td>3</td><td>2</td></tr>",
                            "<tr><td>140</td><td>7</td><td>3</td></tr>",
                            "<tr><td>140</td><td>4</td><td>7</td></tr>",
                            "<tr><td>140</td><td>3</td><td>4</td></tr>",
                            "<tr><td>140</td><td>1</td><td>3</td></tr>",
                            "<tr><td>141</td><td>6</td><td>0</td></tr>",
                            "<tr><td>141</td><td>2</td><td>6</td></tr>",
                            "<tr><td>141</td><td>3</td><td>2</td></tr>",
                            "<tr><td>141</td><td>7</td><td>3</td></tr>",
                            "<tr><td>141</td><td>4</td><td>7</td></tr>",
                            "<tr><td>141</td><td>6</td><td>4</td></tr>",
                            "<tr><td>142</td><td>6</td><td>0</td></tr>",
                            "<tr><td>142</td><td>3</td><td>6</td></tr>",
                            "<tr><td>143</td><td>3</td><td>0</td></tr>",
                            "<tr><td>143</td><td>7</td><td>3</td></tr>",
                            "<tr><td>143</td><td>6</td><td>7</td></tr>",
                            "<tr><td>143</td><td>2</td><td>6</td></tr>",
                            "<tr><td>143</td><td>4</td><td>2</td></tr>",
                            "<tr><td>143</td><td>3</td><td>4</td></tr>",
                            "<tr><td>143</td><td>6</td><td>3</td></tr>",
                            "<tr><td>144</td><td>4</td><td>0</td></tr>",
                            "<tr><td>144</td><td>2</td><td>4</td></tr>",
                            "<tr><td>144</td><td>7</td><td>2</td></tr>",
                            "<tr><td>144</td><td>1</td><td>7</td></tr>",
                            "<tr><td>144</td><td>2</td><td>1</td></tr>",
                            "<tr><td>145</td><td>4</td><td>0</td></tr>",
                            "<tr><td>145</td><td>1</td><td>4</td></tr>",
                            "<tr><td>145</td><td>1</td><td>1</td></tr>",
                            "<tr><td>145</td><td>4</td><td>1</td></tr>",
                            "<tr><td>145</td><td>2</td><td>4</td></tr>",
                            "<tr><td>145</td><td>1</td><td>2</td></tr>",
                            "<tr><td>146</td><td>3</td><td>0</td></tr>",
                            "<tr><td>146</td><td>3</td><td>3</td></tr>",
                            "<tr><td>146</td><td>7</td><td>3</td></tr>",
                            "<tr><td>146</td><td>7</td><td>7</td></tr>",
                            "<tr><td>146</td><td>5</td><td>7</td></tr>",
                            "<tr><td>146</td><td>6</td><td>5</td></tr>",
                            "<tr><td>147</td><td>4</td><td>0</td></tr>",
                            "<tr><td>148</td><td>4</td><td>0</td></tr>",
                            "<tr><td>148</td><td>3</td><td>4</td></tr>",
                            "<tr><td>148</td><td>7</td><td>3</td></tr>",
                            "<tr><td>148</td><td>2</td><td>7</td></tr>",
                            "<tr><td>148</td><td>6</td><td>2</td></tr>",
                            "<tr><td>148</td><td>7</td><td>6</td></tr>",
                            "<tr><td>149</td><td>1</td><td>0</td></tr>",
                            "<tr><td>149</td><td>1</td><td>1</td></tr>",
                            "<tr><td>149</td><td>2</td><td>1</td></tr>",
                            "<tr><td>149</td><td>5</td><td>2</td></tr>",
                            "<tr><td>149</td><td>4</td><td>5</td></tr>",
                            "<tr><td>149</td><td>6</td><td>4</td></tr>",
                            "<tr><td>149</td><td>5</td><td>6</td></tr>",
                            "<tr><td>150</td><td>3</td><td>0</td></tr>",
                            "<tr><td>150</td><td>5</td><td>3</td></tr>",
                            "<tr><td>150</td><td>1</td><td>5</td></tr>",
                            "<tr><td>150</td><td>1</td><td>1</td></tr>",
                            "<tr><td>150</td><td>4</td><td>1</td></tr>",
                            "<tr><td>150</td><td>3</td><td>4</td></tr>",
                            "<tr><td>151</td><td>3</td><td>0</td></tr>",
                            "<tr><td>151</td><td>3</td><td>3</td></tr>",
                            "<tr><td>151</td><td>3</td><td>3</td></tr>",
                            "<tr><td>152</td><td>2</td><td>0</td></tr>",
                            "<tr><td>152</td><td>7</td><td>2</td></tr>",
                            "<tr><td>152</td><td>6</td><td>7</td></tr>",
                            "<tr><td>152</td><td>2</td><td>6</td></tr>",
                            "<tr><td>153</td><td>3</td><td>0</td></tr>",
                            "<tr><td>153</td><td>6</td><td>3</td></tr>",
                            "<tr><td>153</td><td>3</td><td>6</td></tr>",
                            "<tr><td>153</td><td>5</td><td>3</td></tr>",
                            "<tr><td>153</td><td>3</td><td>5</td></tr>",
                            "<tr><td>154</td><td>1</td><td>0</td></tr>",
                            "<tr><td>154</td><td>7</td><td>1</td></tr>",
                            "<tr><td>154</td><td>6</td><td>7</td></tr>",
                            "<tr><td>154</td><td>1</td><td>6</td></tr>",
                            "<tr><td>154</td><td>2</td><td>1</td></tr>",
                            "<tr><td>155</td><td>1</td><td>0</td></tr>",
                            "<tr><td>155</td><td>3</td><td>1</td></tr>",
                            "<tr><td>155</td><td>4</td><td>3</td></tr>",
                            "<tr><td>155</td><td>1</td><td>4</td></tr>",
                            "<tr><td>155</td><td>1</td><td>1</td></tr>",
                            "<tr><td>156</td><td>7</td><td>0</td></tr>",
                            "<tr><td>156</td><td>3</td><td>7</td></tr>",
                            "<tr><td>156</td><td>6</td><td>3</td></tr>",
                            "<tr><td>156</td><td>6</td><td>6</td></tr>",
                            "<tr><td>156</td><td>7</td><td>6</td></tr>",
                            "<tr><td>156</td><td>1</td><td>7</td></tr>",
                            "<tr><td>156</td><td>4</td><td>1</td></tr>",
                            "<tr><td>157</td><td>4</td><td>0</td></tr>",
                            "<tr><td>157</td><td>3</td><td>4</td></tr>",
                            "<tr><td>157</td><td>4</td><td>3</td></tr>",
                            "<tr><td>157</td><td>7</td><td>4</td></tr>",
                            "<tr><td>157</td><td>3</td><td>7</td></tr>",
                            "<tr><td>158</td><td>4</td><td>0</td></tr>",
                            "<tr><td>158</td><td>4</td><td>4</td></tr>",
                            "<tr><td>158</td><td>3</td><td>4</td></tr>",
                            "<tr><td>160</td><td>2</td><td>0</td></tr>",
                            "<tr><td>160</td><td>4</td><td>2</td></tr>",
                            "<tr><td>160</td><td>4</td><td>4</td></tr>",
                            "<tr><td>160</td><td>2</td><td>4</td></tr>",
                            "<tr><td>160</td><td>3</td><td>2</td></tr>",
                            "<tr><td>161</td><td>4</td><td>0</td></tr>",
                            "<tr><td>161</td><td>7</td><td>4</td></tr>",
                            "<tr><td>161</td><td>4</td><td>7</td></tr>",
                            "<tr><td>161</td><td>6</td><td>4</td></tr>",
                            "<tr><td>161</td><td>7</td><td>6</td></tr>",
                            "<tr><td>161</td><td>4</td><td>7</td></tr>",
                            "<tr><td>162</td><td>4</td><td>0</td></tr>",
                            "<tr><td>162</td><td>6</td><td>4</td></tr>",
                            "<tr><td>162</td><td>1</td><td>6</td></tr>",
                            "<tr><td>163</td><td>2</td><td>0</td></tr>",
                            "<tr><td>163</td><td>1</td><td>2</td></tr>",
                            "<tr><td>163</td><td>3</td><td>1</td></tr>",
                            "<tr><td>163</td><td>4</td><td>3</td></tr>",
                            "<tr><td>163</td><td>3</td><td>4</td></tr>",
                            "<tr><td>163</td><td>5</td><td>3</td></tr>",
                            "<tr><td>163</td><td>3</td><td>5</td></tr>",
                            "<tr><td>164</td><td>7</td><td>0</td></tr>",
                            "<tr><td>164</td><td>2</td><td>7</td></tr>",
                            "<tr><td>164</td><td>6</td><td>2</td></tr>",
                            "<tr><td>164</td><td>4</td><td>6</td></tr>",
                            "<tr><td>164</td><td>2</td><td>4</td></tr>",
                            "<tr><td>165</td><td>3</td><td>0</td></tr>",
                            "<tr><td>165</td><td>5</td><td>3</td></tr>",
                            "<tr><td>165</td><td>6</td><td>5</td></tr>",
                            "<tr><td>165</td><td>6</td><td>6</td></tr>",
                            "<tr><td>165</td><td>3</td><td>6</td></tr>",
                            "<tr><td>165</td><td>1</td><td>3</td></tr>",
                            "<tr><td>165</td><td>4</td><td>1</td></tr>",
                            "<tr><td>166</td><td>7</td><td>0</td></tr>",
                            "<tr><td>166</td><td>7</td><td>7</td></tr>",
                            "<tr><td>166</td><td>2</td><td>7</td></tr>",
                            "<tr><td>167</td><td>7</td><td>0</td></tr>",
                            "<tr><td>167</td><td>3</td><td>7</td></tr>",
                            "<tr><td>168</td><td>3</td><td>0</td></tr>",
                            "<tr><td>168</td><td>3</td><td>3</td></tr>",
                            "<tr><td>168</td><td>4</td><td>3</td></tr>",
                            "<tr><td>168</td><td>4</td><td>4</td></tr>",
                            "<tr><td>168</td><td>4</td><td>4</td></tr>",
                            "<tr><td>169</td><td>5</td><td>0</td></tr>",
                            "<tr><td>169</td><td>6</td><td>5</td></tr>",
                            "<tr><td>169</td><td>1</td><td>6</td></tr>",
                            "<tr><td>169</td><td>7</td><td>1</td></tr>",
                            "<tr><td>169</td><td>4</td><td>7</td></tr>",
                            "<tr><td>169</td><td>1</td><td>4</td></tr>",
                            "<tr><td>170</td><td>7</td><td>0</td></tr>",
                            "<tr><td>170</td><td>4</td><td>7</td></tr>",
                            "<tr><td>170</td><td>4</td><td>4</td></tr>",
                            "<tr><td>170</td><td>7</td><td>4</td></tr>",
                            "<tr><td>170</td><td>6</td><td>7</td></tr>",
                            "<tr><td>171</td><td>2</td><td>0</td></tr>",
                            "<tr><td>171</td><td>4</td><td>2</td></tr>",
                            "<tr><td>171</td><td>6</td><td>4</td></tr>",
                            "<tr><td>171</td><td>5</td><td>6</td></tr>",
                            "<tr><td>171</td><td>6</td><td>5</td></tr>",
                            "<tr><td>172</td><td>4</td><td>0</td></tr>",
                            "<tr><td>172</td><td>5</td><td>4</td></tr>",
                            "<tr><td>172</td><td>6</td><td>5</td></tr>",
                            "<tr><td>172</td><td>5</td><td>6</td></tr>",
                            "<tr><td>172</td><td>4</td><td>5</td></tr>",
                            "<tr><td>172</td><td>5</td><td>4</td></tr>",
                            "<tr><td>172</td><td>5</td><td>5</td></tr>",
                            "<tr><td>172</td><td>5</td><td>5</td></tr>",
                            "<tr><td>172</td><td>2</td><td>5</td></tr>",
                            "<tr><td>173</td><td>1</td><td>0</td></tr>",
                            "<tr><td>173</td><td>7</td><td>1</td></tr>",
                            "<tr><td>173</td><td>3</td><td>7</td></tr>",
                            "<tr><td>173</td><td>4</td><td>3</td></tr>",
                            "<tr><td>174</td><td>2</td><td>0</td></tr>",
                            "<tr><td>174</td><td>5</td><td>2</td></tr>",
                            "<tr><td>174</td><td>3</td><td>5</td></tr>",
                            "<tr><td>174</td><td>1</td><td>3</td></tr>",
                            "<tr><td>175</td><td>6</td><td>0</td></tr>",
                            "<tr><td>175</td><td>4</td><td>6</td></tr>",
                            "<tr><td>175</td><td>5</td><td>4</td></tr>",
                            "<tr><td>175</td><td>2</td><td>5</td></tr>",
                            "<tr><td>175</td><td>7</td><td>2</td></tr>",
                            "<tr><td>176</td><td>5</td><td>0</td></tr>",
                            "<tr><td>176</td><td>6</td><td>5</td></tr>",
                            "<tr><td>176</td><td>6</td><td>6</td></tr>",
                            "<tr><td>176</td><td>4</td><td>6</td></tr>",
                            "<tr><td>176</td><td>2</td><td>4</td></tr>",
                            "<tr><td>176</td><td>3</td><td>2</td></tr>",
                            "<tr><td>177</td><td>3</td><td>0</td></tr>",
                            "<tr><td>177</td><td>7</td><td>3</td></tr>",
                            "<tr><td>177</td><td>3</td><td>7</td></tr>",
                            "<tr><td>177</td><td>3</td><td>3</td></tr>",
                            "<tr><td>178</td><td>7</td><td>0</td></tr>",
                            "<tr><td>178</td><td>4</td><td>7</td></tr>",
                            "<tr><td>178</td><td>3</td><td>4</td></tr>",
                            "<tr><td>178</td><td>1</td><td>3</td></tr>",
                            "<tr><td>179</td><td>2</td><td>0</td></tr>",
                            "<tr><td>179</td><td>1</td><td>2</td></tr>",
                            "<tr><td>179</td><td>1</td><td>1</td></tr>",
                            "<tr><td>180</td><td>5</td><td>0</td></tr>",
                            "<tr><td>180</td><td>3</td><td>5</td></tr>",
                            "<tr><td>180</td><td>6</td><td>3</td></tr>",
                            "<tr><td>181</td><td>3</td><td>0</td></tr>",
                            "<tr><td>181</td><td>5</td><td>3</td></tr>",
                            "<tr><td>181</td><td>1</td><td>5</td></tr>",
                            "<tr><td>181</td><td>4</td><td>1</td></tr>",
                            "<tr><td>181</td><td>6</td><td>4</td></tr>",
                            "<tr><td>181</td><td>6</td><td>6</td></tr>",
                            "<tr><td>182</td><td>2</td><td>0</td></tr>",
                            "<tr><td>182</td><td>2</td><td>2</td></tr>",
                            "<tr><td>182</td><td>6</td><td>2</td></tr>",
                            "<tr><td>182</td><td>3</td><td>6</td></tr>",
                            "<tr><td>182</td><td>1</td><td>3</td></tr>",
                            "<tr><td>182</td><td>7</td><td>1</td></tr>",
                            "<tr><td>182</td><td>4</td><td>7</td></tr>",
                            "<tr><td>182</td><td>1</td><td>4</td></tr>",
                            "<tr><td>182</td><td>3</td><td>1</td></tr>",
                            "<tr><td>182</td><td>4</td><td>3</td></tr>",
                            "<tr><td>182</td><td>4</td><td>4</td></tr>",
                            "<tr><td>182</td><td>3</td><td>4</td></tr>",
                            "<tr><td>183</td><td>4</td><td>0</td></tr>",
                            "<tr><td>183</td><td>7</td><td>4</td></tr>",
                            "<tr><td>183</td><td>4</td><td>7</td></tr>",
                            "<tr><td>183</td><td>4</td><td>4</td></tr>",
                            "<tr><td>184</td><td>2</td><td>0</td></tr>",
                            "<tr><td>184</td><td>4</td><td>2</td></tr>",
                            "<tr><td>184</td><td>3</td><td>4</td></tr>",
                            "<tr><td>184</td><td>4</td><td>3</td></tr>",
                            "<tr><td>185</td><td>6</td><td>0</td></tr>",
                            "<tr><td>185</td><td>4</td><td>6</td></tr>",
                            "<tr><td>185</td><td>4</td><td>4</td></tr>",
                            "<tr><td>185</td><td>6</td><td>4</td></tr>",
                            "<tr><td>185</td><td>3</td><td>6</td></tr>",
                            "<tr><td>185</td><td>5</td><td>3</td></tr>",
                            "<tr><td>185</td><td>2</td><td>5</td></tr>",
                            "<tr><td>185</td><td>3</td><td>2</td></tr>",
                            "<tr><td>185</td><td>3</td><td>3</td></tr>",
                            "<tr><td>185</td><td>5</td><td>3</td></tr>",
                            "<tr><td>185</td><td>7</td><td>5</td></tr>",
                            "<tr><td>185</td><td>7</td><td>7</td></tr>",
                            "<tr><td>186</td><td>3</td><td>0</td></tr>",
                            "<tr><td>186</td><td>3</td><td>3</td></tr>",
                            "<tr><td>186</td><td>2</td><td>3</td></tr>",
                            "<tr><td>186</td><td>3</td><td>2</td></tr>",
                            "<tr><td>187</td><td>6</td><td>0</td></tr>",
                            "<tr><td>187</td><td>4</td><td>6</td></tr>",
                            "<tr><td>187</td><td>4</td><td>4</td></tr>",
                            "<tr><td>187</td><td>6</td><td>4</td></tr>",
                            "<tr><td>187</td><td>2</td><td>6</td></tr>",
                            "<tr><td>187</td><td>1</td><td>2</td></tr>",
                            "<tr><td>187</td><td>2</td><td>1</td></tr>",
                            "<tr><td>188</td><td>1</td><td>0</td></tr>",
                            "<tr><td>188</td><td>4</td><td>1</td></tr>",
                            "<tr><td>188</td><td>7</td><td>4</td></tr>",
                            "<tr><td>188</td><td>3</td><td>7</td></tr>",
                            "<tr><td>188</td><td>4</td><td>3</td></tr>",
                            "<tr><td>188</td><td>5</td><td>4</td></tr>",
                            "<tr><td>189</td><td>2</td><td>0</td></tr>",
                            "<tr><td>189</td><td>1</td><td>2</td></tr>",
                            "<tr><td>189</td><td>2</td><td>1</td></tr>",
                            "<tr><td>189</td><td>2</td><td>2</td></tr>",
                            "<tr><td>189</td><td>3</td><td>2</td></tr>",
                            "<tr><td>190</td><td>7</td><td>0</td></tr>",
                            "<tr><td>190</td><td>1</td><td>7</td></tr>",
                            "<tr><td>190</td><td>1</td><td>1</td></tr>",
                            "<tr><td>190</td><td>5</td><td>1</td></tr>",
                            "<tr><td>190</td><td>5</td><td>5</td></tr>",
                            "<tr><td>191</td><td>6</td><td>0</td></tr>",
                            "<tr><td>191</td><td>1</td><td>6</td></tr>",
                            "<tr><td>191</td><td>7</td><td>1</td></tr>",
                            "<tr><td>191</td><td>2</td><td>7</td></tr>",
                            "<tr><td>191</td><td>7</td><td>2</td></tr>",
                            "<tr><td>192</td><td>7</td><td>0</td></tr>",
                            "<tr><td>192</td><td>4</td><td>7</td></tr>",
                            "<tr><td>193</td><td>6</td><td>0</td></tr>",
                            "<tr><td>193</td><td>1</td><td>6</td></tr>",
                            "<tr><td>193</td><td>2</td><td>1</td></tr>",
                            "<tr><td>193</td><td>2</td><td>2</td></tr>",
                            "<tr><td>193</td><td>2</td><td>2</td></tr>",
                            "<tr><td>193</td><td>6</td><td>2</td></tr>",
                            "<tr><td>193</td><td>6</td><td>6</td></tr>",
                            "<tr><td>194</td><td>5</td><td>0</td></tr>",
                            "<tr><td>195</td><td>4</td><td>0</td></tr>",
                            "<tr><td>195</td><td>4</td><td>4</td></tr>",
                            "<tr><td>195</td><td>7</td><td>4</td></tr>",
                            "<tr><td>195</td><td>5</td><td>7</td></tr>",
                            "<tr><td>195</td><td>7</td><td>5</td></tr>",
                            "<tr><td>195</td><td>1</td><td>7</td></tr>",
                            "<tr><td>196</td><td>3</td><td>0</td></tr>",
                            "<tr><td>196</td><td>5</td><td>3</td></tr>",
                            "<tr><td>196</td><td>5</td><td>5</td></tr>",
                            "<tr><td>196</td><td>5</td><td>5</td></tr>",
                            "<tr><td>197</td><td>7</td><td>0</td></tr>",
                            "<tr><td>197</td><td>7</td><td>7</td></tr>",
                            "<tr><td>197</td><td>7</td><td>7</td></tr>",
                            "<tr><td>197</td><td>7</td><td>7</td></tr>",
                            "<tr><td>197</td><td>7</td><td>7</td></tr>",
                            "<tr><td>197</td><td>3</td><td>7</td></tr>",
                            "<tr><td>198</td><td>1</td><td>0</td></tr>",
                            "<tr><td>198</td><td>7</td><td>1</td></tr>",
                            "<tr><td>198</td><td>3</td><td>7</td></tr>",
                            "<tr><td>198</td><td>1</td><td>3</td></tr>",
                            "<tr><td>198</td><td>5</td><td>1</td></tr>",
                            "<tr><td>198</td><td>5</td><td>5</td></tr>",
                            "<tr><td>198</td><td>7</td><td>5</td></tr>",
                            "<tr><td>198</td><td>5</td><td>7</td></tr>",
                            "</table>"
                        ]
                    }
                }
            ],
            "execution_count": 8
        },
        {
            "cell_type": "code",
            "source": [
                ""
            ],
            "metadata": {
                "azdata_cell_guid": "ff4bcf16-9d21-4cd9-99ef-2c7876957612",
                "language": "sql"
            },
            "outputs": [],
            "execution_count": null
        }
    ]
}